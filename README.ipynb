{
 "cells": [
  {
   "cell_type": "markdown",
   "metadata": {},
   "source": [
    "# DEEP learning in bio NLP\n",
    "\n",
    "### background\n",
    "Natural Languague Processing (NLP) used to be one of the most feature engineering intense fields like Computer Vision. \n",
    "Deep learning so far has been hugely successful in computer vision undoubtly. \n",
    "From my undergrad to phd, I have personally been mind blown by deep learning has transformed the paradigm of vision field. It used to take years of painful feature engineering to gain modest improvements. Now it take only day(s) to write <100 lines of code to yield an accuracy that finds real world applications in days. \n",
    "\n",
    "NLP is somewhat undergoing the same transformation. The particular field in consideration in here is biological NLP (bioNLP).\n",
    "Biological text is complicated and most of the current bio NLP approaches rely on manual feature engineering. For example, in tokenization, synonyms of gene names idealistically can map to the same token, but gene names are inherently getting updated for human over time. \n",
    "On of the most successful story in NLP is Google. \n",
    "\n",
    "The key characteristic of why Google beat the competition was that the search was curation free.\n",
    "\n",
    "\n",
    "\n",
    "\n",
    "###  notebooks\n",
    "\n",
    "|Code| Usage| \n",
    "|:--------------:|------:|\n",
    "|downloadFromPMC.ipynb|download the pubmed text|\n",
    "|train_pmc_word2vec.ipynb| Train a word2vec model based on pubmed text|\n",
    "|keras_on_sra_data.ipynb| Train an entity recognition model using SRA meta data |\n",
    "\n",
    "|Data| Usage|\n",
    "|:--------------:|------:|\n",
    "|https://www.synapse.org/#!Synapse:syn11421651 | all SRS annotations|\n",
    "| https://www.synapse.org/#!Synapse:syn11421649 | all SRX annotations|\n",
    "|ftp://ftp.ncbi.nlm.nih.gov/pub/pmc/PMC-ids.csv.gz|PUBMED ID conversions|\n",
    "\n",
    "### depending packages\n",
    "if u have anaconda, simply: \n",
    "\n"
   ]
  },
  {
   "cell_type": "code",
   "execution_count": null,
   "metadata": {},
   "outputs": [],
   "source": [
    "!pip install keras gensim  nltk spacy tensorflow\n"
   ]
  },
  {
   "cell_type": "markdown",
   "metadata": {},
   "source": [
    "\n",
    "\n",
    "### License\n",
    "This work is under Creative Commons Attribution license. This work is unpublished at the moment. Please attribute this work by citing the github page. \n"
   ]
  },
  {
   "cell_type": "markdown",
   "metadata": {},
   "source": [
    "automatically update the notebook with data"
   ]
  },
  {
   "cell_type": "markdown",
   "metadata": {},
   "source": [
    "# scratch\n",
    "Please ignore the bottom parts, it's just for my convenience. "
   ]
  },
  {
   "cell_type": "code",
   "execution_count": null,
   "metadata": {},
   "outputs": [],
   "source": [
    "!jupyter nbconvert --to markdown README.ipynb\n"
   ]
  },
  {
   "cell_type": "code",
   "execution_count": null,
   "metadata": {},
   "outputs": [],
   "source": [
    "#!git add README.md"
   ]
  },
  {
   "cell_type": "code",
   "execution_count": null,
   "metadata": {},
   "outputs": [],
   "source": [
    "!git commit -m \"put most files in \""
   ]
  },
  {
   "cell_type": "code",
   "execution_count": null,
   "metadata": {},
   "outputs": [],
   "source": [
    "!git push "
   ]
  },
  {
   "cell_type": "markdown",
   "metadata": {},
   "source": [
    "### status \n",
    "retraining the word2vec models\n",
    "\n",
    "training the word2vec using the entire PMC now: \n",
    "train_pmc_word2vec.ipynb\n"
   ]
  },
  {
   "cell_type": "code",
   "execution_count": null,
   "metadata": {},
   "outputs": [],
   "source": [
    "%%bash\n",
    "cd ./Data/\n",
    "wget ftp://ftp.ncbi.nlm.nih.gov/pub/pmc/PMC-ids.csv.gz"
   ]
  },
  {
   "cell_type": "code",
   "execution_count": null,
   "metadata": {},
   "outputs": [],
   "source": [
    "!gunzip -c ./Data/PMC-ids.csv.gz | head"
   ]
  },
  {
   "cell_type": "code",
   "execution_count": null,
   "metadata": {},
   "outputs": [],
   "source": []
  }
 ],
 "metadata": {
  "kernelspec": {
   "display_name": "Python 3",
   "language": "python",
   "name": "python3"
  },
  "language_info": {
   "codemirror_mode": {
    "name": "ipython",
    "version": 3
   },
   "file_extension": ".py",
   "mimetype": "text/x-python",
   "name": "python",
   "nbconvert_exporter": "python",
   "pygments_lexer": "ipython3",
   "version": "3.6.5"
  }
 },
 "nbformat": 4,
 "nbformat_minor": 2
}
