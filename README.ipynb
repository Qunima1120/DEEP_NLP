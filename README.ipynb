{
 "cells": [
  {
   "cell_type": "markdown",
   "metadata": {},
   "source": [
    "# DEEP learning in bio NLP\n",
    "\n",
    "### background\n",
    "Named entity recognition (NER) is an important technique that promises to improve information classification and retrieval in biomedical natural language processing (NLP). However, existing approaches primarily rely on either laborious manual curation or feature engineering. Here we adopt deep learning techniques in NLP and repurpose the vast amount of entity-freetext pairs available in the Sequence Read Archive (SRA) to train a scalable NER model. \n",
    "\n",
    "\n",
    "###  notebooks\n",
    "\n",
    "|Code| Usage| \n",
    "|:--------------:|------:|\n",
    "|downloadFromPMC.ipynb|download the pubmed text|\n",
    "|train_pmc_word2vec.ipynb| Train a word2vec model based on pubmed text|\n",
    "|keras_on_sra_data.ipynb| Train an entity recognition model using SRA meta data |\n",
    "\n",
    "|Data| Usage|\n",
    "|:--------------:|------:|\n",
    "|https://www.synapse.org/#!Synapse:syn11421651 | all SRS annotations|\n",
    "| https://www.synapse.org/#!Synapse:syn11421649 | all SRX annotations|\n",
    "|ftp://ftp.ncbi.nlm.nih.gov/pub/pmc/PMC-ids.csv.gz|PUBMED ID conversions|\n",
    "\n",
    "### depending packages\n",
    "if u have anaconda, install relevant packages using command line: \n",
    "\n"
   ]
  },
  {
   "cell_type": "code",
   "execution_count": null,
   "metadata": {},
   "outputs": [],
   "source": [
    "!pip install keras gensim  nltk spacy tensorflow\n"
   ]
  },
  {
   "cell_type": "markdown",
   "metadata": {},
   "source": [
    "\n",
    "\n",
    "### License\n",
    "This work is under Creative Commons Attribution license. This work is unpublished at the moment. Please attribute this work by citing the github page. \n"
   ]
  },
  {
   "cell_type": "markdown",
   "metadata": {},
   "source": [
    "automatically update the notebook with data"
   ]
  },
  {
   "cell_type": "markdown",
   "metadata": {},
   "source": [
    "# scratch\n",
    "Please ignore the bottom parts, it's just for my convenience. "
   ]
  },
  {
   "cell_type": "code",
   "execution_count": 6,
   "metadata": {},
   "outputs": [
    {
     "name": "stdout",
     "output_type": "stream",
     "text": [
      "[NbConvertApp] Converting notebook README.ipynb to markdown\n",
      "[NbConvertApp] Writing 2486 bytes to README.md\n"
     ]
    }
   ],
   "source": [
    "!jupyter nbconvert --to markdown README.ipynb\n"
   ]
  },
  {
   "cell_type": "code",
   "execution_count": 24,
   "metadata": {},
   "outputs": [
    {
     "name": "stdout",
     "output_type": "stream",
     "text": [
      "Data\t\t\t      model\r\n",
      "NCBI_harmonized_names.ipynb   nGramClassification_simple.ipynb\r\n",
      "NCIT_parsing.ipynb\t      pmc_word2_vec\r\n",
      "README.ipynb\t\t      pubmed\r\n",
      "README.md\t\t      read_embedding_matrix.ipynb\r\n",
      "Results\t\t\t      read_word_vector_matrix.ipynb\r\n",
      "Thesaurus.txt\t\t      semantic_count.csv\r\n",
      "Untitled.ipynb\t\t      testPhraseMatcher.ipynb\r\n",
      "Untitled9.ipynb\t\t      tmp.tsv\r\n",
      "analyzeBioNLPEmbedding.ipynb  tmp.txt\r\n",
      "analyzeSRAEntities.ipynb      tmpResults\r\n",
      "downloadFromPMC.ipynb\t      tmpResults.xlsx\r\n",
      "downloadPubmed.ipynb\t      track_word_count_and_embedding_size.ipynb\r\n",
      "download_wordvectors.ipynb    train_pmc_word2vec.ipynb\r\n",
      "keras_on_sra_data.ipynb       train_pmc_word2vec.py\r\n",
      "keras_on_sra_data_old.ipynb   wikipedia-pubmed-and-PMC-w2v\r\n",
      "merge.pmc\t\t      wikipedia-pubmed-and-PMC-w2v.bin\r\n",
      "mergeEntities.ipynb\r\n"
     ]
    }
   ],
   "source": [
    "!ls "
   ]
  },
  {
   "cell_type": "code",
   "execution_count": 1,
   "metadata": {},
   "outputs": [],
   "source": [
    "#README.ipynb README.md keras_on_sra_data.ipynb\n",
    "!git add keras_on_sra_data.ipynb nGramClassification_simple.ipynb"
   ]
  },
  {
   "cell_type": "code",
   "execution_count": 2,
   "metadata": {},
   "outputs": [
    {
     "name": "stdout",
     "output_type": "stream",
     "text": [
      "[master d4f1614] updated n gram classification to use max\r\n",
      " 2 files changed, 505 insertions(+), 120 deletions(-)\r\n",
      " create mode 100644 nGramClassification_simple.ipynb\r\n"
     ]
    }
   ],
   "source": [
    "!git commit -m \"updated n gram classification to use max\""
   ]
  },
  {
   "cell_type": "code",
   "execution_count": 3,
   "metadata": {},
   "outputs": [
    {
     "name": "stdout",
     "output_type": "stream",
     "text": [
      "warning: push.default is unset; its implicit value has changed in\n",
      "Git 2.0 from 'matching' to 'simple'. To squelch this message\n",
      "and maintain the traditional behavior, use:\n",
      "\n",
      "  git config --global push.default matching\n",
      "\n",
      "To squelch this message and adopt the new behavior now, use:\n",
      "\n",
      "  git config --global push.default simple\n",
      "\n",
      "When push.default is set to 'matching', git will push local branches\n",
      "to the remote branches that already exist with the same name.\n",
      "\n",
      "Since Git 2.0, Git defaults to the more conservative 'simple'\n",
      "behavior, which only pushes the current branch to the corresponding\n",
      "remote branch that 'git pull' uses to update the current branch.\n",
      "\n",
      "See 'git help config' and search for 'push.default' for further information.\n",
      "(the 'simple' mode was introduced in Git 1.7.11. Use the similar mode\n",
      "'current' instead of 'simple' if you sometimes use older versions of Git)\n",
      "\n",
      "Counting objects: 7, done.\n",
      "Delta compression using up to 96 threads.\n",
      "Compressing objects: 100% (7/7), done.\n",
      "Writing objects: 100% (7/7), 25.31 KiB | 0 bytes/s, done.\n",
      "Total 7 (delta 3), reused 0 (delta 0)\n",
      "remote: Resolving deltas: 100% (3/3), completed with 1 local object.\u001b[K\n",
      "To git@github.com:brianyiktaktsui/DEEP_NLP.git\n",
      "   14fac8c..d4f1614  master -> master\n"
     ]
    }
   ],
   "source": [
    "!git push "
   ]
  },
  {
   "cell_type": "markdown",
   "metadata": {},
   "source": [
    "### status \n",
    "retraining the word2vec models\n",
    "\n",
    "training the word2vec using the entire PMC now: \n",
    "train_pmc_word2vec.ipynb\n"
   ]
  },
  {
   "cell_type": "code",
   "execution_count": null,
   "metadata": {},
   "outputs": [],
   "source": [
    "%%bash\n",
    "cd ./Data/\n",
    "#wget ftp://ftp.ncbi.nlm.nih.gov/pub/pmc/PMC-ids.csv.gz"
   ]
  },
  {
   "cell_type": "code",
   "execution_count": 22,
   "metadata": {},
   "outputs": [
    {
     "name": "stdout",
     "output_type": "stream",
     "text": [
      "Journal Title,ISSN,eISSN,Year,Volume,Issue,Page,DOI,PMCID,PMID,Manuscript Id,Release Date\r",
      "\r\n",
      "Breast Cancer Res,1465-5411,1465-542X,2000,3,1,55,,PMC13900,11250746,,live\r",
      "\r\n",
      "Breast Cancer Res,1465-5411,1465-542X,2000,3,1,61,,PMC13901,11250747,,live\r",
      "\r\n",
      "Breast Cancer Res,1465-5411,1465-542X,2000,3,1,66,,PMC13902,11250748,,live\r",
      "\r\n",
      "Breast Cancer Res,1465-5411,1465-542X,1999,2,1,59,10.1186/bcr29,PMC13911,11056684,,live\r",
      "\r\n",
      "Breast Cancer Res,1465-5411,1465-542X,1999,2,1,64,,PMC13912,11400682,,live\r",
      "\r\n",
      "Breast Cancer Res,1465-5411,1465-542X,1999,1,1,73,10.1186/bcr16,PMC13913,11056681,,live\r",
      "\r\n",
      "Breast Cancer Res,1465-5411,1465-542X,1999,1,1,81,10.1186/bcr17,PMC13914,11056682,,live\r",
      "\r\n",
      "Breast Cancer Res,1465-5411,1465-542X,1999,1,1,88,10.1186/bcr18,PMC13915,11056683,,live\r",
      "\r\n",
      "Breast Cancer Res,1465-5411,1465-542X,2000,2,2,139,10.1186/bcr45,PMC13916,11056686,,live\r",
      "\r\n",
      "\r\n",
      "gzip: stdout: Broken pipe\r\n"
     ]
    }
   ],
   "source": [
    "!gunzip -c ./Data/PMC-ids.csv.gz | head"
   ]
  },
  {
   "cell_type": "code",
   "execution_count": null,
   "metadata": {},
   "outputs": [],
   "source": []
  }
 ],
 "metadata": {
  "kernelspec": {
   "display_name": "Python 3",
   "language": "python",
   "name": "python3"
  },
  "language_info": {
   "codemirror_mode": {
    "name": "ipython",
    "version": 3
   },
   "file_extension": ".py",
   "mimetype": "text/x-python",
   "name": "python",
   "nbconvert_exporter": "python",
   "pygments_lexer": "ipython3",
   "version": "3.6.5"
  }
 },
 "nbformat": 4,
 "nbformat_minor": 2
}
