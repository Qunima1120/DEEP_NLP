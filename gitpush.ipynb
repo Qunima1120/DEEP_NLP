{
 "cells": [
  {
   "cell_type": "code",
   "execution_count": 4,
   "metadata": {},
   "outputs": [
    {
     "name": "stdout",
     "output_type": "stream",
     "text": [
      "[NbConvertApp] Converting notebook README.ipynb to markdown\n",
      "[NbConvertApp] Writing 2469 bytes to README.md\n",
      "[master 1f8a5c9] updated: README\n",
      " 1 file changed, 11 insertions(+), 7 deletions(-)\n",
      "Counting objects: 3, done.\n",
      "Delta compression using up to 96 threads.\n",
      "Compressing objects: 100% (3/3), done.\n",
      "Writing objects: 100% (3/3), 435 bytes | 0 bytes/s, done.\n",
      "Total 3 (delta 2), reused 0 (delta 0)\n",
      "remote: Resolving deltas: 100% (2/2), completed with 2 local objects.\u001b[K\n",
      "To git@github.com:brianyiktaktsui/DEEP_NLP.git\n",
      "   dfd8bdd..1f8a5c9  master -> master\n"
     ]
    }
   ],
   "source": [
    "!jupyter nbconvert --to markdown README.ipynb\n",
    "!git add README.md #./mergeEntities.ipynb\n",
    "!git commit -m \"updated: README\"\n",
    "!git push "
   ]
  },
  {
   "cell_type": "code",
   "execution_count": 2,
   "metadata": {},
   "outputs": [
    {
     "name": "stdout",
     "output_type": "stream",
     "text": [
      "[master 8b6579b] added mergeEntities.ipynb\n",
      " 1 file changed, 2120 insertions(+), 2074 deletions(-)\n",
      " rewrite mergeEntities.ipynb (71%)\n",
      "Counting objects: 3, done.\n",
      "Delta compression using up to 96 threads.\n",
      "Compressing objects: 100% (3/3), done.\n",
      "Writing objects: 100% (3/3), 15.86 KiB | 0 bytes/s, done.\n",
      "Total 3 (delta 2), reused 0 (delta 0)\n",
      "remote: Resolving deltas: 100% (2/2), completed with 2 local objects.\u001b[K\n",
      "To git@github.com:brianyiktaktsui/DEEP_NLP.git\n",
      "   6d762ee..8b6579b  master -> master\n"
     ]
    }
   ],
   "source": [
    "#!git mv nGramClassification_simple.ipynb deep_sra_predict.ipynb\n",
    "!git add mergeEntities.ipynb\n",
    "!git commit -m \"added mergeEntities.ipynb\"\n",
    "!git push "
   ]
  },
  {
   "cell_type": "code",
   "execution_count": 6,
   "metadata": {},
   "outputs": [
    {
     "name": "stdout",
     "output_type": "stream",
     "text": [
      "[master c33d7d4] Modified NLP_spacy/nGramClassification_batch_vote.ipynb\n",
      " 1 file changed, 2045 insertions(+), 2696 deletions(-)\n",
      " rewrite nGramClassification_batch_vote.ipynb (79%)\n",
      "Counting objects: 3, done.\n",
      "Delta compression using up to 96 threads.\n",
      "Compressing objects: 100% (3/3), done.\n",
      "Writing objects: 100% (3/3), 6.89 KiB | 0 bytes/s, done.\n",
      "Total 3 (delta 2), reused 0 (delta 0)\n",
      "remote: Resolving deltas: 100% (2/2), completed with 2 local objects.\u001b[K\n",
      "To git@github.com:brianyiktaktsui/DEEP_NLP.git\n",
      "   ca7c7dd..c33d7d4  master -> master\n"
     ]
    }
   ],
   "source": [
    "\n",
    "#http://localhost:6001/notebooks/Data/DEEP_NLP/NLP_spacy/nGramClassification_batch.ipynb\n",
    "!git add nGramClassification_batch_vote.ipynb\n",
    "!git commit -m \"Modified nGramClassification_batch_vote.ipynb\"\n",
    "!git push \n",
    "\n"
   ]
  },
  {
   "cell_type": "code",
   "execution_count": 1,
   "metadata": {},
   "outputs": [
    {
     "name": "stdout",
     "output_type": "stream",
     "text": [
      "[master 900e560] Added environment.yml\n",
      " 1 file changed, 174 insertions(+)\n",
      " create mode 100644 environment.yml\n",
      "Counting objects: 3, done.\n",
      "Delta compression using up to 96 threads.\n",
      "Compressing objects: 100% (3/3), done.\n",
      "Writing objects: 100% (3/3), 2.25 KiB | 0 bytes/s, done.\n",
      "Total 3 (delta 1), reused 0 (delta 0)\n",
      "remote: Resolving deltas: 100% (1/1), completed with 1 local object.\u001b[K\n",
      "To git@github.com:brianyiktaktsui/DEEP_NLP.git\n",
      "   8b6579b..900e560  master -> master\n"
     ]
    }
   ],
   "source": [
    "!git add environment.yml\n",
    "!git commit -m \"Added environment.yml\"\n",
    "!git push \n"
   ]
  },
  {
   "cell_type": "code",
   "execution_count": null,
   "metadata": {},
   "outputs": [],
   "source": [
    "!git add nGramClassification_batch_vote.ipynb\n",
    "!git commit -m \"Modified nGramClassification_batch_vote.ipynb\"\n",
    "!git push "
   ]
  },
  {
   "cell_type": "code",
   "execution_count": null,
   "metadata": {},
   "outputs": [],
   "source": [
    "!find . -name '*.ipynb' | xargs git add\n",
    "!git commit -m \"added all files\"\n",
    "!git push "
   ]
  },
  {
   "cell_type": "code",
   "execution_count": null,
   "metadata": {},
   "outputs": [],
   "source": []
  }
 ],
 "metadata": {
  "kernelspec": {
   "display_name": "Python [default]",
   "language": "python",
   "name": "python3"
  },
  "language_info": {
   "codemirror_mode": {
    "name": "ipython",
    "version": 3
   },
   "file_extension": ".py",
   "mimetype": "text/x-python",
   "name": "python",
   "nbconvert_exporter": "python",
   "pygments_lexer": "ipython3",
   "version": "3.6.5"
  }
 },
 "nbformat": 4,
 "nbformat_minor": 2
}
