{
 "cells": [
  {
   "cell_type": "markdown",
   "metadata": {},
   "source": [
    "threading do scale and ended up using most of the cores, \n",
    "\n",
    "parsing is slow still\n",
    "\n",
    "\n",
    "75232/75232 [==============================] - 144s 2ms/step - loss: 0.2044 - acc: 0.9252 - val_loss: 0.1596 - val_acc: 0.9404\n",
    "\n",
    "\n",
    "\n",
    "\n",
    "Need to improve the tokenizer\n"
   ]
  },
  {
   "cell_type": "code",
   "execution_count": 19,
   "metadata": {},
   "outputs": [],
   "source": [
    "%matplotlib inline\n",
    "\n",
    "\"\"\"\n",
    "\n",
    "This example shows how to use an LSTM sentiment classification model trained using Keras in spaCy. spaCy splits the document into sentences, and each sentence is classified using the LSTM. The scores for the sentences are then aggregated to give the document score. This kind of hierarchical model is quite difficult in \"pure\" Keras or Tensorflow, but it's very effective. The Keras example on this dataset performs quite poorly, because it cuts off the documents so that they're a fixed size. This hurts review accuracy a lot, because people often summarise their rating in the final sentence\n",
    "\n",
    "Prerequisites:\n",
    "spacy download en_vectors_web_lg\n",
    "pip install keras==2.0.9\n",
    "\n",
    "Compatible with: spaCy v2.0.0+\n",
    "\n",
    "\"\"\"\n",
    "\n",
    "import plac\n",
    "import random\n",
    "import pathlib\n",
    "import cytoolz\n",
    "import numpy\n",
    "from keras.models import Sequential, model_from_json\n",
    "from keras.layers import LSTM, Dense, Embedding, Bidirectional\n",
    "from keras.layers import TimeDistributed\n",
    "from keras.optimizers import Adam\n",
    "import thinc.extra.datasets\n",
    "from spacy.compat import pickle\n",
    "import spacy\n"
   ]
  },
  {
   "cell_type": "code",
   "execution_count": 20,
   "metadata": {},
   "outputs": [],
   "source": [
    "#!python -m spacy download en_vectors_web_lg"
   ]
  },
  {
   "cell_type": "code",
   "execution_count": 63,
   "metadata": {},
   "outputs": [
    {
     "name": "stdout",
     "output_type": "stream",
     "text": [
      "CPU times: user 12.7 s, sys: 768 ms, total: 13.4 s\n",
      "Wall time: 13.4 s\n"
     ]
    }
   ],
   "source": [
    "%%time\n",
    "nlp=spacy.load('en_vectors_web_lg')\n"
   ]
  },
  {
   "cell_type": "code",
   "execution_count": 64,
   "metadata": {},
   "outputs": [],
   "source": [
    "nlp.add_pipe(nlp.create_pipe('sentencizer'))"
   ]
  },
  {
   "cell_type": "code",
   "execution_count": 65,
   "metadata": {},
   "outputs": [],
   "source": [
    "#nlp.vocab.prune_vectors(10000)"
   ]
  },
  {
   "cell_type": "code",
   "execution_count": 49,
   "metadata": {},
   "outputs": [],
   "source": [
    "### pipeline in the data\n",
    "\"\"\"\n",
    "return: list of sentences, for each doc\n",
    "\"\"\"\n",
    "def get_labelled_sentences(docs, doc_labels):\n",
    "    labels = []\n",
    "    sentences = []\n",
    "    for doc, y in zip(docs, doc_labels):\n",
    "        for sent in doc.sents:\n",
    "            sentences.append(sent)\n",
    "            labels.append(y)\n",
    "    return sentences, numpy.asarray(labels, dtype='int32')\n",
    "\n",
    "\"\"\"\n",
    "input:list of docs\n",
    "Xs: doc by token matrix max length, each entry is the ID to the data\n",
    "\"\"\"\n",
    "def get_features(docs, max_length):\n",
    "    docs = list(docs)\n",
    "    Xs = numpy.zeros((len(docs), max_length), dtype='int32')\n",
    "    for i, doc in enumerate(docs):\n",
    "        j = 0\n",
    "        for token in doc:\n",
    "            ##rever to word vector\n",
    "            vector_id = token.vocab.vectors.find(key=token.orth)\n",
    "            if vector_id >= 0:\n",
    "                Xs[i, j] = vector_id\n",
    "            else:\n",
    "                Xs[i, j] = 0\n",
    "            j += 1\n",
    "            if j >= max_length:\n",
    "                break\n",
    "    return Xs\n",
    "\n",
    "#lstm_shape: {'nr_hidden': 64, 'max_length': 100, 'nr_class': 1},nr_hidden: reduce the number of activation?\n",
    "def train(train_texts, train_labels, dev_texts, dev_labels,\n",
    "          lstm_shape, lstm_settings, lstm_optimizer, batch_size=100,\n",
    "          nb_epoch=5, by_sentence=True):\n",
    "    #print(\"Loading spaCy\")\n",
    "    #nlp = spacy.load('en_core_web_lg')\n",
    "    \n",
    "    embeddings = get_embeddings(nlp.vocab)\n",
    "    #embedgigs is vocab.vectors.data\n",
    "    print ('embeddings:',embeddings)\n",
    "    print ('lstm_shape:',lstm_shape)\n",
    "    print ('lstm_settings:',lstm_settings)\n",
    "    model = compile_lstm(embeddings, lstm_shape, lstm_settings)\n",
    "    print ('model:',model)\n",
    "    print(\"Parsing texts...\")\n",
    "    train_docs = list(nlp.pipe(train_texts))\n",
    "    dev_docs = list(nlp.pipe(dev_texts))\n",
    "    if by_sentence:\n",
    "        train_docs, train_labels = get_labelled_sentences(train_docs, train_labels)\n",
    "        dev_docs, dev_labels = get_labelled_sentences(dev_docs, dev_labels)\n",
    "\n",
    "    train_X = get_features(train_docs, lstm_shape['max_length'])\n",
    "    dev_X = get_features(dev_docs, lstm_shape['max_length'])\n",
    "    model.fit(train_X, train_labels, validation_data=(dev_X, dev_labels),\n",
    "              nb_epoch=nb_epoch, batch_size=batch_size)\n",
    "    return model\n",
    "\n",
    "\"\"\"\n",
    "input: doc by tokens ID, in the form of setence. \n",
    "\n",
    "TimeDistributed: \n",
    "\n",
    "embeddings: \n",
    "\"\"\"\n",
    "def compile_lstm(embeddings, shape, settings):\n",
    "    model = Sequential()\n",
    "    ###embedding layer, \n",
    "    model.add(\n",
    "        Embedding(\n",
    "            embeddings.shape[0],\n",
    "            embeddings.shape[1],\n",
    "            input_length=shape['max_length'],\n",
    "            trainable=False,\n",
    "            weights=[embeddings],\n",
    "            mask_zero=True\n",
    "        )\n",
    "    )\n",
    "    ## TimeDistributed: wrapper applies a layer to every temporal slice of an input.\n",
    "    ## dense/ fully connected: a NN layer\n",
    "    ## dense, nr_hidden, reduce the number of units\n",
    "    ## \n",
    "    model.add(TimeDistributed(Dense(shape['nr_hidden'], use_bias=False)))\n",
    "    model.add(Bidirectional(LSTM(shape['nr_hidden'],\n",
    "                                 recurrent_dropout=settings['dropout'],\n",
    "                                 dropout=settings['dropout'])))\n",
    "    model.add(Dense(shape['nr_class'], activation='sigmoid'))\n",
    "    #lr: learning rate, binary_crossentropy\n",
    "    model.compile(optimizer=Adam(lr=settings['lr']), loss='binary_crossentropy',\n",
    "\t\t  metrics=['accuracy'])\n",
    "    return model\n",
    "\n",
    "\n",
    "def get_embeddings(vocab):\n",
    "    return vocab.vectors.data\n",
    "\n"
   ]
  },
  {
   "cell_type": "markdown",
   "metadata": {},
   "source": [
    "### read in SRA"
   ]
  },
  {
   "cell_type": "code",
   "execution_count": null,
   "metadata": {},
   "outputs": [],
   "source": []
  },
  {
   "cell_type": "code",
   "execution_count": null,
   "metadata": {},
   "outputs": [],
   "source": []
  },
  {
   "cell_type": "code",
   "execution_count": 25,
   "metadata": {},
   "outputs": [],
   "source": [
    "#inS_dir='/cellar/users/btsui/Data/nrnb01_nobackup/METAMAP/allSRS.pickle'\n",
    "import pandas as pd"
   ]
  },
  {
   "cell_type": "code",
   "execution_count": 26,
   "metadata": {},
   "outputs": [],
   "source": [
    "inS_dir='/cellar/users/btsui/Data/nrnb01_nobackup/METAMAP/allSRS.pickle'\n",
    "\n",
    "sra_dump_pickle_dir='/cellar/users/btsui/Data/SRA/DUMP/sra_dump.pickle'\n",
    "\n",
    "srsS=pd.read_pickle(inS_dir)\n",
    "\n",
    "\n",
    "technical_meta_data_df=pd.read_pickle(sra_dump_pickle_dir)\n",
    "\n",
    "tmpDf=technical_meta_data_df.drop_duplicates('Sample')\n",
    "\n",
    "technical_meta_data_df=tmpDf.sample(n=tmpDf.shape[0],random_state=0)\n",
    "\n",
    "#technical_meta_data_df.head()\n",
    "\n",
    "n=5000\n",
    "subsampledSrs=technical_meta_data_df.groupby('Study').head(n=n)['Sample']"
   ]
  },
  {
   "cell_type": "code",
   "execution_count": 27,
   "metadata": {},
   "outputs": [],
   "source": [
    "#srsS.value_counts"
   ]
  },
  {
   "cell_type": "code",
   "execution_count": 28,
   "metadata": {},
   "outputs": [],
   "source": [
    "myAttribs=['cell type','sex','age','genotype','treatment','SCIENTIFIC_NAME']\n",
    "m=srsS.index.get_level_values(0).isin(subsampledSrs.values)\n",
    "m1=srsS.index.get_level_values(1).isin(myAttribs)\n",
    "srsS_subS=srsS[m&m1]"
   ]
  },
  {
   "cell_type": "code",
   "execution_count": 29,
   "metadata": {},
   "outputs": [],
   "source": [
    "#srsS_subS.value_counts()"
   ]
  },
  {
   "cell_type": "code",
   "execution_count": 30,
   "metadata": {},
   "outputs": [],
   "source": [
    "from sklearn import preprocessing"
   ]
  },
  {
   "cell_type": "code",
   "execution_count": 31,
   "metadata": {},
   "outputs": [
    {
     "data": {
      "text/plain": [
       "LabelEncoder()"
      ]
     },
     "execution_count": 31,
     "metadata": {},
     "output_type": "execute_result"
    }
   ],
   "source": [
    "le = preprocessing.LabelEncoder()\n",
    "le.fit(myAttribs)\n"
   ]
  },
  {
   "cell_type": "code",
   "execution_count": 32,
   "metadata": {},
   "outputs": [],
   "source": [
    "myDf=srsS_subS.reset_index()\n",
    "myDf.columns=['srs','attrib','sentence']"
   ]
  },
  {
   "cell_type": "code",
   "execution_count": 33,
   "metadata": {},
   "outputs": [],
   "source": [
    "from sklearn import model_selection"
   ]
  },
  {
   "cell_type": "code",
   "execution_count": 34,
   "metadata": {},
   "outputs": [],
   "source": [
    "inTrainTestDf=myDf.sample(n=myDf.shape[0]).groupby('attrib').head(n=20000)\n",
    "\n",
    "train_df,test_df=model_selection.train_test_split(inTrainTestDf)"
   ]
  },
  {
   "cell_type": "code",
   "execution_count": null,
   "metadata": {},
   "outputs": [],
   "source": []
  },
  {
   "cell_type": "code",
   "execution_count": 36,
   "metadata": {},
   "outputs": [],
   "source": [
    "model_dir=None\n",
    "train_dir=None\n",
    "dev_dir=None\n",
    "is_runtime=False\n",
    "nr_hidden=64\n",
    "max_length=50#, # Shape\n",
    "dropout=0.5\n",
    "learn_rate=0.001#, # General NN config\n",
    "nb_epoch=1#\n",
    "batch_size=100\n",
    "nr_examples=-1  # Training params"
   ]
  },
  {
   "cell_type": "code",
   "execution_count": 37,
   "metadata": {},
   "outputs": [],
   "source": [
    "nr_classes=len(le.classes_)"
   ]
  },
  {
   "cell_type": "code",
   "execution_count": 38,
   "metadata": {},
   "outputs": [],
   "source": [
    "import keras"
   ]
  },
  {
   "cell_type": "code",
   "execution_count": 39,
   "metadata": {},
   "outputs": [
    {
     "data": {
      "text/plain": [
       "array([[0., 0., 0., 0., 1., 0.],\n",
       "       [0., 0., 0., 0., 0., 1.],\n",
       "       [0., 0., 0., 0., 1., 0.],\n",
       "       ...,\n",
       "       [1., 0., 0., 0., 0., 0.],\n",
       "       [1., 0., 0., 0., 0., 0.],\n",
       "       [0., 0., 0., 0., 1., 0.]], dtype=float32)"
      ]
     },
     "execution_count": 39,
     "metadata": {},
     "output_type": "execute_result"
    }
   ],
   "source": [
    "#y_train = keras.utils.to_categorical(y_train, num_classes)\n",
    "keras.utils.to_categorical(le.transform(train_df.attrib.tolist()))"
   ]
  },
  {
   "cell_type": "code",
   "execution_count": 40,
   "metadata": {},
   "outputs": [],
   "source": [
    "lstm_shape={'nr_hidden': 64, 'max_length': max_length, 'nr_class': nr_classes}\n"
   ]
  },
  {
   "cell_type": "code",
   "execution_count": 50,
   "metadata": {
    "scrolled": false
   },
   "outputs": [
    {
     "name": "stdout",
     "output_type": "stream",
     "text": [
      "embeddings: [[ 0.042175   0.34913   -0.32363   ...  0.22986   -0.30662    0.3878   ]\n",
      " [-0.63354   -0.1503    -0.36161   ...  0.26216   -0.12094    0.0038262]\n",
      " [-0.65276    0.23873   -0.23325   ... -0.42636    0.48578   -0.28969  ]\n",
      " ...\n",
      " [-0.51423   -0.23612   -0.035289  ... -0.20719   -0.60762    1.0162   ]\n",
      " [ 0.32269   -0.41217    0.044183  ...  0.29696    0.32911   -0.22805  ]\n",
      " [ 0.9066    -1.1523    -1.2483    ...  0.17064    0.56711    0.13522  ]]\n",
      "lstm_shape: {'nr_hidden': 64, 'max_length': 50, 'nr_class': 6}\n",
      "lstm_settings: {'dropout': 0.5, 'lr': 0.001}\n",
      "model: <keras.engine.sequential.Sequential object at 0x2afc6361b470>\n",
      "Parsing texts...\n"
     ]
    },
    {
     "name": "stderr",
     "output_type": "stream",
     "text": [
      "/cellar/users/btsui/Data/miniconda3/lib/python3.6/site-packages/ipykernel_launcher.py:59: UserWarning: The `nb_epoch` argument in `fit` has been renamed `epochs`.\n"
     ]
    },
    {
     "name": "stdout",
     "output_type": "stream",
     "text": [
      "Train on 90957 samples, validate on 30293 samples\n",
      "Epoch 1/1\n",
      "90957/90957 [==============================] - 123s 1ms/step - loss: 0.1760 - acc: 0.9399 - val_loss: 0.1312 - val_acc: 0.9543\n",
      "CPU times: user 19min 36s, sys: 12min 40s, total: 32min 17s\n",
      "Wall time: 2min 20s\n"
     ]
    }
   ],
   "source": [
    "%%time\n",
    "lstm=train(train_df.sentence.tolist(),keras.utils.to_categorical(le.transform(train_df.attrib.tolist())),\n",
    "     test_df.sentence.tolist(),keras.utils.to_categorical(le.transform(test_df.attrib.tolist())),\n",
    "     {'nr_hidden': nr_hidden, 'max_length': max_length, 'nr_class': nr_classes},\n",
    "             {'dropout': dropout, 'lr': learn_rate},\n",
    "             {},\n",
    "             nb_epoch=nb_epoch, batch_size=batch_size)"
   ]
  },
  {
   "cell_type": "code",
   "execution_count": 51,
   "metadata": {},
   "outputs": [],
   "source": [
    "#nlp = spacy.load('en_core_web_lg')\n",
    "#nlp.add_pipe(nlp.create_pipe('sentencizer'))"
   ]
  },
  {
   "cell_type": "code",
   "execution_count": 24,
   "metadata": {},
   "outputs": [],
   "source": [
    "m1=srsS.index.get_level_values(1)=='SCIENTIFIC_NAME'\n",
    "m2=srsS.values=='Mus musculus'\n",
    "scientifcS=srsS[m1&m2]"
   ]
  },
  {
   "cell_type": "code",
   "execution_count": 56,
   "metadata": {
    "scrolled": true
   },
   "outputs": [],
   "source": [
    "#test_df"
   ]
  },
  {
   "cell_type": "code",
   "execution_count": 58,
   "metadata": {},
   "outputs": [],
   "source": [
    "#lstm.predict()"
   ]
  },
  {
   "cell_type": "code",
   "execution_count": 25,
   "metadata": {},
   "outputs": [
    {
     "name": "stdout",
     "output_type": "stream",
     "text": [
      "CPU times: user 7.22 s, sys: 788 ms, total: 8.01 s\n",
      "Wall time: 8 s\n"
     ]
    }
   ],
   "source": [
    "%%time\n",
    "myAmbiguosAttribs=['TITLE']\n",
    "m=srsS.index.get_level_values(0).isin(subsampledSrs.values)\n",
    "m1=srsS.index.get_level_values(1).isin(myAmbiguosAttribs)\n",
    "m_species=srsS.index.get_level_values(0).isin(scientifcS.index.get_level_values(0))\n",
    "srsS_subS=srsS[m&m1&m_species]"
   ]
  },
  {
   "cell_type": "code",
   "execution_count": 26,
   "metadata": {},
   "outputs": [
    {
     "data": {
      "text/plain": [
       "230628"
      ]
     },
     "execution_count": 26,
     "metadata": {},
     "output_type": "execute_result"
    }
   ],
   "source": [
    "len(srsS_subS)"
   ]
  },
  {
   "cell_type": "code",
   "execution_count": null,
   "metadata": {},
   "outputs": [],
   "source": []
  },
  {
   "cell_type": "code",
   "execution_count": 27,
   "metadata": {},
   "outputs": [],
   "source": [
    "textDf_ambigous=srsS_subS.reset_index()\n",
    "textDf_ambigous.columns=['srs','attrib','sentence']"
   ]
  },
  {
   "cell_type": "code",
   "execution_count": 28,
   "metadata": {},
   "outputs": [],
   "source": [
    "subDf=textDf_ambigous.sample(n=100)\n",
    "amb_text=subDf.sentence.str.replace('_',' ').tolist()"
   ]
  },
  {
   "cell_type": "code",
   "execution_count": 29,
   "metadata": {},
   "outputs": [],
   "source": [
    "\n",
    "#embeddings = get_embeddings(nlp.vocab)"
   ]
  },
  {
   "cell_type": "code",
   "execution_count": null,
   "metadata": {},
   "outputs": [],
   "source": []
  },
  {
   "cell_type": "code",
   "execution_count": 30,
   "metadata": {},
   "outputs": [],
   "source": [
    "amb_docs=nlp.pipe(amb_text)"
   ]
  },
  {
   "cell_type": "code",
   "execution_count": 31,
   "metadata": {},
   "outputs": [],
   "source": [
    "M=get_features(amb_docs,max_length=lstm_shape['max_length'])"
   ]
  },
  {
   "cell_type": "code",
   "execution_count": 32,
   "metadata": {},
   "outputs": [],
   "source": [
    "#M"
   ]
  },
  {
   "cell_type": "code",
   "execution_count": 33,
   "metadata": {},
   "outputs": [],
   "source": [
    "#lstm.predict_proba(M)"
   ]
  },
  {
   "cell_type": "code",
   "execution_count": 34,
   "metadata": {},
   "outputs": [],
   "source": [
    "scoreDf=pd.DataFrame( lstm.predict_proba(M),index=subDf.set_index(['srs','attrib','sentence']).index\n",
    "            ,columns=le.classes_)"
   ]
  },
  {
   "cell_type": "code",
   "execution_count": 35,
   "metadata": {},
   "outputs": [
    {
     "name": "stderr",
     "output_type": "stream",
     "text": [
      "/cellar/users/btsui/Data/miniconda3/lib/python3.6/site-packages/sklearn/preprocessing/label.py:151: DeprecationWarning: The truth value of an empty array is ambiguous. Returning False, but in future this will result in an error. Use `array.size > 0` to check that an array is not empty.\n",
      "  if diff:\n"
     ]
    }
   ],
   "source": [
    "scoreDf['predicted']=le.inverse_transform(lstm.predict_classes(M))"
   ]
  },
  {
   "cell_type": "code",
   "execution_count": 61,
   "metadata": {},
   "outputs": [],
   "source": [
    "#srsS.loc['SRS1645209']"
   ]
  },
  {
   "cell_type": "code",
   "execution_count": 37,
   "metadata": {},
   "outputs": [
    {
     "ename": "SyntaxError",
     "evalue": "invalid syntax (<ipython-input-37-3335b9dca393>, line 1)",
     "output_type": "error",
     "traceback": [
      "\u001b[0;36m  File \u001b[0;32m\"<ipython-input-37-3335b9dca393>\"\u001b[0;36m, line \u001b[0;32m1\u001b[0m\n\u001b[0;31m    myKeys=nlp.vocab.vectors.\u001b[0m\n\u001b[0m                             ^\u001b[0m\n\u001b[0;31mSyntaxError\u001b[0m\u001b[0;31m:\u001b[0m invalid syntax\n"
     ]
    }
   ],
   "source": [
    "myKeys=nlp.vocab.vectors"
   ]
  },
  {
   "cell_type": "code",
   "execution_count": null,
   "metadata": {},
   "outputs": [],
   "source": [
    "#nlp.vocab.strings"
   ]
  },
  {
   "cell_type": "code",
   "execution_count": null,
   "metadata": {},
   "outputs": [],
   "source": [
    "#nlp.vocab.vectors.shape"
   ]
  },
  {
   "cell_type": "code",
   "execution_count": null,
   "metadata": {},
   "outputs": [],
   "source": [
    "scoreDf.sort_values('cell type',ascending=False)"
   ]
  },
  {
   "cell_type": "code",
   "execution_count": null,
   "metadata": {},
   "outputs": [],
   "source": []
  },
  {
   "cell_type": "code",
   "execution_count": null,
   "metadata": {},
   "outputs": [],
   "source": [
    "#scoreDf.idxmax(axis=1).value_counts()"
   ]
  },
  {
   "cell_type": "code",
   "execution_count": null,
   "metadata": {},
   "outputs": [],
   "source": [
    "#le.transform(test_df.sentence.tolist())"
   ]
  },
  {
   "cell_type": "code",
   "execution_count": null,
   "metadata": {},
   "outputs": [],
   "source": [
    "### feed titles for testing. "
   ]
  },
  {
   "cell_type": "code",
   "execution_count": null,
   "metadata": {},
   "outputs": [],
   "source": [
    "\"\"\"\n",
    "    print(\"Loading spaCy\")\n",
    "    nlp = spacy.load('en_core_web_lg')\n",
    "    nlp.add_pipe(nlp.create_pipe('sentencizer'))\n",
    "    embeddings = get_embeddings(nlp.vocab)\n",
    "    #embedgigs is vocab.vectors.data\n",
    "    print ('embeddings:',embeddings)\n",
    "    print ('lstm_shape:',lstm_shape)\n",
    "    print ('lstm_settings:',lstm_settings)\n",
    "    model = compile_lstm(embeddings, lstm_shape, lstm_settings)\n",
    "    print ('model:',model)\n",
    "    print(\"Parsing texts...\")\n",
    "    train_docs = list(nlp.pipe(train_texts))\n",
    "    dev_docs = list(nlp.pipe(dev_texts))\n",
    "    if by_sentence:\n",
    "        train_docs, train_labels = get_labelled_sentences(train_docs, train_labels)\n",
    "        dev_docs, dev_labels = get_labelled_sentences(dev_docs, dev_labels)\n",
    "\n",
    "    train_X = get_features(train_docs, lstm_shape['max_length'])\n",
    "    dev_X = get_features(dev_docs, lstm_shape['max_length'])\n",
    "    model.fit(train_X, train_labels, validation_data=(dev_X, dev_labels),\n",
    "              nb_epoch=nb_epoch, batch_size=batch_size)\n",
    "\"\"\""
   ]
  },
  {
   "cell_type": "code",
   "execution_count": null,
   "metadata": {},
   "outputs": [],
   "source": [
    "embeddings = get_embeddings(nlp.vocab)"
   ]
  },
  {
   "cell_type": "code",
   "execution_count": 4,
   "metadata": {},
   "outputs": [
    {
     "ename": "NameError",
     "evalue": "name 'train_X' is not defined",
     "output_type": "error",
     "traceback": [
      "\u001b[0;31m---------------------------------------------------------------------------\u001b[0m",
      "\u001b[0;31mNameError\u001b[0m                                 Traceback (most recent call last)",
      "\u001b[0;32m<ipython-input-4-ee25ef03c42c>\u001b[0m in \u001b[0;36m<module>\u001b[0;34m()\u001b[0m\n\u001b[0;32m----> 1\u001b[0;31m \u001b[0mtrain_X\u001b[0m\u001b[0;34m\u001b[0m\u001b[0m\n\u001b[0m",
      "\u001b[0;31mNameError\u001b[0m: name 'train_X' is not defined"
     ]
    }
   ],
   "source": [
    "train_X"
   ]
  },
  {
   "cell_type": "code",
   "execution_count": null,
   "metadata": {},
   "outputs": [],
   "source": [
    "\"\"\"\n",
    "ImportError: libcublas.so.9.0: cannot open shared object file: No such file or direc\n",
    "libcudnn.so.7:\n",
    "\n",
    "conda install -c anaconda cudatoolkit\n",
    "conda install -c anaconda cudnn\n",
    "conda uninstall glibc -c asmeurer\n",
    "/lib64/libc.so.6:\n",
    "\"\"\""
   ]
  },
  {
   "cell_type": "code",
   "execution_count": 1,
   "metadata": {},
   "outputs": [
    {
     "name": "stdout",
     "output_type": "stream",
     "text": [
      "getSrsCounts.ipynb:       \"      <th>sex</th>\\n\",\n",
      "getSrsCounts.ipynb:       \"sex                                        163806\\n\",\n",
      "getSrsCounts.ipynb:      \"       'isolate', 'sex', 'env_biome', 'env_feature', 'env_material',\\n\",\n",
      "getSrsCounts.ipynb:    \"sns.pairplot(tsneDf.reset_index()[['attrib',0,1]],hue='attrib',hue_order=['sex','gender','tissue','cell type'])\"\n",
      "keras_on_sra_data.ipynb:    \"myAttribs=['cell type','sex','age','genotype','treatment','SCIENTIFIC_NAME','phenotype']\\n\",\n",
      "keras_on_sra_data.ipynb:       \"       'sex', 'treatment'], dtype='<U15')\"\n",
      "keras_on_sra_data.ipynb:      \"image/png\": \"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\\n\",\n",
      "keras_on_sra_data_old.ipynb:    \"myAttribs=['cell type','sex','age','genotype','treatment','SCIENTIFIC_NAME']\\n\",\n",
      "read_embedding_matrix.ipynb:      \"image/png\": \"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\\n\",\n"
     ]
    }
   ],
   "source": [
    "!grep sex *.ipynb"
   ]
  },
  {
   "cell_type": "code",
   "execution_count": null,
   "metadata": {},
   "outputs": [],
   "source": []
  }
 ],
 "metadata": {
  "kernelspec": {
   "display_name": "Python 3",
   "language": "python",
   "name": "python3"
  },
  "language_info": {
   "codemirror_mode": {
    "name": "ipython",
    "version": 3
   },
   "file_extension": ".py",
   "mimetype": "text/x-python",
   "name": "python",
   "nbconvert_exporter": "python",
   "pygments_lexer": "ipython3",
   "version": "3.6.5"
  }
 },
 "nbformat": 4,
 "nbformat_minor": 2
}
