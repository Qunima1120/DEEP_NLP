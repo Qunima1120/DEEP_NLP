{
 "cells": [
  {
   "cell_type": "code",
   "execution_count": 1,
   "metadata": {},
   "outputs": [
    {
     "name": "stderr",
     "output_type": "stream",
     "text": [
      "Using TensorFlow backend.\n",
      "/cellar/users/btsui/anaconda3/envs/deep_nlp_cpu/lib/python3.6/importlib/_bootstrap.py:219: RuntimeWarning: numpy.dtype size changed, may indicate binary incompatibility. Expected 96, got 88\n",
      "  return f(*args, **kwds)\n",
      "/cellar/users/btsui/anaconda3/envs/deep_nlp_cpu/lib/python3.6/importlib/_bootstrap.py:219: RuntimeWarning: numpy.ufunc size changed, may indicate binary incompatibility. Expected 192, got 176\n",
      "  return f(*args, **kwds)\n"
     ]
    }
   ],
   "source": [
    "import tensorflow\n",
    "from tqdm import tqdm\n",
    "\n",
    "import keras\n",
    "\n",
    "import random\n",
    "import pathlib\n",
    "import cytoolz\n",
    "import numpy\n",
    "from keras.models import Sequential, model_from_json\n",
    "from keras.layers import LSTM, Dense, Embedding, Bidirectional\n",
    "from keras.layers import TimeDistributed\n",
    "from keras.optimizers import Adam\n",
    "import thinc.extra.datasets\n",
    "from spacy.compat import pickle\n",
    "import spacy\n",
    "import pandas as pd\n",
    "from sklearn import preprocessing\n",
    "import keras\n",
    "from sklearn import model_selection\n",
    "#import seaborn as sns\n",
    "from sklearn import metrics\n",
    "#import matplotlib.pyplot as plt"
   ]
  },
  {
   "cell_type": "code",
   "execution_count": 2,
   "metadata": {},
   "outputs": [
    {
     "name": "stdout",
     "output_type": "stream",
     "text": [
      "CPU times: user 1min 5s, sys: 9.52 s, total: 1min 14s\n",
      "Wall time: 1min 15s\n"
     ]
    }
   ],
   "source": [
    "%%time \n",
    "inS_dir='/cellar/users/btsui/Data/nrnb01_nobackup/METAMAP/allSRS.pickle'\n",
    "\n",
    "#sra_dump_pickle_dir='/cellar/users/btsui/Data/SRA/DUMP/sra_dump.pickle'\n",
    "\n",
    "srsS=pd.read_pickle(inS_dir)\n",
    "srsS=pd.Series(data=srsS.values,index=pd.MultiIndex.from_arrays([srsS.index.get_level_values(0),\n",
    "                                                            srsS.index.get_level_values(1).str.lower()]) )\n",
    "technical_meta_data_df=pd.read_pickle(sra_dump_pickle_dir)\n"
   ]
  },
  {
   "cell_type": "code",
   "execution_count": 3,
   "metadata": {},
   "outputs": [],
   "source": [
    "attrib_a=srsS.index.get_level_values(1)\n",
    "\n",
    "#attrib_m=(attrib_a=='cell line')|(attrib_a=='cell_line')\n",
    "\n",
    "attrib_m=attrib_a=='title'\n",
    "\n",
    "attrib_m.sum()\n",
    "\n",
    "srsS_sub=srsS[attrib_m].drop_duplicates()"
   ]
  },
  {
   "cell_type": "code",
   "execution_count": 43,
   "metadata": {},
   "outputs": [
    {
     "data": {
      "text/plain": [
       "1354824"
      ]
     },
     "execution_count": 43,
     "metadata": {},
     "output_type": "execute_result"
    }
   ],
   "source": [
    "len(srsS_sub)"
   ]
  },
  {
   "cell_type": "code",
   "execution_count": 44,
   "metadata": {},
   "outputs": [
    {
     "data": {
      "text/plain": [
       "ERS069057   title                             Streptococcus pneumoniae\n",
       "SRS554825   title             Pathogen sample from Salmonella enterica\n",
       "SRS1024493  title                   Leaf sample from Camellia oleifera\n",
       "SRS568274   title                      Escherichia coli 2-316-03 S3 C1\n",
       "ERS239563   title    Salmonella enterica subsp. enterica serovar Ty...\n",
       "SRS902280   title    Salmonella enterica subsp I enterica serovar T...\n",
       "SRS1219231  title    Salmonella enterica subsp I enterica serovar S...\n",
       "SRS812378   title    Non-tumor DNA sample from Blood of a human fem...\n",
       "SRS2264477  title    Sample from a human male participant in the db...\n",
       "DRS014254   title                            Orthetrum japonicum 24-12\n",
       "ERS991645   title                 Hepatitis C virus; IHTP_HCVss6265663\n",
       "SRS531126   title    Non-tumor DNA sample from a human female parti...\n",
       "SRS1668168  title                               Pseudomonas sp. NFPP10\n",
       "SRS354076   title                 General Sample for Anopheles gambiae\n",
       "SRS2492900  title    Escherichia coli MG1655 IR-10-38 population re...\n",
       "ERS096057   title    Streptococcus pneumoniae; Streptococcus pneumo...\n",
       "ERS216322   title                                          Danio rerio\n",
       "SRS435080   title    DNA sample from a human male participant in th...\n",
       "SRS1007426  title    Sample from a human participant in the dbGaP s...\n",
       "SRS579185   title    Whole genome sequence of Wake Forest VRC anima...\n",
       "SRS1071129  title    MIMS Environmental/Metagenome sample from inse...\n",
       "ERS1094451  title                Canis lupus familiaris; CTVTMT5843141\n",
       "ERS134078   title                                Staphylococcus aureus\n",
       "SRS1228740  title                       YD6_36h (YD6 the same as 9311)\n",
       "SRS1228741  title                        YD6_0h (YD6 the same as 9311)\n",
       "ERS343564   title                                         Homo sapiens\n",
       "SRS1313286  title    ENCODE biosample ENCBS008ENC: fetal lung fibro...\n",
       "SRS1313287  title    ENCODE biosample ENCBS004ENC: fetal lung fibro...\n",
       "SRS898255   title    Salmonella enterica subsp I enterica serovar E...\n",
       "SRS1657421  title                    Anaerovibrio lipolyticus DSM 3074\n",
       "                                           ...                        \n",
       "SRS1579991  title                                      TYKRIL LNA#1_n2\n",
       "SRS1579992  title                                      TYKRIL LNA#2_n2\n",
       "SRS1579994  title                                     TYKRIL LNA#2l_n3\n",
       "SRS1579995  title                                     TYKRIL LNA#1l_n3\n",
       "ERS153882   title                Mycobacterium tuberculosis; 8516_2#43\n",
       "SRS431668   title                         Vibrio parahaemolyticus 3259\n",
       "SRS2153901  title    Upper troposphere microbial communities from M...\n",
       "ERS991553   title                 Hepatitis C virus; IHTP_HCVss6265616\n",
       "SRS906425   title    Salmonella enterica subsp I enterica serovar A...\n",
       "SRS1667923  title           Goodfellowiella coeruleoviolacea DSM 43935\n",
       "ERS1026339  title                                 78FR yellow 10/11/09\n",
       "SRS355509   title                             Escherichia coli 99.1775\n",
       "SRS2360497  title    Dystrophic lake water microbial communities fr...\n",
       "ERS142554   title                Mycobacterium tuberculosis; 8233_7#39\n",
       "SRS926001   title          16S rRNA gene profiles from sludge sample 1\n",
       "SRS550154   title    Viral, clinical or host-associated sample from...\n",
       "ERS1581319  title             Marinilactibacillus piezotolerans genome\n",
       "SRS1590909  title        Clavibacter michiganensis spp. strain CASJ009\n",
       "SRS960696   title    Hlf/Hlf forced dimer lentivirus transduced GML...\n",
       "SRS960697   title    Hlf/Hlf forced dimer lentivirus transduced GML...\n",
       "SRS960698   title    Control lentivirus transduced GMLPs cultured o...\n",
       "SRS960699   title    Control lentivirus transduced GMLPs cultured o...\n",
       "SRS960700   title    Hlf inducible GMLPs cultured on OP9 stroma wit...\n",
       "SRS960701   title    Hlf inducible GMLPs cultured on OP9 stroma wit...\n",
       "SRS960702   title    Hlf inducible GMLPs cultured on OP9 stroma wit...\n",
       "SRS960703   title    Hlf inducible GMLPs cultured on OP9 stroma wit...\n",
       "SRS1744628  title    ENCODE biosample ENCBS799TLB: RNA-seq on K562 ...\n",
       "SRS1744630  title    ENCODE biosample ENCBS243YPN: RNA-seq on K562 ...\n",
       "ERS538865   title                          Staphylococcus aureus; 0305\n",
       "ERS1018724  title              Mus musculus; Mouse_pluripotency6256385\n",
       "Length: 593353, dtype: object"
      ]
     },
     "execution_count": 44,
     "metadata": {},
     "output_type": "execute_result"
    }
   ],
   "source": [
    "srsS_sub[srsS_sub.str.contains(' ')]"
   ]
  },
  {
   "cell_type": "code",
   "execution_count": 45,
   "metadata": {},
   "outputs": [
    {
     "data": {
      "text/plain": [
       "1354824"
      ]
     },
     "execution_count": 45,
     "metadata": {},
     "output_type": "execute_result"
    }
   ],
   "source": [
    "len(srsS_sub)"
   ]
  },
  {
   "cell_type": "code",
   "execution_count": 56,
   "metadata": {},
   "outputs": [
    {
     "data": {
      "text/plain": [
       "SRS344625   title                          GAF embryo ChIP, replicate1\n",
       "DRS012573   title    CCR5 targeting RGEN transfected, Human K562 Ce...\n",
       "SRS1430944  title    Single-cell RNA-seq in EB+6hrDox(iNgn2.Isl1.Lh...\n",
       "SRS1637259  title                                       1772075299_C08\n",
       "SRS582832   title                                            miRNA-118\n",
       "SRS1343199  title                                           IRRI_75618\n",
       "SRS2249812  title                                        w1118_HD_f_r3\n",
       "SRS955956   title                    Nicotiana tabacum Yun87,ROOT, LT3\n",
       "SRS904727   title    Salmonella enterica subsp I enterica serovar I...\n",
       "SRS1561129  title                               coChIP3-K27me3-K4me3_1\n",
       "ERS1145365  title                                       10184.10110112\n",
       "SRS364870   title                                      R1_L2_t5_35C_LD\n",
       "SRS879951   title          Ticam2 LPS 4 hours (Ticam2..MGLibB_53819T4)\n",
       "ERS1043288  title                     S. aureus CC59 isolate 2245N0059\n",
       "ERS1103937  title          9f9a07d0-ef67-11e5-bc69-3c4a9275d6c6; 72980\n",
       "SRS1829176  title                                          Hawaii_6357\n",
       "SRS1881810  title    Zea mays Tunable Genotyping-By-Sequencing (tGB...\n",
       "ERS539535   title                          Staphylococcus aureus; 1330\n",
       "SRS666351   title                         ChIP-exo, Liver_GR_GRdim_6pm\n",
       "SRS795593   title                                             P(N)-N25\n",
       "SRS1031510  title                     cy81-FNA-CD45-neg-D12-S1008-comb\n",
       "SRS1451714  title                                   C1-1772117-059-B12\n",
       "ERS1101016  title                       Homo sapiens; trio08_pretumour\n",
       "SRS265521   title    Salmonella enterica subsp. enterica serovar Mo...\n",
       "SRS1488895  title    B12_1000700401-OGC7-coc_1_14ul_1 OGC07-sal FAC...\n",
       "ERS1101063  title                       Homo sapiens; trio22_pretumour\n",
       "SRS558252   title                                     SEQC_Lng_F_021_3\n",
       "ERS1078871  title                                            201412145\n",
       "SRS1515866  title                             Core A, 200-225 cm depth\n",
       "SRS1587673  title                                 MN_Spombe_KanSc_Rep1\n",
       "                                           ...                        \n",
       "ERS724193   title                                   HVVMRXALLmA0131A11\n",
       "SRS2047220  title    Human vaginal microbiota 16S rRNA gene V3-V4 a...\n",
       "ERS1449460  title                                           GASEMM1608\n",
       "ERS1230197  title                         355_streptococcus-pneumoniae\n",
       "SRS1843208  title                                            MMH3K4me3\n",
       "SRS1849767  title                                 Tcali_LICK_Q_moe06B6\n",
       "SRS2498409  title                                             38hpi_B8\n",
       "SRS1673993  title                             Wild-type-VitD treated 6\n",
       "ERS807812   title                                               1JD019\n",
       "SRS1305182  title                  MI_day 9_32C_sample 5 [re-analysis]\n",
       "DRS016773   title                                                 S2PC\n",
       "ERS730303   title                                   HVVMRXALLmA0016I16\n",
       "ERS1812422  title                                              BH048KZ\n",
       "SRS1025226  title                                           progeny122\n",
       "SRS266606   title    HudsonAlpha_ChipSeq_H1-hESC_NANOG_(SC-33759)_v...\n",
       "ERS1265106  title                     1197.SE.20101009.GY.D014S.BC.213\n",
       "SRS1846053  title                                B6_iWAT_HFD_control_2\n",
       "SRS1078243  title                                               L74-W1\n",
       "SRS2464847  title                                RB-TDNAseq Library 36\n",
       "SRS1795868  title                                   E14Tg2a +aKG Rep 4\n",
       "SRS2357626  title    Freshwater to marine salinity gradient microbi...\n",
       "ERS1303726  title                           1692.Biofilm.A.E2.2.W.2012\n",
       "SRS1022479  title    pooled skeletal muscle tissue miRNA from 3 non...\n",
       "ERS1587687  title                                               BT1185\n",
       "SRS2413829  title                                       FMPCbkm120nvp2\n",
       "SRS725059   title               Mouse_Adult_Testes_Asb1_AO34(Het)_mRNA\n",
       "ERS1890951  title                                 10767.McCall.d10.m40\n",
       "SRS401732   title                             UCI4216548B germline dna\n",
       "ERS860598   title                                   HVVMRXALLrA0069H16\n",
       "SRS1810398  title                                           Col-0_rep1\n",
       "Length: 100, dtype: object"
      ]
     },
     "execution_count": 56,
     "metadata": {},
     "output_type": "execute_result"
    }
   ],
   "source": [
    "srsS_sub.sample(n=100)"
   ]
  },
  {
   "cell_type": "code",
   "execution_count": null,
   "metadata": {},
   "outputs": [],
   "source": []
  }
 ],
 "metadata": {
  "kernelspec": {
   "display_name": "Python 3",
   "language": "python",
   "name": "python3"
  },
  "language_info": {
   "codemirror_mode": {
    "name": "ipython",
    "version": 3
   },
   "file_extension": ".py",
   "mimetype": "text/x-python",
   "name": "python",
   "nbconvert_exporter": "python",
   "pygments_lexer": "ipython3",
   "version": "3.6.6"
  }
 },
 "nbformat": 4,
 "nbformat_minor": 2
}
