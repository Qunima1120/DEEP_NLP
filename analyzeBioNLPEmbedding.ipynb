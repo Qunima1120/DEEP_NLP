{
 "cells": [
  {
   "cell_type": "code",
   "execution_count": 11,
   "metadata": {},
   "outputs": [],
   "source": [
    "import spacy\n",
    "import numpy as np\n",
    "import pandas as pd\n",
    "from tqdm import tqdm"
   ]
  },
  {
   "cell_type": "code",
   "execution_count": 2,
   "metadata": {},
   "outputs": [
    {
     "name": "stdout",
     "output_type": "stream",
     "text": [
      "CPU times: user 56.6 s, sys: 7.6 s, total: 1min 4s\n",
      "Wall time: 1min 4s\n"
     ]
    }
   ],
   "source": [
    "\n",
    "%time nlp=spacy.load('./wikipedia-pubmed-and-PMC-w2v')"
   ]
  },
  {
   "cell_type": "code",
   "execution_count": 3,
   "metadata": {},
   "outputs": [],
   "source": [
    "array=nlp.vocab.vectors.data"
   ]
  },
  {
   "cell_type": "code",
   "execution_count": 10,
   "metadata": {},
   "outputs": [],
   "source": [
    "#keys: A sequence of keys aligned with the data.\n",
    "\n",
    "wordVectDf=pd.DataFrame(data=array,index=nlp.vocab.vectors.keys())"
   ]
  },
  {
   "cell_type": "code",
   "execution_count": 149,
   "metadata": {},
   "outputs": [
    {
     "data": {
      "text/plain": [
       "(5443656, 200)"
      ]
     },
     "execution_count": 149,
     "metadata": {},
     "output_type": "execute_result"
    }
   ],
   "source": [
    "wordVectDf.shape"
   ]
  },
  {
   "cell_type": "code",
   "execution_count": 15,
   "metadata": {},
   "outputs": [
    {
     "name": "stderr",
     "output_type": "stream",
     "text": [
      "100%|██████████| 5443656/5443656 [00:15<00:00, 347211.56it/s]\n"
     ]
    }
   ],
   "source": [
    "keyToString={}\n",
    "\n",
    "for key in tqdm(nlp.vocab.vectors.keys()):\n",
    "    if key in nlp.vocab.strings: \n",
    "        keyToString[key]=nlp.vocab.strings[key]\n",
    "        #myL.append(nlp.vocab.strings[key])\n",
    "    #print(key, )\n",
    "    #break"
   ]
  },
  {
   "cell_type": "code",
   "execution_count": 16,
   "metadata": {},
   "outputs": [],
   "source": [
    "keyToStringS=pd.Series(keyToString)"
   ]
  },
  {
   "cell_type": "code",
   "execution_count": 18,
   "metadata": {},
   "outputs": [
    {
     "name": "stderr",
     "output_type": "stream",
     "text": [
      "/cellar/users/btsui/anaconda3/lib/python3.6/site-packages/pandas/core/series.py:841: FutureWarning: \n",
      "Passing list-likes to .loc or [] with any missing label will raise\n",
      "KeyError in the future, you can use .reindex() as an alternative.\n",
      "\n",
      "See the documentation here:\n",
      "https://pandas.pydata.org/pandas-docs/stable/indexing.html#deprecate-loc-reindex-listlike\n",
      "  return self.loc[key]\n"
     ]
    }
   ],
   "source": [
    "algnedTextA=keyToStringS[nlp.vocab.vectors.keys()].values"
   ]
  },
  {
   "cell_type": "code",
   "execution_count": 20,
   "metadata": {},
   "outputs": [],
   "source": [
    "wordVectDf.index=algnedTextA"
   ]
  },
  {
   "cell_type": "code",
   "execution_count": null,
   "metadata": {},
   "outputs": [],
   "source": [
    "\"\"\"\n",
    "'GRO-seq', 'FAIRE-seq', 'Tag-seq', 'Tn-seq', 'RAD-seq', 'CLIP-seq',\n",
    "       'dRNA-seq', 'MBD-seq', 'CNV-seq', 'MNase-seq', 'BS-seq', 'RIP-seq',\n",
    "       'MethylCap-seq', 'smRNA-seq', 'Chip-seq', 'DNA-seq', 'exome-seq',\n",
    "       'MethylC-seq', 'dsRNA-seq', 'miRNA-seq', 'ssRNA-seq', 'tag-seq',\n",
    "       '3C-seq', 'PRO-seq', 'ChiP-seq', 'hMeDIP-seq', 'SLAF-seq',\n",
    "       'INPUT-seq', 'GeF-seq', '4C-seq', 'ChAP-seq', 'sRNA-seq',\n",
    "       'rSW-seq', '-seq', 'afSELEX-seq', 'bis-seq',\n",
    "       'NOMe-seq', 'CAP-seq', 'DeLi-seq', 'MRE-seq', 'CHIP-seq',\n",
    "       'meDIP-seq', 'NSR-seq', 'Bisulfite-seq', 'Methyl-seq', \n",
    "       'RIT-seq', 'ChIP-chip/ChIP-seq', 'chIP-seq', 'HELP-seq', 'Bis-seq',\n",
    "       'chip-seq', 'RC-seq',\n",
    "       'ChIP/ChAP-seq', 'bisulfite-seq', 'DNaseI-seq', 'miR-seq',\n",
    "        'methyl-seq', 'SVM-seq', \n",
    "       'ssp-miR171-seq', 'MSI-seq', 'seb-sek-seq', 'DNAse-seq',\n",
    "       'DCE/RNA-seq', 'MBP-seq', 'ssp-miR166-seq', 'Smart-seq', 'Mab-seq',\n",
    "       'retrieve-ensembl-seq', 'ChIRP-seq', 'TRAP-seq', 'ChIp-seq',\n",
    "       'DHS-seq', 'mt-seq', 'TAB-seq', 'plasma-seq', 'Exome-seq',\n",
    "       'AutoMeDIP-seq', 'CHiP-seq', 'cSNP-seq', 'methylCap-seq',\n",
    "       'Ago2-IP-seq', 'MLST-seq', 'ChlP-seq', 'hmeDIP-seq', 'random-seq',\n",
    "       'ALEXA-seq', 'ssp-miR169-seq', 'Hi-seq', 'PA-seq',\n",
    "       'Gata4-ChIP-seq', 'immunoprecipitation-seq', 'BIC-seq',\n",
    "       'BisChIP-seq', 'ncPRO-seq', 'MBDCap-seq', 'TL-seq', 'DEG-seq',\n",
    "       'MCIp-seq', 'circRNA-seq', 'cnv-seq', 'McrBC-seq', 'Dnase-seq',\n",
    "       'PolyA-seq', 'm(6)A-seq', 'RT-PCR-seq', 'Ref-seq', 'MIRA-seq',\n",
    "       'NS-seq', 'High-seq', 'Clip-seq', 'NMD-seq', 'Plasma-seq'\n",
    "\"\"\""
   ]
  },
  {
   "cell_type": "code",
   "execution_count": 131,
   "metadata": {},
   "outputs": [],
   "source": [
    "myList=['RNA-seq', 'ChIP-seq', 'mRNA-seq', 'DNase-seq','RNA-sequencing',\n",
    "         'Bisulfite-seq', 'Methyl-seq', 'Bis-seq','bisulfite-sequencing','immunoprecipitation-sequencing',\n",
    "        \n",
    "       ]"
   ]
  },
  {
   "cell_type": "code",
   "execution_count": 132,
   "metadata": {},
   "outputs": [],
   "source": [
    "m=wordVectDf.index.str.contains('-sequencing$|-seq$').fillna(False)"
   ]
  },
  {
   "cell_type": "code",
   "execution_count": 133,
   "metadata": {},
   "outputs": [],
   "source": [
    "#m"
   ]
  },
  {
   "cell_type": "code",
   "execution_count": 134,
   "metadata": {},
   "outputs": [],
   "source": [
    "['RNA-seq', 'ChIP-seq', 're-sequencing', 'deep-sequencing',\n",
    "       'mRNA-seq', 'RNA-sequencing', 'MeDIP-seq', 'DNase-seq',\n",
    "       'genome-sequencing', 'GRO-seq', 'DNA-sequencing',\n",
    "       'ChIP-sequencing', '454-sequencing', 'PCR-sequencing', 'FAIRE-seq',\n",
    "       'Re-sequencing', 'Tag-seq', 'Tn-seq', 'cycle-sequencing',\n",
    "       'RAD-seq', 'CLIP-seq', 'end-sequencing', 'dRNA-seq', 'MBD-seq',\n",
    "       'CNV-seq', 'MNase-seq', 'mini-sequencing', 'BS-seq',\n",
    "       'bisulfite-sequencing', 'post-sequencing', 'RIP-seq',\n",
    "       'pyro-sequencing', 'exome-sequencing', 'MethylCap-seq',\n",
    "       'smRNA-seq', 'Chip-seq', 'DNA-seq', 'Sanger-sequencing',\n",
    "       'direct-sequencing', 'immunoprecipitation-sequencing',\n",
    "       'cloning-sequencing', 'Deep-sequencing', 'exome-seq',\n",
    "       'MethylC-seq', 'dsRNA-seq', 'genotyping-by-sequencing',\n",
    "       'miRNA-seq', 'dideoxy-sequencing', 'micro-sequencing', 'ssRNA-seq',\n",
    "       'tag-seq', 'mapping-by-sequencing', 'pre-sequencing', '3C-seq',\n",
    "       'PRO-seq', 'ChiP-seq', 'tag-sequencing', 'hMeDIP-seq', 'SLAF-seq',\n",
    "       'INPUT-seq', 'GeF-seq', 'Genome-sequencing', '4C-seq', 'ChAP-seq',\n",
    "       'gene-sequencing', 'sRNA-seq', 'rSW-seq', '-sequencing', '-seq',\n",
    "       'afSELEX-seq', 'PB-seq', 'shotgun-sequencing', 'MspJI-seq',\n",
    "       'leaf-sequencing', 'bis-seq', 'NOMe-seq', 'CAP-seq', 'DeLi-seq',\n",
    "       'Bisulfite-sequencing', 'MRE-seq', 'CHIP-seq', 'meDIP-seq',\n",
    "       'NSR-seq', 'Bisulfite-seq', 'next-generation-sequencing',\n",
    "       'ssp-miR399-seq', 'F-seq', 'FRT-seq', 'Bar-seq', 'TSS-seq',\n",
    "       'Bio-CAP-seq', 'DP-seq', 'reaction-sequencing', 'task-sequencing',\n",
    "       'IS-seq', 'BEM-seq', 'End-sequencing', 'Methyl-seq', 'Ribo-seq',\n",
    "       'N-ChIP-seq', 'Sensor-seq', 'mRNA-sequencing', 'Cycle-sequencing',\n",
    "       'non-sequencing', 'cDNA-sequencing', 'RIT-seq',\n",
    "       'PCR-cloning-sequencing', 'ChIP-chip/ChIP-seq', 'chIP-seq',\n",
    "       'HELP-seq', 'Bis-seq', 'exon-sequencing', 'rmRNA-seq', 'chip-seq',\n",
    "       'RC-seq', \"3'-end-seq\", 'mass-sequencing', 'PCR-SSCP-sequencing',\n",
    "       'bisulphite-sequencing', 'retrieve-seq', 'ChIP/ChAP-seq',\n",
    "       'ssp-miR160-seq', '3q26.1-pro-seq', 'auto-sequencing', 'NET-seq',\n",
    "       'Post-sequencing', 'Genotyping-by-sequencing', 'deep-seq',\n",
    "       'WBA-seq', 'Tile-seq', 'protein-sequencing',\n",
    "       'nucleotide-sequencing', 'peptide-sequencing',\n",
    "       'high-throughput-sequencing', 'bisulfite-seq', 'DNaseI-seq',\n",
    "       'MAP-seq', 'Gro-seq', '3-seq', 'STARR-seq', 'picture-sequencing',\n",
    "       'mega-sequencing', 'RAD-sequencing', 'post-genome-sequencing',\n",
    "       'EST-sequencing', 'reverse-sequencing', 'over-sequencing',\n",
    "       'SELEX-seq', 'capture-sequencing', 'miR-seq', 'I-seq',\n",
    "       'parallel-sequencing', 'DT-sequencing', 'Degradome-seq', 'DGE-seq',\n",
    "       'input-seq', 'a-seq', 'MS-sequencing', 'motor-sequencing',\n",
    "       'RT-PCR-sequencing', 'genomic-sequencing', 'Mapping-by-sequencing',\n",
    "       'QTL-seq', 'sea-sek-seq', 'methyl-seq', 'SVM-seq', 'MDB-seq',\n",
    "       'population-sequencing', 'ssp-miR171-seq', 'MSI-seq',\n",
    "       'mis-sequencing', 'radio-sequencing', 'seb-sek-seq', 'DNAse-seq',\n",
    "       'transcriptome-sequencing', 'DCE/RNA-seq', 'miRNA-sequencing',\n",
    "       'MBP-seq', 'ssp-miR166-seq', 'Smart-seq', 'Mab-seq',\n",
    "       'self-sequencing', 'clone-sequencing', 'base-sequencing',\n",
    "       'retrieve-ensembl-seq', 'ChIRP-seq', 'Cloning-sequencing',\n",
    "       'TRAP-seq', 'ChIp-seq', 'DHS-seq', 'Illumina-sequencing', 'mt-seq',\n",
    "       'TAB-seq', 'plasma-seq', 'Direct-sequencing', 'finger-sequencing',\n",
    "       'Solexa-sequencing', 'whole-genome-sequencing', 'Exome-seq',\n",
    "       'genotype-by-sequencing', 'AutoMeDIP-seq', 'BSA-sequencing',\n",
    "       'bulk-sequencing', 'Exome-sequencing', 'CHiP-seq', 'cSNP-seq',\n",
    "       'methylCap-seq', 'Ago2-IP-seq', 'SSCP-sequencing',\n",
    "       'capillary-sequencing', 'Bisulphite-sequencing',\n",
    "       'amplification-sequencing', 'rDNA-sequencing', 'acid-sequencing',\n",
    "       'MLST-seq', 'Micro-sequencing', 'random-sequencing',\n",
    "       'targeted-sequencing', 'Tag-sequencing', 'ITS-sequencing',\n",
    "       'ChlP-seq', 'hmeDIP-seq', 'Pre-sequencing', 'random-seq',\n",
    "       'Pyro-sequencing', 'ALEXA-seq', 'full-sequencing',\n",
    "       'ssp-miR169-seq', 'Hi-seq', 'PA-seq', 'Gata4-ChIP-seq',\n",
    "       'ME-sequencing', 'sample-sequencing', 'immunoprecipitation-seq',\n",
    "       'BIC-seq', 'BisChIP-seq', 'ncPRO-seq', 'MBDCap-seq', 'TL-seq',\n",
    "       'Task-sequencing', 'DEG-seq', 'MCIp-seq', 'circRNA-seq', 'cnv-seq',\n",
    "       'ultra-sequencing', 'pyro-tag-sequencing', 'McrBC-seq',\n",
    "       'Dnase-seq', 'survey-sequencing', 'C-sequencing', 'SPC-sequencing',\n",
    "       'time-sequencing', 'carbon-sequencing', 'amplicon-sequencing',\n",
    "       'HRM-sequencing', 'PolyA-seq', 'm(6)A-seq', 'RT-PCR-seq',\n",
    "       'gel-sequencing', 'Ref-seq', 'MIRA-seq', 'NS-seq', 'High-seq',\n",
    "       'MeDIP-sequencing', 'TILLING-by-sequencing', 'Clip-seq', 'NMD-seq',\n",
    "       'morphotyping/ITS-sequencing', 'polyacrylamide-sequencing',\n",
    "       'Next-generation-sequencing', 'Plasma-seq', 'barcode-sequencing',\n",
    "       'ultra-deep-sequencing', 'NaHSO3-sequencing',\n",
    "       'signature-sequencing']"
   ]
  },
  {
   "cell_type": "code",
   "execution_count": 135,
   "metadata": {},
   "outputs": [],
   "source": [
    "hitDf=wordVectDf.loc[myList]#[m]\n",
    "#hitDf=wordVectDf[m]"
   ]
  },
  {
   "cell_type": "code",
   "execution_count": 137,
   "metadata": {},
   "outputs": [],
   "source": [
    "#hitDf.index.values"
   ]
  },
  {
   "cell_type": "code",
   "execution_count": 161,
   "metadata": {},
   "outputs": [
    {
     "data": {
      "text/plain": [
       "(-2, 2.5)"
      ]
     },
     "execution_count": 161,
     "metadata": {},
     "output_type": "execute_result"
    },
    {
     "data": {
      "image/png": "[encoded data removed]",
      "text/plain": [
       "<Figure size 432x432 with 1 Axes>"
      ]
     },
     "metadata": {},
     "output_type": "display_data"
    }
   ],
   "source": [
    "from sklearn import manifold ,decomposition\n",
    "import matplotlib.pyplot as plt\n",
    "\n",
    "#dimensionReduction=manifold.TSNE()\n",
    "dimensionReduction=decomposition.PCA(n_components=2)\n",
    "\n",
    "M=dimensionReduction.fit_transform(hitDf)\n",
    "\n",
    "tmpDf=pd.DataFrame(data=M,index=hitDf.index)\n",
    "\n",
    "#sns.clustermap(data=hitDf.T.corr(),metric='cosine',z_score=True)\n",
    "\n",
    "#sns.clustermap(data=hitDf.T.corr(),metric='cosine',z_score=True)\n",
    "\n",
    "fig,ax=plt.subplots(figsize=(6,6))\n",
    "tmpDf.plot(x=0,y=1,kind='scatter',ax=ax,s=10)\n",
    "for name,row in tmpDf.iterrows():\n",
    "    ax.annotate(xy=(row[0],row[1]),s=name)\n",
    "ax.set_xlim(right=3.0)\n",
    "#ax.set_xticklabels([])\n",
    "#ax.set_yticklabels([])\n",
    "\n",
    "ax.set_xlabel('First principal component')\n",
    "ax.set_ylabel('Second principal component')\n",
    "dimensionReduction.explained_variance_ratio_\n",
    "ax.set_xlim([-2,4])\n",
    "ax.set_ylim([-2,2.5])"
   ]
  },
  {
   "cell_type": "code",
   "execution_count": 103,
   "metadata": {},
   "outputs": [
    {
     "name": "stdout",
     "output_type": "stream",
     "text": [
      "0\n"
     ]
    }
   ],
   "source": [
    "for vector in nlp.vocab.vectors.values():\n",
    "    print(vector)\n",
    "    break"
   ]
  },
  {
   "cell_type": "code",
   "execution_count": 9,
   "metadata": {},
   "outputs": [],
   "source": [
    "keys=nlp.vocab.vectors.keys()"
   ]
  },
  {
   "cell_type": "code",
   "execution_count": 13,
   "metadata": {},
   "outputs": [],
   "source": []
  },
  {
   "cell_type": "code",
   "execution_count": 26,
   "metadata": {},
   "outputs": [],
   "source": [
    "#list(nlp.vocab.vectors.values())[:10]\n",
    "myNameL=[]\n",
    "for i in wordVectDf.index:\n",
    "    myNameL.append(nlp.vocab[i])\n",
    "    break"
   ]
  },
  {
   "cell_type": "code",
   "execution_count": 20,
   "metadata": {},
   "outputs": [],
   "source": [
    "lexeme=nlp.vocab[wordVectDf.index[0]]"
   ]
  },
  {
   "cell_type": "code",
   "execution_count": 23,
   "metadata": {},
   "outputs": [
    {
     "name": "stdout",
     "output_type": "stream",
     "text": [
      "</s>\n"
     ]
    }
   ],
   "source": [
    "print (str(lexeme.text))"
   ]
  },
  {
   "cell_type": "code",
   "execution_count": null,
   "metadata": {},
   "outputs": [],
   "source": [
    "L=list(nlp.vocab.strings)"
   ]
  },
  {
   "cell_type": "code",
   "execution_count": null,
   "metadata": {},
   "outputs": [],
   "source": []
  }
 ],
 "metadata": {
  "kernelspec": {
   "display_name": "Python 3",
   "language": "python",
   "name": "python3"
  },
  "language_info": {
   "codemirror_mode": {
    "name": "ipython",
    "version": 3
   },
   "file_extension": ".py",
   "mimetype": "text/x-python",
   "name": "python",
   "nbconvert_exporter": "python",
   "pygments_lexer": "ipython3",
   "version": "3.6.5"
  }
 },
 "nbformat": 4,
 "nbformat_minor": 2
}
