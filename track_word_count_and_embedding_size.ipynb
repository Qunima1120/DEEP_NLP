{
 "cells": [
  {
   "cell_type": "code",
   "execution_count": 83,
   "metadata": {},
   "outputs": [],
   "source": [
    "%matplotlib inline\n",
    "import matplotlib as mpl\n",
    "#mpl.use('Agg')\n",
    "import seaborn as sns\n",
    "\n",
    "import spacy\n",
    "\n",
    "import os\n",
    "import gensim\n",
    "from tqdm import tqdm\n",
    "\n",
    "\n",
    "#os.chdir('/data/cellardata/users/btsui/DEEP_NLP/NLP_spacy')\n",
    "\n",
    "import pandas as pd\n",
    "import numpy as np\n",
    "import matplotlib\n",
    "matplotlib.rcParams['pdf.fonttype'] = 42\n",
    "matplotlib.rcParams['ps.fonttype'] = 42\n"
   ]
  },
  {
   "cell_type": "code",
   "execution_count": 84,
   "metadata": {},
   "outputs": [
    {
     "name": "stdout",
     "output_type": "stream",
     "text": [
      "CPU times: user 15.1 s, sys: 1.26 s, total: 16.4 s\n",
      "Wall time: 16.4 s\n"
     ]
    }
   ],
   "source": [
    "%time model=gensim.models.Word2Vec.load ('./Data/pmc_word2_vec.gensim')\n"
   ]
  },
  {
   "cell_type": "code",
   "execution_count": 85,
   "metadata": {},
   "outputs": [],
   "source": [
    "wordCountS=pd.Series({word_text:word_model.count for word_text,word_model in  model.wv.vocab.items()})"
   ]
  },
  {
   "cell_type": "code",
   "execution_count": 86,
   "metadata": {},
   "outputs": [
    {
     "name": "stderr",
     "output_type": "stream",
     "text": [
      "100%|██████████| 100/100 [00:03<00:00, 27.15it/s]\n"
     ]
    }
   ],
   "source": [
    "myDict={}\n",
    "for i in tqdm(np.arange(5,1000,10)):\n",
    "    myDict[i] =(wordCountS>i).sum()"
   ]
  },
  {
   "cell_type": "code",
   "execution_count": 87,
   "metadata": {},
   "outputs": [],
   "source": [
    "#worCountS=pd.Series(myDict)"
   ]
  },
  {
   "cell_type": "code",
   "execution_count": 88,
   "metadata": {},
   "outputs": [],
   "source": [
    "#worCountS"
   ]
  },
  {
   "cell_type": "code",
   "execution_count": 89,
   "metadata": {},
   "outputs": [
    {
     "data": {
      "image/png": "[encoded data removed]",
      "text/plain": [
       "<Figure size 432x288 with 1 Axes>"
      ]
     },
     "metadata": {},
     "output_type": "display_data"
    }
   ],
   "source": [
    "ax=pd.Series(myDict).plot()\n",
    "ax.set_yscale('log')\n",
    "ax.set_ylabel('# of unique word in model')\n",
    "ax.set_xlabel('threshold for word count')\n",
    "ax.figure.savefig('./Results/Figures/word_count.pdf')\n",
    "ax.figure.savefig('./Results/Figures/word_count.png',dpi=300)"
   ]
  },
  {
   "cell_type": "code",
   "execution_count": 90,
   "metadata": {},
   "outputs": [
    {
     "name": "stdout",
     "output_type": "stream",
     "text": [
      "/data/cellardata/users/btsui/DEEP_NLP/NLP_spacy/./Results/Figures/word_count.pdf\r\n"
     ]
    }
   ],
   "source": [
    "!echo $PWD/./Results/Figures/word_count.pdf"
   ]
  },
  {
   "cell_type": "markdown",
   "metadata": {},
   "source": [
    "## filter the samples based on the count"
   ]
  },
  {
   "cell_type": "code",
   "execution_count": 91,
   "metadata": {},
   "outputs": [
    {
     "name": "stdout",
     "output_type": "stream",
     "text": [
      "CPU times: user 59.4 s, sys: 1.52 s, total: 1min\n",
      "Wall time: 56.1 s\n"
     ]
    }
   ],
   "source": [
    "\n",
    "%time pmc_word2_vecDf=pd.read_csv('./Data/pmc_word2_vec.txt',sep=' ',skiprows=1,header=None)\n",
    "\n",
    "pmc_word2_vecDf_clean=pmc_word2_vecDf.set_index(0)\n"
   ]
  },
  {
   "cell_type": "code",
   "execution_count": 92,
   "metadata": {},
   "outputs": [],
   "source": [
    "threshold=10 # at least 100 per sentence, reduce model size by 10 folds"
   ]
  },
  {
   "cell_type": "code",
   "execution_count": 93,
   "metadata": {},
   "outputs": [],
   "source": [
    "selectedWords=wordCountS.index[wordCountS>=threshold]"
   ]
  },
  {
   "cell_type": "code",
   "execution_count": 94,
   "metadata": {},
   "outputs": [],
   "source": [
    "m=pmc_word2_vecDf_clean.index.isin(selectedWords)"
   ]
  },
  {
   "cell_type": "code",
   "execution_count": 95,
   "metadata": {},
   "outputs": [],
   "source": [
    "pmc_word2_vecDf_sub=pmc_word2_vecDf_clean[m]"
   ]
  },
  {
   "cell_type": "code",
   "execution_count": 98,
   "metadata": {},
   "outputs": [],
   "source": [
    "pmc_word2_vecDf_sub.to_pickle('./Data/pmc_word2_vec.pandas.threshold.{}.pickle'.format(threshold))"
   ]
  },
  {
   "cell_type": "code",
   "execution_count": 99,
   "metadata": {},
   "outputs": [
    {
     "data": {
      "text/plain": [
       "smart-seq2    253\n",
       "smart-seq     120\n",
       "smartseq2      32\n",
       "smartseq       13\n",
       "dtype: int64"
      ]
     },
     "execution_count": 99,
     "metadata": {},
     "output_type": "execute_result"
    }
   ],
   "source": [
    "wordCountS[wordCountS.index.str.contains('smart')&wordCountS.index.str.contains('seq')]"
   ]
  },
  {
   "cell_type": "code",
   "execution_count": 101,
   "metadata": {},
   "outputs": [
    {
     "data": {
      "text/plain": [
       "'./Data/pmc_word2_vec.pandas.threshold.200.pickle'"
      ]
     },
     "execution_count": 101,
     "metadata": {},
     "output_type": "execute_result"
    }
   ],
   "source": [
    "'./Data/pmc_word2_vec.pandas.threshold.{}.pickle'.format(threshold)"
   ]
  },
  {
   "cell_type": "code",
   "execution_count": null,
   "metadata": {},
   "outputs": [],
   "source": []
  }
 ],
 "metadata": {
  "kernelspec": {
   "display_name": "Python 3",
   "language": "python",
   "name": "python3"
  },
  "language_info": {
   "codemirror_mode": {
    "name": "ipython",
    "version": 3
   },
   "file_extension": ".py",
   "mimetype": "text/x-python",
   "name": "python",
   "nbconvert_exporter": "python",
   "pygments_lexer": "ipython3",
   "version": "3.6.5"
  }
 },
 "nbformat": 4,
 "nbformat_minor": 2
}
