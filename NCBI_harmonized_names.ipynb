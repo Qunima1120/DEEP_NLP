{
 "cells": [
  {
   "cell_type": "code",
   "execution_count": 1,
   "metadata": {},
   "outputs": [],
   "source": [
    "%matplotlib inline\n",
    "import pandas as pd\n",
    "\n",
    "inSrs_dir='/cellar/users/btsui/Data/nrnb01_nobackup/METAMAP/allSRS.pickle'\n",
    "\n",
    "%time srsS=pd.read_pickle(inSrs_dir)"
   ]
  },
  {
   "cell_type": "code",
   "execution_count": 203,
   "metadata": {},
   "outputs": [],
   "source": [
    "l1_srs=srsS.index.get_level_values(1).str.replace(' ','_')\n",
    "\n",
    "srsS=pd.Series(data=srsS.values,\n",
    "          index=pd.MultiIndex.from_arrays([srsS.index.get_level_values(0),\n",
    "                                          l1_srs]))"
   ]
  },
  {
   "cell_type": "code",
   "execution_count": 25,
   "metadata": {},
   "outputs": [],
   "source": [
    "sra_dump_pickle_dir='/cellar/users/btsui/Data/SRA/DUMP/sra_dump.pickle'\n",
    "\n",
    "\n",
    "technical_meta_data_df=pd.read_pickle(sra_dump_pickle_dir)\n",
    "\n"
   ]
  },
  {
   "cell_type": "code",
   "execution_count": 147,
   "metadata": {},
   "outputs": [],
   "source": [
    "attribVC=l1_srs.value_counts()"
   ]
  },
  {
   "cell_type": "code",
   "execution_count": 148,
   "metadata": {},
   "outputs": [],
   "source": [
    "#attribVC.loc['analyte type']"
   ]
  },
  {
   "cell_type": "code",
   "execution_count": 149,
   "metadata": {},
   "outputs": [],
   "source": [
    "attribVC.index=attribVC.index.str.lower()"
   ]
  },
  {
   "cell_type": "code",
   "execution_count": 150,
   "metadata": {},
   "outputs": [],
   "source": [
    "attribVC=attribVC.groupby(attribVC.index).sum()"
   ]
  },
  {
   "cell_type": "code",
   "execution_count": 151,
   "metadata": {},
   "outputs": [],
   "source": [
    "NCBI_harmonized_name_df=pd.read_csv('./Data/NCBI_harmonized_name_df.tsv',sep='\\t')"
   ]
  },
  {
   "cell_type": "code",
   "execution_count": 152,
   "metadata": {},
   "outputs": [],
   "source": [
    "format_ms=NCBI_harmonized_name_df['Format'].str.contains('{text}').fillna(False)"
   ]
  },
  {
   "cell_type": "code",
   "execution_count": 153,
   "metadata": {},
   "outputs": [],
   "source": [
    "NCBI_harmonized_name_df['Harmonized name']=NCBI_harmonized_name_df['Harmonized name'].str.lower()\n",
    "#[NCBI_harmonized_name_df['Format'].str.contains('term|text').fillna(False)]"
   ]
  },
  {
   "cell_type": "code",
   "execution_count": 154,
   "metadata": {},
   "outputs": [
    {
     "name": "stderr",
     "output_type": "stream",
     "text": [
      "/cellar/users/btsui/anaconda3/envs/deep_nlp_cpu/lib/python3.6/site-packages/ipykernel_launcher.py:3: FutureWarning: \n",
      "Passing list-likes to .loc or [] with any missing label will raise\n",
      "KeyError in the future, you can use .reindex() as an alternative.\n",
      "\n",
      "See the documentation here:\n",
      "https://pandas.pydata.org/pandas-docs/stable/indexing.html#deprecate-loc-reindex-listlike\n",
      "  This is separate from the ipykernel package so we can avoid doing imports until\n"
     ]
    }
   ],
   "source": [
    "#NCBI_harmonized_name_df['n_srs']=0\n",
    "\n",
    "NCBI_harmonized_name_df['n_srs']=attribVC.loc[NCBI_harmonized_name_df['Harmonized name']].values\n",
    "\n"
   ]
  },
  {
   "cell_type": "code",
   "execution_count": 155,
   "metadata": {},
   "outputs": [],
   "source": [
    "NCBI_harmonized_name_df['Harmonized name'].str.contains(' ')"
   ]
  },
  {
   "cell_type": "code",
   "execution_count": 157,
   "metadata": {},
   "outputs": [],
   "source": [
    "#NCBI_harmonized_name_df"
   ]
  },
  {
   "cell_type": "code",
   "execution_count": 204,
   "metadata": {},
   "outputs": [],
   "source": [
    "srsS_sub=srsS[l1_srs.isin(NCBI_harmonized_name_df['Harmonized name'])\n",
    "                        ]"
   ]
  },
  {
   "cell_type": "code",
   "execution_count": 217,
   "metadata": {},
   "outputs": [],
   "source": [
    "wordCountS=srsS_sub.str.count(' ')+1\n",
    "attribWordCountS=wordCountS.groupby(level=1).median()"
   ]
  },
  {
   "cell_type": "code",
   "execution_count": 218,
   "metadata": {},
   "outputs": [],
   "source": [
    "headS=srsS_sub.sample(n=100000).groupby(level=1).head(n=100)\n",
    "\n",
    "headS=headS.reorder_levels([1,0]).sort_index()"
   ]
  },
  {
   "cell_type": "code",
   "execution_count": 219,
   "metadata": {},
   "outputs": [],
   "source": [
    "#headS"
   ]
  },
  {
   "cell_type": "code",
   "execution_count": 221,
   "metadata": {},
   "outputs": [],
   "source": [
    "#headS.loc['analyte_type'].unique()"
   ]
  },
  {
   "cell_type": "code",
   "execution_count": 202,
   "metadata": {},
   "outputs": [],
   "source": [
    "#nunique_per_attribS[nunique_per_attribS.index.str.contains('analyte')]"
   ]
  },
  {
   "cell_type": "code",
   "execution_count": 205,
   "metadata": {},
   "outputs": [
    {
     "name": "stdout",
     "output_type": "stream",
     "text": [
      "CPU times: user 37.1 s, sys: 1.24 s, total: 38.3 s\n",
      "Wall time: 35.3 s\n"
     ]
    }
   ],
   "source": [
    "%time nunique_per_attribS=srsS_sub.groupby(level=1).nunique()"
   ]
  },
  {
   "cell_type": "code",
   "execution_count": 207,
   "metadata": {},
   "outputs": [
    {
     "name": "stderr",
     "output_type": "stream",
     "text": [
      "/cellar/users/btsui/anaconda3/envs/deep_nlp_cpu/lib/python3.6/site-packages/ipykernel_launcher.py:3: FutureWarning: \n",
      "Passing list-likes to .loc or [] with any missing label will raise\n",
      "KeyError in the future, you can use .reindex() as an alternative.\n",
      "\n",
      "See the documentation here:\n",
      "https://pandas.pydata.org/pandas-docs/stable/indexing.html#deprecate-loc-reindex-listlike\n",
      "  This is separate from the ipykernel package so we can avoid doing imports until\n"
     ]
    }
   ],
   "source": [
    "#NCBI_harmonized_name_df.sort_values('n_srs',ascending=False)\n",
    "\n",
    "NCBI_harmonized_name_df['n_unique']=nunique_per_attribS.loc[NCBI_harmonized_name_df['Harmonized name']].values\n"
   ]
  },
  {
   "cell_type": "code",
   "execution_count": 208,
   "metadata": {},
   "outputs": [
    {
     "name": "stderr",
     "output_type": "stream",
     "text": [
      "/cellar/users/btsui/anaconda3/envs/deep_nlp_cpu/lib/python3.6/site-packages/ipykernel_launcher.py:1: FutureWarning: \n",
      "Passing list-likes to .loc or [] with any missing label will raise\n",
      "KeyError in the future, you can use .reindex() as an alternative.\n",
      "\n",
      "See the documentation here:\n",
      "https://pandas.pydata.org/pandas-docs/stable/indexing.html#deprecate-loc-reindex-listlike\n",
      "  \"\"\"Entry point for launching an IPython kernel.\n"
     ]
    }
   ],
   "source": [
    "NCBI_harmonized_name_df['word_count_median']=attribWordCountS.loc[NCBI_harmonized_name_df['Harmonized name']].values"
   ]
  },
  {
   "cell_type": "code",
   "execution_count": 209,
   "metadata": {},
   "outputs": [],
   "source": [
    "harmonizedDf=NCBI_harmonized_name_df.sort_values('n_unique',ascending=False)"
   ]
  },
  {
   "cell_type": "code",
   "execution_count": null,
   "metadata": {},
   "outputs": [],
   "source": []
  },
  {
   "cell_type": "code",
   "execution_count": 210,
   "metadata": {},
   "outputs": [],
   "source": [
    "#harmonizedDf[harmonizedDf['n_unique']>=1000]"
   ]
  },
  {
   "cell_type": "code",
   "execution_count": 211,
   "metadata": {},
   "outputs": [],
   "source": [
    "pd.set_option('display.max_rows', 1000)"
   ]
  },
  {
   "cell_type": "code",
   "execution_count": 212,
   "metadata": {},
   "outputs": [],
   "source": [
    "#NCBI_harmonized_name_df"
   ]
  },
  {
   "cell_type": "code",
   "execution_count": 213,
   "metadata": {},
   "outputs": [],
   "source": [
    "harmonizedDf.to_csv('./Results/harmonizedDf_with_count.tsv',sep='\\t')"
   ]
  },
  {
   "cell_type": "code",
   "execution_count": 195,
   "metadata": {},
   "outputs": [],
   "source": [
    "#(harmonizedDf['n_unique']>1000).sum()"
   ]
  },
  {
   "cell_type": "code",
   "execution_count": null,
   "metadata": {},
   "outputs": [],
   "source": []
  },
  {
   "cell_type": "code",
   "execution_count": 196,
   "metadata": {},
   "outputs": [],
   "source": [
    "#harmonizedDf[~harmonizedDf['Harmonized name'].str.contains('id$')]"
   ]
  },
  {
   "cell_type": "code",
   "execution_count": 174,
   "metadata": {},
   "outputs": [],
   "source": [
    "#!echo $PWD/./Results/harmonizedDf_with_count.tsv"
   ]
  },
  {
   "cell_type": "code",
   "execution_count": 175,
   "metadata": {},
   "outputs": [
    {
     "data": {
      "text/plain": [
       "Text(0,0.5,'# of unique text')"
      ]
     },
     "execution_count": 175,
     "metadata": {},
     "output_type": "execute_result"
    },
    {
     "data": {
      "image/png": "[encoded data removed]",
      "text/plain": [
       "<Figure size 432x288 with 1 Axes>"
      ]
     },
     "metadata": {},
     "output_type": "display_data"
    }
   ],
   "source": [
    "ax=NCBI_harmonized_name_df.plot(kind='scatter',x='n_srs',y='n_unique')\n",
    "ax.set_xscale('log')\n",
    "ax.set_yscale('log')\n",
    "ax.set_xlabel('# of SRS records')\n",
    "ax.set_ylabel('# of unique text')"
   ]
  },
  {
   "cell_type": "code",
   "execution_count": 176,
   "metadata": {},
   "outputs": [],
   "source": [
    "import seaborn as sns"
   ]
  },
  {
   "cell_type": "code",
   "execution_count": 177,
   "metadata": {},
   "outputs": [
    {
     "name": "stderr",
     "output_type": "stream",
     "text": [
      "/cellar/users/btsui/anaconda3/envs/deep_nlp_cpu/lib/python3.6/site-packages/scipy/stats/stats.py:1713: FutureWarning: Using a non-tuple sequence for multidimensional indexing is deprecated; use `arr[tuple(seq)]` instead of `arr[seq]`. In the future this will be interpreted as an array index, `arr[np.array(seq)]`, which will result either in an error or a different result.\n",
      "  return np.add.reduce(sorted[indexer] * weights, axis=axis) / sumval\n"
     ]
    },
    {
     "data": {
      "text/plain": [
       "<seaborn.axisgrid.JointGrid at 0x2ae5b86ef6a0>"
      ]
     },
     "execution_count": 177,
     "metadata": {},
     "output_type": "execute_result"
    },
    {
     "data": {
      "image/png": "[encoded data removed]",
      "text/plain": [
       "<Figure size 432x432 with 3 Axes>"
      ]
     },
     "metadata": {},
     "output_type": "display_data"
    }
   ],
   "source": [
    "import numpy as np\n",
    "logDf=np.log10(NCBI_harmonized_name_df[['n_srs','n_unique']]+1).dropna()\n",
    "sns.jointplot(data=logDf,\n",
    "             x='n_srs',y='n_unique')#.corr()\n"
   ]
  },
  {
   "cell_type": "code",
   "execution_count": 49,
   "metadata": {},
   "outputs": [],
   "source": [
    "from scipy import stats"
   ]
  },
  {
   "cell_type": "code",
   "execution_count": 51,
   "metadata": {},
   "outputs": [
    {
     "data": {
      "text/plain": [
       "LinregressResult(slope=0.8183651156382828, intercept=-0.6842403207456893, rvalue=0.8258313464198588, pvalue=1.5147251219582971e-105, stderr=0.027398349814692916)"
      ]
     },
     "execution_count": 51,
     "metadata": {},
     "output_type": "execute_result"
    }
   ],
   "source": [
    "stats.linregress(x=logDf['n_srs'],y=logDf['n_unique'])"
   ]
  },
  {
   "cell_type": "code",
   "execution_count": 52,
   "metadata": {},
   "outputs": [
    {
     "name": "stdout",
     "output_type": "stream",
     "text": [
      "--2018-07-02 15:09:29--  ftp://ftp.ncbi.nlm.nih.gov/pub/lsmith/MedTag/medtag.tar.gz\n",
      "           => 'medtag.tar.gz'\n",
      "Resolving ftp.ncbi.nlm.nih.gov (ftp.ncbi.nlm.nih.gov)... 130.14.250.10, 2607:f220:41e:250::13\n",
      "Connecting to ftp.ncbi.nlm.nih.gov (ftp.ncbi.nlm.nih.gov)|130.14.250.10|:21... connected.\n",
      "Logging in as anonymous ... Logged in!\n",
      "==> SYST ... done.    ==> PWD ... done.\n",
      "==> TYPE I ... done.  ==> CWD (1) /pub/lsmith/MedTag ... done.\n",
      "==> SIZE medtag.tar.gz ... 14761663\n",
      "==> PASV ... done.    ==> RETR medtag.tar.gz ... done.\n",
      "Length: 14761663 (14M) (unauthoritative)\n",
      "\n",
      "medtag.tar.gz       100%[===================>]  14.08M  18.9MB/s    in 0.7s    \n",
      "\n",
      "2018-07-02 15:09:30 (18.9 MB/s) - 'medtag.tar.gz' saved [14761663]\n",
      "\n"
     ]
    }
   ],
   "source": [
    "!wget ftp://ftp.ncbi.nlm.nih.gov/pub/lsmith/MedTag/medtag.tar.gz"
   ]
  },
  {
   "cell_type": "code",
   "execution_count": 53,
   "metadata": {},
   "outputs": [],
   "source": [
    "!mv medtag.tar.gz ./Data/."
   ]
  },
  {
   "cell_type": "code",
   "execution_count": 55,
   "metadata": {},
   "outputs": [
    {
     "name": "stdout",
     "output_type": "stream",
     "text": [
      "medtag/\n",
      "medtag/README\n",
      "medtag/medpost/\n",
      "medtag/medpost/medpost.db\n",
      "medtag/medpost/medpost.sql\n",
      "medtag/medpost/tag_cl.ioc\n",
      "medtag/medpost/tag_mb.ioc\n",
      "medtag/medpost/tag_mb01.ioc\n",
      "medtag/medpost/tag_mb02.ioc\n",
      "medtag/medpost/tag_mb03.ioc\n",
      "medtag/medpost/tag_mb04.ioc\n",
      "medtag/medpost/tag_mb05.ioc\n",
      "medtag/medpost/tag_mb06.ioc\n",
      "medtag/medpost/tag_mb07.ioc\n",
      "medtag/medpost/tag_mb08.ioc\n",
      "medtag/medpost/tag_mb09.ioc\n",
      "medtag/medpost/tag_mb10.ioc\n",
      "medtag/medpost/tag_ml01.ioc\n",
      "medtag/http/\n",
      "medtag/http/medtag.html\n",
      "medtag/http/footer.html\n",
      "medtag/http/cgi-lib.perl\n",
      "medtag/http/db-lib.perl\n",
      "medtag/http/delete_list.cgi\n",
      "medtag/http/delete_phrase.cgi\n",
      "medtag/http/edit_phrase.cgi\n",
      "medtag/http/edit_token.cgi\n",
      "medtag/http/insert_list.cgi\n",
      "medtag/http/insert_phrase.cgi\n",
      "medtag/http/list.cgi\n",
      "medtag/http/print_token.cgi\n",
      "medtag/http/search.cgi\n",
      "medtag/http/sum_corps.cgi\n",
      "medtag/http/sum_lists.cgi\n",
      "medtag/http/update_token.cgi\n",
      "medtag/http/getSelected.js\n",
      "medtag/http/tables.sql\n",
      "medtag/http/db_to_sql.perl\n",
      "medtag/genetag/\n",
      "medtag/genetag/genetag.db\n",
      "medtag/genetag/genetag.sql\n",
      "medtag/genetag/Correct.data\n",
      "medtag/genetag/Gold.format\n",
      "medtag/genetag/genetag.sent\n",
      "medtag/genetag/genetag.tok\n",
      "medtag/genetag/genetag.tag\n",
      "medtag/genetag/alt_eval.perl\n",
      "medtag/genetag/format.perl\n"
     ]
    }
   ],
   "source": [
    "%%bash\n",
    "cd ./Data/\n",
    "tar -xvf medtag.tar.gz"
   ]
  },
  {
   "cell_type": "code",
   "execution_count": 57,
   "metadata": {},
   "outputs": [
    {
     "name": "stdout",
     "output_type": "stream",
     "text": [
      "P00006620A05\r\n",
      "Todarodes_NN pacificus_NN contains_VVZ much_RR more_DD retinochrome_NN than_CSN Loligo_NN ,_, and_CC it_PN is_VBZ more_RR abundant_JJ in_II the_DD outer_JJ than_CSN in_II the_DD inner_JJ segments_NNS ._.\r\n",
      "P00013085A09\r\n",
      "Demethylglycodiazin_NN (_( 2-benzolsulfonamid_NN --_: 5-_MC (_( beta-hydroxyethoxy_NN )_) -pyrimidin_NN )_) ,_, which_PNR did_VDD not_RR inhibit_VVB endogenous_JJ ketogenesis_NN in_II isolated_VVNJ liver_NN cells_NNS ,_, did_VDD not_RR affect_VVB lysosomal_JJ lipase_NN activity_NN ._.\r\n",
      "P00026908A02\r\n",
      "If_CS the_DD theory_NN is_VBZ correct_JJ ,_, it_PN suggests_VVZ that_CST both_CC prophylaxis_NN and_CC management_NN of_II the_DD acute_JJ condition_NN should_VM be_VBB possible_JJ by_II means_NNS of_II selective_JJ alpha-adrenoceptor_NN antagonism_NN ._.\r\n",
      "P00042211A05\r\n",
      "However_RR ,_, in_II undifferentiated_VVNJ areas_NNS of_II transplanted_VVNJ tissue_NN ,_, we_PN found_VVD ultrastructural_JJ evidence_NN that_CST immature_JJ pericytes_NNS of_II capillaries_NNS can_VM differentiate_VVB into_II preadipocytes_NNS ._.\r\n",
      "P00058033A06\r\n",
      "Antibodies_NNS in_II sera_NNS from_II rabbits_NNS immunized_VVN with_II normal_JJ spleen_NN cells_NNS bound_VVD small_JJ but_CC significant_JJ amounts_NNS of_II radiolabeled_VVNJ melanoma_NN antigens_NNS ._.\r\n"
     ]
    }
   ],
   "source": [
    "!head ./Data/medtag/medpost/tag_ml01.ioc\n"
   ]
  },
  {
   "cell_type": "code",
   "execution_count": null,
   "metadata": {},
   "outputs": [],
   "source": []
  }
 ],
 "metadata": {
  "kernelspec": {
   "display_name": "Python 3",
   "language": "python",
   "name": "python3"
  },
  "language_info": {
   "codemirror_mode": {
    "name": "ipython",
    "version": 3
   },
   "file_extension": ".py",
   "mimetype": "text/x-python",
   "name": "python",
   "nbconvert_exporter": "python",
   "pygments_lexer": "ipython3",
   "version": "3.6.6"
  }
 },
 "nbformat": 4,
 "nbformat_minor": 2
}
