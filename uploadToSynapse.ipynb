{
 "cells": [
  {
   "cell_type": "code",
   "execution_count": 1,
   "metadata": {},
   "outputs": [
    {
     "data": {
      "text/plain": [
       "'./model/lstm.h5'"
      ]
     },
     "execution_count": 1,
     "metadata": {},
     "output_type": "execute_result"
    }
   ],
   "source": [
    "#[]"
   ]
  },
  {
   "cell_type": "code",
   "execution_count": null,
   "metadata": {},
   "outputs": [],
   "source": []
  },
  {
   "cell_type": "code",
   "execution_count": 2,
   "metadata": {},
   "outputs": [
    {
     "name": "stdout",
     "output_type": "stream",
     "text": [
      "meta.json  tokenizer  vocab\r\n"
     ]
    }
   ],
   "source": [
    "!ls ./wikipedia-pubmed-and-PMC-w2v"
   ]
  },
  {
   "cell_type": "code",
   "execution_count": 4,
   "metadata": {},
   "outputs": [
    {
     "name": "stdout",
     "output_type": "stream",
     "text": [
      "./wikipedia-pubmed-and-PMC-w2v/\n",
      "./wikipedia-pubmed-and-PMC-w2v/tokenizer\n",
      "./wikipedia-pubmed-and-PMC-w2v/meta.json\n",
      "./wikipedia-pubmed-and-PMC-w2v/vocab/\n",
      "./wikipedia-pubmed-and-PMC-w2v/vocab/key2row\n",
      "./wikipedia-pubmed-and-PMC-w2v/vocab/strings.json\n",
      "./wikipedia-pubmed-and-PMC-w2v/vocab/vectors\n",
      "./wikipedia-pubmed-and-PMC-w2v/vocab/lexemes.bin\n"
     ]
    }
   ],
   "source": [
    "!tar -zcvf ./wikipedia-pubmed-and-PMC-w2v.tar.gz ./wikipedia-pubmed-and-PMC-w2v "
   ]
  },
  {
   "cell_type": "code",
   "execution_count": 20,
   "metadata": {},
   "outputs": [],
   "source": [
    "myUpload=['./wikipedia-pubmed-and-PMC-w2v.tar.gz','./model/lstm.h5']"
   ]
  },
  {
   "cell_type": "code",
   "execution_count": 15,
   "metadata": {},
   "outputs": [
    {
     "name": "stdout",
     "output_type": "stream",
     "text": [
      "Welcome, Brian Yik Tak Tsui!\n",
      "\n"
     ]
    }
   ],
   "source": [
    "import synapseclient\n",
    "import pandas as pd\n",
    "import os\n",
    "from tqdm import tqdm\n",
    "\n",
    "syn = synapseclient.Synapse()\n",
    "\n",
    "\n",
    "syn.login(email='btsui@eng.ucsd.edu',rememberMe=True)"
   ]
  },
  {
   "cell_type": "code",
   "execution_count": 8,
   "metadata": {},
   "outputs": [],
   "source": [
    "#mergedMatricesDir='/nrnb/users/btsui/Data/all_seq/rnaseq_merged/'\n"
   ]
  },
  {
   "cell_type": "code",
   "execution_count": 10,
   "metadata": {},
   "outputs": [],
   "source": [
    "parent_folder='syn16805240'"
   ]
  },
  {
   "cell_type": "code",
   "execution_count": 11,
   "metadata": {},
   "outputs": [],
   "source": [
    "#synapseclient"
   ]
  },
  {
   "cell_type": "code",
   "execution_count": 13,
   "metadata": {},
   "outputs": [],
   "source": [
    "#results_folder = synapseclient.Folder(name=timeStamp, parent=parent_folder)\n",
    "#results_folder = syn.store(results_folder)"
   ]
  },
  {
   "cell_type": "code",
   "execution_count": 12,
   "metadata": {},
   "outputs": [],
   "source": [
    "results_folder=syn.get(parent_folder)"
   ]
  },
  {
   "cell_type": "code",
   "execution_count": 21,
   "metadata": {},
   "outputs": [],
   "source": [
    "inFnameS=pd.Series(myUpload)"
   ]
  },
  {
   "cell_type": "code",
   "execution_count": 22,
   "metadata": {},
   "outputs": [],
   "source": [
    "uploadFiles=inFnameS"
   ]
  },
  {
   "cell_type": "code",
   "execution_count": 23,
   "metadata": {},
   "outputs": [
    {
     "name": "stderr",
     "output_type": "stream",
     "text": [
      "\r",
      "  0%|          | 0/2 [00:00<?, ?it/s]"
     ]
    },
    {
     "name": "stdout",
     "output_type": "stream",
     "text": [
      "\n",
      "##################################################\n",
      " Uploading file to Synapse storage \n",
      "##################################################\n",
      "\n"
     ]
    },
    {
     "name": "stderr",
     "output_type": "stream",
     "text": [
      "\r",
      " 50%|█████     | 1/2 [03:14<03:14, 194.78s/it]"
     ]
    },
    {
     "name": "stdout",
     "output_type": "stream",
     "text": [
      "\n",
      "##################################################\n",
      " Uploading file to Synapse storage \n",
      "##################################################\n",
      "\n"
     ]
    },
    {
     "name": "stderr",
     "output_type": "stream",
     "text": [
      "100%|██████████| 2/2 [06:30<00:00, 195.27s/it]\n"
     ]
    }
   ],
   "source": [
    "for fname in tqdm(uploadFiles.values):\n",
    "    raw_data_file = synapseclient.File(path=fname, parent=results_folder)\n",
    "    raw_data_file = syn.store(raw_data_file)\n"
   ]
  },
  {
   "cell_type": "code",
   "execution_count": null,
   "metadata": {},
   "outputs": [],
   "source": [
    "#tar -zcvf tar-archive-name.tar.gz source-folder-name"
   ]
  }
 ],
 "metadata": {
  "kernelspec": {
   "display_name": "Python [default]",
   "language": "python",
   "name": "python3"
  },
  "language_info": {
   "codemirror_mode": {
    "name": "ipython",
    "version": 3
   },
   "file_extension": ".py",
   "mimetype": "text/x-python",
   "name": "python",
   "nbconvert_exporter": "python",
   "pygments_lexer": "ipython3",
   "version": "3.6.5"
  }
 },
 "nbformat": 4,
 "nbformat_minor": 2
}
