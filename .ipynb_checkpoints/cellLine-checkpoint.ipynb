{
 "cells": [
  {
   "cell_type": "code",
   "execution_count": 1,
   "metadata": {},
   "outputs": [
    {
     "name": "stderr",
     "output_type": "stream",
     "text": [
      "Using TensorFlow backend.\n",
      "/cellar/users/btsui/anaconda3/envs/deep_nlp_cpu/lib/python3.6/importlib/_bootstrap.py:219: RuntimeWarning: numpy.dtype size changed, may indicate binary incompatibility. Expected 96, got 88\n",
      "  return f(*args, **kwds)\n",
      "/cellar/users/btsui/anaconda3/envs/deep_nlp_cpu/lib/python3.6/importlib/_bootstrap.py:219: RuntimeWarning: numpy.ufunc size changed, may indicate binary incompatibility. Expected 192, got 176\n",
      "  return f(*args, **kwds)\n"
     ]
    }
   ],
   "source": [
    "import tensorflow\n",
    "from tqdm import tqdm\n",
    "\n",
    "import keras\n",
    "\n",
    "import random\n",
    "import pathlib\n",
    "import cytoolz\n",
    "import numpy\n",
    "from keras.models import Sequential, model_from_json\n",
    "from keras.layers import LSTM, Dense, Embedding, Bidirectional\n",
    "from keras.layers import TimeDistributed\n",
    "from keras.optimizers import Adam\n",
    "import thinc.extra.datasets\n",
    "from spacy.compat import pickle\n",
    "import spacy\n",
    "import pandas as pd\n",
    "from sklearn import preprocessing\n",
    "import keras\n",
    "from sklearn import model_selection\n",
    "#import seaborn as sns\n",
    "from sklearn import metrics\n",
    "#import matplotlib.pyplot as plt"
   ]
  },
  {
   "cell_type": "code",
   "execution_count": 2,
   "metadata": {},
   "outputs": [
    {
     "name": "stdout",
     "output_type": "stream",
     "text": [
      "CPU times: user 1min 5s, sys: 9.52 s, total: 1min 14s\n",
      "Wall time: 1min 15s\n"
     ]
    }
   ],
   "source": [
    "%%time \n",
    "inS_dir='/cellar/users/btsui/Data/nrnb01_nobackup/METAMAP/allSRS.pickle'\n",
    "\n",
    "sra_dump_pickle_dir='/cellar/users/btsui/Data/SRA/DUMP/sra_dump.pickle'\n",
    "\n",
    "srsS=pd.read_pickle(inS_dir)\n",
    "srsS=pd.Series(data=srsS.values,index=pd.MultiIndex.from_arrays([srsS.index.get_level_values(0),\n",
    "                                                            srsS.index.get_level_values(1).str.lower()]) )\n",
    "technical_meta_data_df=pd.read_pickle(sra_dump_pickle_dir)\n"
   ]
  },
  {
   "cell_type": "code",
   "execution_count": 3,
   "metadata": {},
   "outputs": [],
   "source": [
    "attrib_a=srsS.index.get_level_values(1)"
   ]
  },
  {
   "cell_type": "code",
   "execution_count": 5,
   "metadata": {},
   "outputs": [],
   "source": [
    "attrib_m=(attrib_a=='cell line')"
   ]
  },
  {
   "cell_type": "code",
   "execution_count": 6,
   "metadata": {},
   "outputs": [],
   "source": [
    "srsS_sub=srsS[attrib_m]"
   ]
  },
  {
   "cell_type": "code",
   "execution_count": 7,
   "metadata": {},
   "outputs": [
    {
     "data": {
      "text/plain": [
       "SRS1860734  cell line                                        GM12878\n",
       "SRS1860735  cell line                                        GM12878\n",
       "SRS1744677  cell line                                           K562\n",
       "SRS1744678  cell line                                           K562\n",
       "SRS1860773  cell line                                           K562\n",
       "SRS1745211  cell line                                          HepG2\n",
       "SRS1745212  cell line                                          HepG2\n",
       "SRS514905   cell line                                         BCBL-1\n",
       "SRS514906   cell line    DG-75 stably expressing KSHV pri-miR-K10/12\n",
       "SRS514907   cell line                                           BC-3\n",
       "SRS383710   cell line                                       PA1 cell\n",
       "SRS383711   cell line                                       PA1 cell\n",
       "SRS383712   cell line                                       PA1 cell\n",
       "SRS383713   cell line                                       PA1 cell\n",
       "SRS383714   cell line                                       PA1 cell\n",
       "SRS383715   cell line                                       PA1 cell\n",
       "SRS1745243  cell line                                           K562\n",
       "SRS1745244  cell line                                           K562\n",
       "SRS1745074  cell line                                          HepG2\n",
       "SRS1745075  cell line                                          HepG2\n",
       "SRS1313113  cell line                                        SK-N-DZ\n",
       "SRS1313114  cell line                                        SK-N-DZ\n",
       "SRS357729   cell line                                          NB508\n",
       "SRS357730   cell line                                          NB508\n",
       "SRS357731   cell line                                          NB508\n",
       "SRS357732   cell line                                          NB508\n",
       "SRS850280   cell line                                           BicR\n",
       "SRS850281   cell line                                           BicR\n",
       "SRS850282   cell line                                           BicR\n",
       "SRS850283   cell line                                          LNCaP\n",
       "                                            ...                     \n",
       "SRS1686847  cell line                                          HepG2\n",
       "SRS606153   cell line                                           NTKO\n",
       "SRS606154   cell line                                           NTKO\n",
       "SRS606155   cell line                                            TKO\n",
       "SRS606156   cell line                                            TKO\n",
       "SRS606157   cell line                                           NTKO\n",
       "SRS606158   cell line                                           NTKO\n",
       "SRS606159   cell line                                            TKO\n",
       "SRS606160   cell line                                            TKO\n",
       "SRS1816169  cell line                                        SJCRH30\n",
       "ERS506500   cell line                                           DT40\n",
       "ERS506501   cell line                                           DT40\n",
       "ERS506502   cell line                                           DT40\n",
       "ERS506503   cell line                                           DT40\n",
       "ERS506504   cell line                                           DT40\n",
       "ERS506505   cell line                                           DT40\n",
       "SRS308325   cell line                                          HepG2\n",
       "SRS308326   cell line                                          HepG2\n",
       "SRS308327   cell line                                          HepG2\n",
       "SRS308328   cell line                                          HepG2\n",
       "SRS308329   cell line                                          HepG2\n",
       "SRS308330   cell line                                          HepG2\n",
       "SRS308331   cell line                                          HepG2\n",
       "SRS308332   cell line                                          HepG2\n",
       "SRS524083   cell line                                        HEK293T\n",
       "SRS524084   cell line                                        HEK293T\n",
       "SRS1745271  cell line                                          HepG2\n",
       "SRS1745272  cell line                                          HepG2\n",
       "SRS1744628  cell line                                           K562\n",
       "SRS1744630  cell line                                           K562\n",
       "Length: 71604, dtype: object"
      ]
     },
     "execution_count": 7,
     "metadata": {},
     "output_type": "execute_result"
    }
   ],
   "source": [
    "srsS_sub.str.contains(' ')"
   ]
  },
  {
   "cell_type": "code",
   "execution_count": null,
   "metadata": {},
   "outputs": [],
   "source": []
  }
 ],
 "metadata": {
  "kernelspec": {
   "display_name": "Python 3",
   "language": "python",
   "name": "python3"
  },
  "language_info": {
   "codemirror_mode": {
    "name": "ipython",
    "version": 3
   },
   "file_extension": ".py",
   "mimetype": "text/x-python",
   "name": "python",
   "nbconvert_exporter": "python",
   "pygments_lexer": "ipython3",
   "version": "3.6.6"
  }
 },
 "nbformat": 4,
 "nbformat_minor": 2
}
