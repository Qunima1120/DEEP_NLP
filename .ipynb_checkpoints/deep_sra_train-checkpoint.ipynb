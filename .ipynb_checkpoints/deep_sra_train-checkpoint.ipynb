{
 "cells": [
  {
   "cell_type": "markdown",
   "metadata": {},
   "source": [
    "# Construction and validation of bioNLP named entity recognition model using deep learning\n",
    "Problems: the embeddings I trained is worse than the one from google\n",
    "\n",
    "deep_nlp_serial\n",
    "\n",
    "Attribution: \n",
    "    Some of the code are borrowed from the example code from spacy"
   ]
  },
  {
   "cell_type": "code",
   "execution_count": 1,
   "metadata": {},
   "outputs": [
    {
     "name": "stderr",
     "output_type": "stream",
     "text": [
      "Using TensorFlow backend.\n",
      "/cellar/users/btsui/anaconda3/envs/deep_nlp_cpu/lib/python3.6/importlib/_bootstrap.py:219: RuntimeWarning: numpy.dtype size changed, may indicate binary incompatibility. Expected 96, got 88\n",
      "  return f(*args, **kwds)\n",
      "/cellar/users/btsui/anaconda3/envs/deep_nlp_cpu/lib/python3.6/importlib/_bootstrap.py:219: RuntimeWarning: numpy.ufunc size changed, may indicate binary incompatibility. Expected 192, got 176\n",
      "  return f(*args, **kwds)\n"
     ]
    }
   ],
   "source": [
    "import tensorflow\n",
    "from tqdm import tqdm\n",
    "\n",
    "import keras\n",
    "import matplotlib.pyplot as plt\n",
    "import seaborn as sns\n",
    "import random\n",
    "import pathlib\n",
    "import cytoolz\n",
    "import numpy\n",
    "from keras.models import Sequential, model_from_json\n",
    "from keras.layers import LSTM, Dense, Embedding, Bidirectional\n",
    "from keras.layers import TimeDistributed\n",
    "from keras.optimizers import Adam\n",
    "import thinc.extra.datasets\n",
    "from spacy.compat import pickle\n",
    "import spacy\n",
    "import pandas as pd\n",
    "from sklearn import preprocessing\n",
    "import keras\n",
    "from sklearn import model_selection\n",
    "#import seaborn as sns\n",
    "from sklearn import metrics\n",
    "#import matplotlib.pyplot as plt"
   ]
  },
  {
   "cell_type": "markdown",
   "metadata": {},
   "source": [
    "### load in SRA data\n",
    "\n",
    "Wall time: 47.5 s\n"
   ]
  },
  {
   "cell_type": "code",
   "execution_count": 2,
   "metadata": {},
   "outputs": [
    {
     "name": "stdout",
     "output_type": "stream",
     "text": [
      "CPU times: user 10.8 s, sys: 3.74 s, total: 14.6 s\n",
      "Wall time: 15.6 s\n"
     ]
    }
   ],
   "source": [
    "%%time \n",
    "inS_dir='/cellar/users/btsui/Data/nrnb01_nobackup/METAMAP/allSRS.pickle'\n",
    "sra_dump_pickle_dir='/cellar/users/btsui/Data/SRA/DUMP/sra_dump.pickle'\n",
    "srsS=pd.read_pickle(inS_dir)\n",
    "technical_meta_data_df=pd.read_pickle(sra_dump_pickle_dir)\n"
   ]
  },
  {
   "cell_type": "code",
   "execution_count": 3,
   "metadata": {},
   "outputs": [],
   "source": [
    "technical_meta_data_df=technical_meta_data_df.sample(technical_meta_data_df.shape[0])"
   ]
  },
  {
   "cell_type": "markdown",
   "metadata": {},
   "source": [
    "### load in spacy models\n",
    "\n",
    "Wall time: 52.1 s\n"
   ]
  },
  {
   "cell_type": "code",
   "execution_count": 4,
   "metadata": {},
   "outputs": [
    {
     "name": "stderr",
     "output_type": "stream",
     "text": [
      "/cellar/users/btsui/anaconda3/envs/deep_nlp_cpu/lib/python3.6/importlib/_bootstrap.py:219: RuntimeWarning: numpy.dtype size changed, may indicate binary incompatibility. Expected 96, got 88\n",
      "  return f(*args, **kwds)\n",
      "/cellar/users/btsui/anaconda3/envs/deep_nlp_cpu/lib/python3.6/importlib/_bootstrap.py:219: RuntimeWarning: numpy.ufunc size changed, may indicate binary incompatibility. Expected 192, got 176\n",
      "  return f(*args, **kwds)\n"
     ]
    },
    {
     "name": "stdout",
     "output_type": "stream",
     "text": [
      "CPU times: user 49.9 s, sys: 5.2 s, total: 55.1 s\n",
      "Wall time: 55 s\n"
     ]
    }
   ],
   "source": [
    "%%time\n",
    "#nlp=spacy.load('en_vectors_web_lg')\n",
    "nlp=spacy.load('./wikipedia-pubmed-and-PMC-w2v')"
   ]
  },
  {
   "cell_type": "markdown",
   "metadata": {},
   "source": [
    "### Functions for model compilation and feature extraction\n",
    "\n",
    "Useful information for understanding the neural network: \n",
    "\n",
    "TimeDistributed: https://machinelearningmastery.com/timedistributed-layer-for-long-short-term-memory-networks-in-python/\n",
    "\n",
    "lr stands for: learning rate"
   ]
  },
  {
   "cell_type": "code",
   "execution_count": 5,
   "metadata": {},
   "outputs": [],
   "source": [
    "def compile_lstm(embeddings, shape, settings):\n",
    "    model = Sequential()\n",
    "    model.add(\n",
    "        Embedding(\n",
    "            embeddings.shape[0],\n",
    "            embeddings.shape[1],\n",
    "            input_length=shape['max_length'],\n",
    "            trainable=False,\n",
    "            weights=[embeddings],\n",
    "            mask_zero=True\n",
    "        )\n",
    "    )\n",
    "    #the same dense layer is first applied extract the most useful info from embedding layers\n",
    "    model.add(TimeDistributed(Dense(shape['nr_hidden'], use_bias=False)))\n",
    "    model.add(Bidirectional(LSTM(shape['nr_hidden'],\n",
    "                                 recurrent_dropout=settings['dropout'],\n",
    "                                 dropout=settings['dropout'])))\n",
    "    model.add(Dense(shape['nr_class'], activation='sigmoid'))\n",
    "    model.compile(optimizer=Adam(lr=settings['lr']), loss='categorical_crossentropy',\n",
    "\t\t  metrics=['accuracy'])\n",
    "    return model\n",
    "\n",
    "def get_features(docs, max_length):\n",
    "    docs = list(docs)\n",
    "    Xs = numpy.zeros((len(docs), max_length), dtype='int32')\n",
    "    for i, doc in tqdm(enumerate(docs),total=len(docs)):\n",
    "        j = 0\n",
    "        for token in doc:\n",
    "            ##rever to word vector\n",
    "            vector_id = token.vocab.vectors.find(key=token.orth)\n",
    "            if vector_id >= 0:\n",
    "                Xs[i, j] = vector_id\n",
    "            else:\n",
    "                Xs[i, j] = 0\n",
    "            j += 1\n",
    "            if j >= max_length:\n",
    "                break\n",
    "    return Xs"
   ]
  },
  {
   "cell_type": "markdown",
   "metadata": {},
   "source": [
    "# subset sra data "
   ]
  },
  {
   "cell_type": "code",
   "execution_count": 6,
   "metadata": {},
   "outputs": [],
   "source": [
    "srsWithText=srsS.index.get_level_values(0).unique()"
   ]
  },
  {
   "cell_type": "code",
   "execution_count": 7,
   "metadata": {},
   "outputs": [],
   "source": [
    "technical_meta_data_df_sub=technical_meta_data_df[technical_meta_data_df.Sample.isin(srsWithText)]"
   ]
  },
  {
   "cell_type": "markdown",
   "metadata": {},
   "source": [
    "### subset data based on entity types grouped by word vectors"
   ]
  },
  {
   "cell_type": "code",
   "execution_count": 8,
   "metadata": {},
   "outputs": [],
   "source": [
    "grouping_df=pd.read_csv('./Results/grouping.csv')"
   ]
  },
  {
   "cell_type": "code",
   "execution_count": 9,
   "metadata": {},
   "outputs": [
    {
     "data": {
      "text/html": [
       "<div>\n",
       "<style scoped>\n",
       "    .dataframe tbody tr th:only-of-type {\n",
       "        vertical-align: middle;\n",
       "    }\n",
       "\n",
       "    .dataframe tbody tr th {\n",
       "        vertical-align: top;\n",
       "    }\n",
       "\n",
       "    .dataframe thead th {\n",
       "        text-align: right;\n",
       "    }\n",
       "</style>\n",
       "<table border=\"1\" class=\"dataframe\">\n",
       "  <thead>\n",
       "    <tr style=\"text-align: right;\">\n",
       "      <th></th>\n",
       "      <th>Unnamed: 0</th>\n",
       "      <th>GroupName</th>\n",
       "      <th>I</th>\n",
       "      <th>Attributes</th>\n",
       "      <th>cosine</th>\n",
       "      <th>VC</th>\n",
       "    </tr>\n",
       "  </thead>\n",
       "  <tbody>\n",
       "    <tr>\n",
       "      <th>0</th>\n",
       "      <td>0</td>\n",
       "      <td>Species</td>\n",
       "      <td>0</td>\n",
       "      <td>SCIENTIFIC_NAME</td>\n",
       "      <td>1.000000</td>\n",
       "      <td>1136856</td>\n",
       "    </tr>\n",
       "    <tr>\n",
       "      <th>1</th>\n",
       "      <td>1</td>\n",
       "      <td>Species</td>\n",
       "      <td>1</td>\n",
       "      <td>organism</td>\n",
       "      <td>0.975771</td>\n",
       "      <td>29037</td>\n",
       "    </tr>\n",
       "    <tr>\n",
       "      <th>2</th>\n",
       "      <td>2</td>\n",
       "      <td>Species</td>\n",
       "      <td>2</td>\n",
       "      <td>Organism</td>\n",
       "      <td>0.947185</td>\n",
       "      <td>2894</td>\n",
       "    </tr>\n",
       "    <tr>\n",
       "      <th>3</th>\n",
       "      <td>3</td>\n",
       "      <td>Species</td>\n",
       "      <td>3</td>\n",
       "      <td>host</td>\n",
       "      <td>0.911220</td>\n",
       "      <td>205511</td>\n",
       "    </tr>\n",
       "    <tr>\n",
       "      <th>4</th>\n",
       "      <td>4</td>\n",
       "      <td>Species</td>\n",
       "      <td>4</td>\n",
       "      <td>host scientific name</td>\n",
       "      <td>0.910215</td>\n",
       "      <td>9909</td>\n",
       "    </tr>\n",
       "    <tr>\n",
       "      <th>5</th>\n",
       "      <td>5</td>\n",
       "      <td>Species</td>\n",
       "      <td>5</td>\n",
       "      <td>host organism</td>\n",
       "      <td>0.886798</td>\n",
       "      <td>372</td>\n",
       "    </tr>\n",
       "    <tr>\n",
       "      <th>6</th>\n",
       "      <td>6</td>\n",
       "      <td>Species</td>\n",
       "      <td>6</td>\n",
       "      <td>Species</td>\n",
       "      <td>0.879431</td>\n",
       "      <td>578</td>\n",
       "    </tr>\n",
       "    <tr>\n",
       "      <th>7</th>\n",
       "      <td>7</td>\n",
       "      <td>Species</td>\n",
       "      <td>7</td>\n",
       "      <td>specific host</td>\n",
       "      <td>0.877695</td>\n",
       "      <td>11114</td>\n",
       "    </tr>\n",
       "    <tr>\n",
       "      <th>8</th>\n",
       "      <td>8</td>\n",
       "      <td>Species</td>\n",
       "      <td>8</td>\n",
       "      <td>nat-host</td>\n",
       "      <td>0.869496</td>\n",
       "      <td>1516</td>\n",
       "    </tr>\n",
       "    <tr>\n",
       "      <th>9</th>\n",
       "      <td>9</td>\n",
       "      <td>Species</td>\n",
       "      <td>9</td>\n",
       "      <td>specific_host</td>\n",
       "      <td>0.827073</td>\n",
       "      <td>14088</td>\n",
       "    </tr>\n",
       "    <tr>\n",
       "      <th>10</th>\n",
       "      <td>10</td>\n",
       "      <td>Species</td>\n",
       "      <td>10</td>\n",
       "      <td>host_scientific_name</td>\n",
       "      <td>0.825500</td>\n",
       "      <td>4297</td>\n",
       "    </tr>\n",
       "    <tr>\n",
       "      <th>11</th>\n",
       "      <td>11</td>\n",
       "      <td>Genotype</td>\n",
       "      <td>0</td>\n",
       "      <td>genotype</td>\n",
       "      <td>1.000000</td>\n",
       "      <td>75566</td>\n",
       "    </tr>\n",
       "    <tr>\n",
       "      <th>12</th>\n",
       "      <td>12</td>\n",
       "      <td>Genotype</td>\n",
       "      <td>1</td>\n",
       "      <td>genotype/variation</td>\n",
       "      <td>0.964425</td>\n",
       "      <td>28730</td>\n",
       "    </tr>\n",
       "    <tr>\n",
       "      <th>13</th>\n",
       "      <td>13</td>\n",
       "      <td>Genotype</td>\n",
       "      <td>2</td>\n",
       "      <td>mutant</td>\n",
       "      <td>0.873065</td>\n",
       "      <td>314</td>\n",
       "    </tr>\n",
       "    <tr>\n",
       "      <th>14</th>\n",
       "      <td>14</td>\n",
       "      <td>Genotype</td>\n",
       "      <td>3</td>\n",
       "      <td>mutation</td>\n",
       "      <td>0.852953</td>\n",
       "      <td>428</td>\n",
       "    </tr>\n",
       "  </tbody>\n",
       "</table>\n",
       "</div>"
      ],
      "text/plain": [
       "    Unnamed: 0 GroupName   I            Attributes    cosine       VC\n",
       "0            0   Species   0       SCIENTIFIC_NAME  1.000000  1136856\n",
       "1            1   Species   1              organism  0.975771    29037\n",
       "2            2   Species   2              Organism  0.947185     2894\n",
       "3            3   Species   3                  host  0.911220   205511\n",
       "4            4   Species   4  host scientific name  0.910215     9909\n",
       "5            5   Species   5         host organism  0.886798      372\n",
       "6            6   Species   6               Species  0.879431      578\n",
       "7            7   Species   7         specific host  0.877695    11114\n",
       "8            8   Species   8              nat-host  0.869496     1516\n",
       "9            9   Species   9         specific_host  0.827073    14088\n",
       "10          10   Species  10  host_scientific_name  0.825500     4297\n",
       "11          11  Genotype   0              genotype  1.000000    75566\n",
       "12          12  Genotype   1    genotype/variation  0.964425    28730\n",
       "13          13  Genotype   2                mutant  0.873065      314\n",
       "14          14  Genotype   3              mutation  0.852953      428"
      ]
     },
     "execution_count": 9,
     "metadata": {},
     "output_type": "execute_result"
    }
   ],
   "source": [
    "##attributes, original attributes from NCBI\n",
    "grouping_df.head(n=15)"
   ]
  },
  {
   "cell_type": "markdown",
   "metadata": {},
   "source": [
    "### cap contribution by each study"
   ]
  },
  {
   "cell_type": "code",
   "execution_count": 10,
   "metadata": {},
   "outputs": [],
   "source": [
    "max_sample_per_study_n=100"
   ]
  },
  {
   "cell_type": "code",
   "execution_count": 11,
   "metadata": {},
   "outputs": [],
   "source": [
    "myAttribs=grouping_df.Attributes.unique()"
   ]
  },
  {
   "cell_type": "code",
   "execution_count": 12,
   "metadata": {},
   "outputs": [
    {
     "name": "stdout",
     "output_type": "stream",
     "text": [
      "classify: SCIENTIFIC_NAME, organism, Organism, host, host scientific name, host organism, Species, specific host, nat-host, specific_host, host_scientific_name, genotype, genotype/variation, mutant, mutation, Genotype, host genotype, host_genotype, ArrayExpress-Genotype, plant genotype, disease, disease state, tumor type, DiseaseState, disease status, histology, cancer type, diagnosis, clinical history, cell description, tumor, cell type, cell_type, source cell type, cell types, progenitor cell type, CellType, cell-type, tissue/cell type, DIFFERENTIATION_STAGE, biomaterial_type, source_name, cell subtype, cell, differentiation status, cell line source, tissue, tissue_type, organ, tissue source, tissue-type, organism part, Tissue, ArrayExpress-OrganismPart, tissue type, tissue origin, geo_loc_name, geographic location, geographic location (country and/or sea, region), geo loc name, \"geographic location (country and/or sea,region)\", country, geographic location (country and/or sea,region), geographic location (country and/or sea), Geographic location (country:region,area), treatment, treated with, drug treatment, Treatment, agent, stimulus, treatment protocol, condition, stimulated with, protocol, cell treatment, group\n"
     ]
    }
   ],
   "source": [
    "subsampledSrs=technical_meta_data_df.groupby('Study').head(n=max_sample_per_study_n)['Sample']\n",
    "print ('classify: {}'.format(\", \".join(myAttribs)))\n",
    "m=srsS.index.get_level_values(0).isin(subsampledSrs.values)\n",
    "m1=srsS.index.get_level_values(1).isin(myAttribs)\n",
    "srsS_subS=srsS[m&m1]"
   ]
  },
  {
   "cell_type": "code",
   "execution_count": 13,
   "metadata": {},
   "outputs": [
    {
     "data": {
      "text/plain": [
       "SRS1024493  SCIENTIFIC_NAME                  Camellia oleifera\n",
       "            geo_loc_name       China: 856 m, Jinggang Mountain\n",
       "            tissue                                        Leaf\n",
       "SRS568274   SCIENTIFIC_NAME    Escherichia coli 2-316-03_S3_C1\n",
       "            country                                   Tanzania\n",
       "dtype: object"
      ]
     },
     "execution_count": 13,
     "metadata": {},
     "output_type": "execute_result"
    }
   ],
   "source": [
    "srsS_subS.head()"
   ]
  },
  {
   "cell_type": "markdown",
   "metadata": {},
   "source": [
    "###  "
   ]
  },
  {
   "cell_type": "markdown",
   "metadata": {},
   "source": [
    "### filter text with missing or unknowns"
   ]
  },
  {
   "cell_type": "code",
   "execution_count": 14,
   "metadata": {},
   "outputs": [],
   "source": [
    "filterTextL=['not collected','not applicable','missing','n[/]?a','unknown']\n",
    "filterTextRegex=\"|\".join(map(lambda myStr:'(?:{})'.format(myStr),filterTextL))"
   ]
  },
  {
   "cell_type": "code",
   "execution_count": 15,
   "metadata": {},
   "outputs": [],
   "source": [
    "srs_filterM=srsS_subS.str.contains(filterTextRegex,case=False)\n",
    "srsS_subS=srsS_subS[~srs_filterM].str.replace( '\\s+',' ')"
   ]
  },
  {
   "cell_type": "code",
   "execution_count": 16,
   "metadata": {
    "scrolled": true
   },
   "outputs": [],
   "source": [
    "word_countS=srsS_subS.str.count(' ' )+1"
   ]
  },
  {
   "cell_type": "code",
   "execution_count": 17,
   "metadata": {},
   "outputs": [],
   "source": [
    "wordCount_m=(word_countS>=2)&(word_countS<=7)\n",
    "myDf=srsS_subS[wordCount_m].reset_index()\n",
    "myDf.columns=['srs','attrib','sentence']"
   ]
  },
  {
   "cell_type": "markdown",
   "metadata": {},
   "source": [
    "remove _ which is often used for spacing as opposed to space"
   ]
  },
  {
   "cell_type": "code",
   "execution_count": 18,
   "metadata": {},
   "outputs": [],
   "source": [
    "myDf['sentence']=myDf['sentence'].str.replace('_',' ')"
   ]
  },
  {
   "cell_type": "markdown",
   "metadata": {},
   "source": [
    "# split data into training and  testing randomly by study levels\n",
    "\n",
    "It is split by study level to avoid overgeneralization"
   ]
  },
  {
   "cell_type": "code",
   "execution_count": 19,
   "metadata": {},
   "outputs": [],
   "source": [
    "train_test_ratio=0.8"
   ]
  },
  {
   "cell_type": "code",
   "execution_count": 20,
   "metadata": {},
   "outputs": [
    {
     "name": "stdout",
     "output_type": "stream",
     "text": [
      "106722\n"
     ]
    },
    {
     "name": "stderr",
     "output_type": "stream",
     "text": [
      "/cellar/users/btsui/anaconda3/envs/deep_nlp_cpu/lib/python3.6/site-packages/ipykernel/__main__.py:6: SettingWithCopyWarning: \n",
      "A value is trying to be set on a copy of a slice from a DataFrame.\n",
      "Try using .loc[row_indexer,col_indexer] = value instead\n",
      "\n",
      "See the caveats in the documentation: http://pandas.pydata.org/pandas-docs/stable/indexing.html#indexing-view-versus-copy\n"
     ]
    }
   ],
   "source": [
    "study_S=technical_meta_data_df_sub['Study'].drop_duplicates()\n",
    "print (len(study_S))\n",
    "myNStudies=len(study_S)\n",
    "train_n=int((myNStudies*train_test_ratio))\n",
    "train_studies=study_S.sample(n=train_n,random_state=0).values\n",
    "technical_meta_data_df_sub['Train']=technical_meta_data_df_sub['Study'].isin(train_studies).values"
   ]
  },
  {
   "cell_type": "markdown",
   "metadata": {},
   "source": [
    "slice out the training and testing SRS ids"
   ]
  },
  {
   "cell_type": "code",
   "execution_count": 21,
   "metadata": {},
   "outputs": [],
   "source": [
    "train_mask=technical_meta_data_df_sub['Train']\n",
    "train_samples=technical_meta_data_df_sub['Sample'][train_mask].values\n",
    "test_samples=technical_meta_data_df_sub['Sample'][~train_mask].values"
   ]
  },
  {
   "cell_type": "markdown",
   "metadata": {},
   "source": [
    "### rename the attrib based on the grouped class name"
   ]
  },
  {
   "cell_type": "code",
   "execution_count": 22,
   "metadata": {},
   "outputs": [],
   "source": [
    "myDf['orig_attrib']=myDf['attrib']\n",
    "AttribToGroupNameS=grouping_df.groupby('Attributes')['GroupName'].first()\n",
    "myDf['attrib']=AttribToGroupNameS[myDf['orig_attrib'].values].values"
   ]
  },
  {
   "cell_type": "code",
   "execution_count": 23,
   "metadata": {},
   "outputs": [
    {
     "name": "stdout",
     "output_type": "stream",
     "text": [
      "attrib\n",
      "Cell type/tissue            311281\n",
      "Disease state                12589\n",
      "Genotype                     41426\n",
      "Geographical Location       151138\n",
      "Species                     969221\n",
      "Treatment and conditions     29323\n",
      "dtype: int64\n"
     ]
    }
   ],
   "source": [
    "### set training and testing within the dataframe\n",
    "all_train_df=myDf[myDf.srs.isin(train_samples)]\n",
    "g=all_train_df.groupby('attrib')\n",
    "print (g.size())"
   ]
  },
  {
   "cell_type": "code",
   "execution_count": 24,
   "metadata": {},
   "outputs": [
    {
     "data": {
      "text/html": [
       "<div>\n",
       "<style scoped>\n",
       "    .dataframe tbody tr th:only-of-type {\n",
       "        vertical-align: middle;\n",
       "    }\n",
       "\n",
       "    .dataframe tbody tr th {\n",
       "        vertical-align: top;\n",
       "    }\n",
       "\n",
       "    .dataframe thead th {\n",
       "        text-align: right;\n",
       "    }\n",
       "</style>\n",
       "<table border=\"1\" class=\"dataframe\">\n",
       "  <thead>\n",
       "    <tr style=\"text-align: right;\">\n",
       "      <th></th>\n",
       "      <th>srs</th>\n",
       "      <th>attrib</th>\n",
       "      <th>sentence</th>\n",
       "      <th>orig_attrib</th>\n",
       "    </tr>\n",
       "  </thead>\n",
       "  <tbody>\n",
       "    <tr>\n",
       "      <th>0</th>\n",
       "      <td>SRS1024493</td>\n",
       "      <td>Species</td>\n",
       "      <td>Camellia oleifera</td>\n",
       "      <td>SCIENTIFIC_NAME</td>\n",
       "    </tr>\n",
       "    <tr>\n",
       "      <th>1</th>\n",
       "      <td>SRS568274</td>\n",
       "      <td>Species</td>\n",
       "      <td>Escherichia coli 2-316-03 S3 C1</td>\n",
       "      <td>SCIENTIFIC_NAME</td>\n",
       "    </tr>\n",
       "    <tr>\n",
       "      <th>2</th>\n",
       "      <td>SRS568274</td>\n",
       "      <td>Species</td>\n",
       "      <td>Homo sapiens</td>\n",
       "      <td>nat-host</td>\n",
       "    </tr>\n",
       "    <tr>\n",
       "      <th>4</th>\n",
       "      <td>ERS949109</td>\n",
       "      <td>Species</td>\n",
       "      <td>Mus musculus</td>\n",
       "      <td>SCIENTIFIC_NAME</td>\n",
       "    </tr>\n",
       "    <tr>\n",
       "      <th>5</th>\n",
       "      <td>SRS1158727</td>\n",
       "      <td>Species</td>\n",
       "      <td>Homo sapiens</td>\n",
       "      <td>SCIENTIFIC_NAME</td>\n",
       "    </tr>\n",
       "    <tr>\n",
       "      <th>6</th>\n",
       "      <td>SRS1158727</td>\n",
       "      <td>Cell type/tissue</td>\n",
       "      <td>MCF7 breast cancer cell line</td>\n",
       "      <td>source_name</td>\n",
       "    </tr>\n",
       "    <tr>\n",
       "      <th>7</th>\n",
       "      <td>SRS1158728</td>\n",
       "      <td>Species</td>\n",
       "      <td>Homo sapiens</td>\n",
       "      <td>SCIENTIFIC_NAME</td>\n",
       "    </tr>\n",
       "    <tr>\n",
       "      <th>8</th>\n",
       "      <td>SRS1158728</td>\n",
       "      <td>Cell type/tissue</td>\n",
       "      <td>normal breast epithelial cells</td>\n",
       "      <td>source_name</td>\n",
       "    </tr>\n",
       "    <tr>\n",
       "      <th>9</th>\n",
       "      <td>SRS1158729</td>\n",
       "      <td>Species</td>\n",
       "      <td>Homo sapiens</td>\n",
       "      <td>SCIENTIFIC_NAME</td>\n",
       "    </tr>\n",
       "    <tr>\n",
       "      <th>10</th>\n",
       "      <td>SRS1158729</td>\n",
       "      <td>Cell type/tissue</td>\n",
       "      <td>normal breast epithelial cells</td>\n",
       "      <td>source_name</td>\n",
       "    </tr>\n",
       "    <tr>\n",
       "      <th>12</th>\n",
       "      <td>DRS014254</td>\n",
       "      <td>Species</td>\n",
       "      <td>Orthetrum albistylum</td>\n",
       "      <td>SCIENTIFIC_NAME</td>\n",
       "    </tr>\n",
       "    <tr>\n",
       "      <th>13</th>\n",
       "      <td>SRS354076</td>\n",
       "      <td>Species</td>\n",
       "      <td>Anopheles gambiae</td>\n",
       "      <td>SCIENTIFIC_NAME</td>\n",
       "    </tr>\n",
       "    <tr>\n",
       "      <th>14</th>\n",
       "      <td>SRS2492900</td>\n",
       "      <td>Species</td>\n",
       "      <td>Escherichia coli</td>\n",
       "      <td>SCIENTIFIC_NAME</td>\n",
       "    </tr>\n",
       "    <tr>\n",
       "      <th>15</th>\n",
       "      <td>SRS1071129</td>\n",
       "      <td>Species</td>\n",
       "      <td>insect metagenome</td>\n",
       "      <td>SCIENTIFIC_NAME</td>\n",
       "    </tr>\n",
       "    <tr>\n",
       "      <th>16</th>\n",
       "      <td>SRS1071129</td>\n",
       "      <td>Species</td>\n",
       "      <td>Monochamus galloprovincialis</td>\n",
       "      <td>host</td>\n",
       "    </tr>\n",
       "    <tr>\n",
       "      <th>17</th>\n",
       "      <td>SRS1228740</td>\n",
       "      <td>Species</td>\n",
       "      <td>Oryza sativa</td>\n",
       "      <td>SCIENTIFIC_NAME</td>\n",
       "    </tr>\n",
       "    <tr>\n",
       "      <th>18</th>\n",
       "      <td>SRS1228740</td>\n",
       "      <td>Cell type/tissue</td>\n",
       "      <td>rice plant</td>\n",
       "      <td>source_name</td>\n",
       "    </tr>\n",
       "    <tr>\n",
       "      <th>19</th>\n",
       "      <td>SRS1228740</td>\n",
       "      <td>Genotype</td>\n",
       "      <td>chilling-sensitive recurrent parent</td>\n",
       "      <td>genotype/variation</td>\n",
       "    </tr>\n",
       "    <tr>\n",
       "      <th>20</th>\n",
       "      <td>SRS1228740</td>\n",
       "      <td>Cell type/tissue</td>\n",
       "      <td>whole plant</td>\n",
       "      <td>tissue</td>\n",
       "    </tr>\n",
       "    <tr>\n",
       "      <th>21</th>\n",
       "      <td>SRS1228741</td>\n",
       "      <td>Species</td>\n",
       "      <td>Oryza sativa</td>\n",
       "      <td>SCIENTIFIC_NAME</td>\n",
       "    </tr>\n",
       "    <tr>\n",
       "      <th>22</th>\n",
       "      <td>SRS1228741</td>\n",
       "      <td>Cell type/tissue</td>\n",
       "      <td>rice plant</td>\n",
       "      <td>source_name</td>\n",
       "    </tr>\n",
       "    <tr>\n",
       "      <th>23</th>\n",
       "      <td>SRS1228741</td>\n",
       "      <td>Genotype</td>\n",
       "      <td>chilling-sensitive recurrent parent</td>\n",
       "      <td>genotype/variation</td>\n",
       "    </tr>\n",
       "    <tr>\n",
       "      <th>24</th>\n",
       "      <td>SRS1228741</td>\n",
       "      <td>Cell type/tissue</td>\n",
       "      <td>whole plant</td>\n",
       "      <td>tissue</td>\n",
       "    </tr>\n",
       "    <tr>\n",
       "      <th>25</th>\n",
       "      <td>SRS1228742</td>\n",
       "      <td>Species</td>\n",
       "      <td>Oryza sativa</td>\n",
       "      <td>SCIENTIFIC_NAME</td>\n",
       "    </tr>\n",
       "    <tr>\n",
       "      <th>26</th>\n",
       "      <td>SRS1228742</td>\n",
       "      <td>Cell type/tissue</td>\n",
       "      <td>rice plant</td>\n",
       "      <td>source_name</td>\n",
       "    </tr>\n",
       "    <tr>\n",
       "      <th>27</th>\n",
       "      <td>SRS1228742</td>\n",
       "      <td>Genotype</td>\n",
       "      <td>chilling tolerance chromosome substitution lin...</td>\n",
       "      <td>genotype/variation</td>\n",
       "    </tr>\n",
       "    <tr>\n",
       "      <th>28</th>\n",
       "      <td>SRS1228742</td>\n",
       "      <td>Cell type/tissue</td>\n",
       "      <td>whole plant</td>\n",
       "      <td>tissue</td>\n",
       "    </tr>\n",
       "    <tr>\n",
       "      <th>29</th>\n",
       "      <td>SRS1228743</td>\n",
       "      <td>Species</td>\n",
       "      <td>Oryza sativa</td>\n",
       "      <td>SCIENTIFIC_NAME</td>\n",
       "    </tr>\n",
       "    <tr>\n",
       "      <th>30</th>\n",
       "      <td>SRS1228743</td>\n",
       "      <td>Cell type/tissue</td>\n",
       "      <td>rice plant</td>\n",
       "      <td>source_name</td>\n",
       "    </tr>\n",
       "    <tr>\n",
       "      <th>31</th>\n",
       "      <td>SRS1228743</td>\n",
       "      <td>Genotype</td>\n",
       "      <td>chilling tolerance chromosome substitution lin...</td>\n",
       "      <td>genotype/variation</td>\n",
       "    </tr>\n",
       "    <tr>\n",
       "      <th>...</th>\n",
       "      <td>...</td>\n",
       "      <td>...</td>\n",
       "      <td>...</td>\n",
       "      <td>...</td>\n",
       "    </tr>\n",
       "    <tr>\n",
       "      <th>1888366</th>\n",
       "      <td>SRS1755417</td>\n",
       "      <td>Species</td>\n",
       "      <td>Bos taurus</td>\n",
       "      <td>SCIENTIFIC_NAME</td>\n",
       "    </tr>\n",
       "    <tr>\n",
       "      <th>1888371</th>\n",
       "      <td>SRS960696</td>\n",
       "      <td>Species</td>\n",
       "      <td>Mus musculus</td>\n",
       "      <td>SCIENTIFIC_NAME</td>\n",
       "    </tr>\n",
       "    <tr>\n",
       "      <th>1888372</th>\n",
       "      <td>SRS960696</td>\n",
       "      <td>Cell type/tissue</td>\n",
       "      <td>Bone marrow</td>\n",
       "      <td>source_name</td>\n",
       "    </tr>\n",
       "    <tr>\n",
       "      <th>1888373</th>\n",
       "      <td>SRS960696</td>\n",
       "      <td>Treatment and conditions</td>\n",
       "      <td>Hlf/Hlf forced dimer lentivirus transduced</td>\n",
       "      <td>protocol</td>\n",
       "    </tr>\n",
       "    <tr>\n",
       "      <th>1888374</th>\n",
       "      <td>SRS960697</td>\n",
       "      <td>Species</td>\n",
       "      <td>Mus musculus</td>\n",
       "      <td>SCIENTIFIC_NAME</td>\n",
       "    </tr>\n",
       "    <tr>\n",
       "      <th>1888375</th>\n",
       "      <td>SRS960697</td>\n",
       "      <td>Cell type/tissue</td>\n",
       "      <td>Bone marrow</td>\n",
       "      <td>source_name</td>\n",
       "    </tr>\n",
       "    <tr>\n",
       "      <th>1888376</th>\n",
       "      <td>SRS960697</td>\n",
       "      <td>Treatment and conditions</td>\n",
       "      <td>Hlf/Hlf forced dimer lentivirus transduced</td>\n",
       "      <td>protocol</td>\n",
       "    </tr>\n",
       "    <tr>\n",
       "      <th>1888377</th>\n",
       "      <td>SRS960698</td>\n",
       "      <td>Species</td>\n",
       "      <td>Mus musculus</td>\n",
       "      <td>SCIENTIFIC_NAME</td>\n",
       "    </tr>\n",
       "    <tr>\n",
       "      <th>1888378</th>\n",
       "      <td>SRS960698</td>\n",
       "      <td>Cell type/tissue</td>\n",
       "      <td>Bone marrow</td>\n",
       "      <td>source_name</td>\n",
       "    </tr>\n",
       "    <tr>\n",
       "      <th>1888379</th>\n",
       "      <td>SRS960698</td>\n",
       "      <td>Treatment and conditions</td>\n",
       "      <td>Control lentivirus transduced</td>\n",
       "      <td>protocol</td>\n",
       "    </tr>\n",
       "    <tr>\n",
       "      <th>1888380</th>\n",
       "      <td>SRS960699</td>\n",
       "      <td>Species</td>\n",
       "      <td>Mus musculus</td>\n",
       "      <td>SCIENTIFIC_NAME</td>\n",
       "    </tr>\n",
       "    <tr>\n",
       "      <th>1888381</th>\n",
       "      <td>SRS960699</td>\n",
       "      <td>Cell type/tissue</td>\n",
       "      <td>Bone marrow</td>\n",
       "      <td>source_name</td>\n",
       "    </tr>\n",
       "    <tr>\n",
       "      <th>1888382</th>\n",
       "      <td>SRS960699</td>\n",
       "      <td>Treatment and conditions</td>\n",
       "      <td>Control lentivirus transduced</td>\n",
       "      <td>protocol</td>\n",
       "    </tr>\n",
       "    <tr>\n",
       "      <th>1888383</th>\n",
       "      <td>SRS960700</td>\n",
       "      <td>Species</td>\n",
       "      <td>Mus musculus</td>\n",
       "      <td>SCIENTIFIC_NAME</td>\n",
       "    </tr>\n",
       "    <tr>\n",
       "      <th>1888384</th>\n",
       "      <td>SRS960700</td>\n",
       "      <td>Cell type/tissue</td>\n",
       "      <td>Bone marrow</td>\n",
       "      <td>source_name</td>\n",
       "    </tr>\n",
       "    <tr>\n",
       "      <th>1888385</th>\n",
       "      <td>SRS960700</td>\n",
       "      <td>Cell type/tissue</td>\n",
       "      <td>Hlf-inducible GMLPs</td>\n",
       "      <td>cell type</td>\n",
       "    </tr>\n",
       "    <tr>\n",
       "      <th>1888386</th>\n",
       "      <td>SRS960700</td>\n",
       "      <td>Treatment and conditions</td>\n",
       "      <td>with doxycycline</td>\n",
       "      <td>protocol</td>\n",
       "    </tr>\n",
       "    <tr>\n",
       "      <th>1888387</th>\n",
       "      <td>SRS960701</td>\n",
       "      <td>Species</td>\n",
       "      <td>Mus musculus</td>\n",
       "      <td>SCIENTIFIC_NAME</td>\n",
       "    </tr>\n",
       "    <tr>\n",
       "      <th>1888388</th>\n",
       "      <td>SRS960701</td>\n",
       "      <td>Cell type/tissue</td>\n",
       "      <td>Bone marrow</td>\n",
       "      <td>source_name</td>\n",
       "    </tr>\n",
       "    <tr>\n",
       "      <th>1888389</th>\n",
       "      <td>SRS960701</td>\n",
       "      <td>Cell type/tissue</td>\n",
       "      <td>Hlf-inducible GMLPs</td>\n",
       "      <td>cell type</td>\n",
       "    </tr>\n",
       "    <tr>\n",
       "      <th>1888390</th>\n",
       "      <td>SRS960701</td>\n",
       "      <td>Treatment and conditions</td>\n",
       "      <td>with doxycycline</td>\n",
       "      <td>protocol</td>\n",
       "    </tr>\n",
       "    <tr>\n",
       "      <th>1888391</th>\n",
       "      <td>SRS960702</td>\n",
       "      <td>Species</td>\n",
       "      <td>Mus musculus</td>\n",
       "      <td>SCIENTIFIC_NAME</td>\n",
       "    </tr>\n",
       "    <tr>\n",
       "      <th>1888392</th>\n",
       "      <td>SRS960702</td>\n",
       "      <td>Cell type/tissue</td>\n",
       "      <td>Bone marrow</td>\n",
       "      <td>source_name</td>\n",
       "    </tr>\n",
       "    <tr>\n",
       "      <th>1888393</th>\n",
       "      <td>SRS960702</td>\n",
       "      <td>Cell type/tissue</td>\n",
       "      <td>Hlf-inducible GMLPs</td>\n",
       "      <td>cell type</td>\n",
       "    </tr>\n",
       "    <tr>\n",
       "      <th>1888394</th>\n",
       "      <td>SRS960702</td>\n",
       "      <td>Treatment and conditions</td>\n",
       "      <td>without doxycycline</td>\n",
       "      <td>protocol</td>\n",
       "    </tr>\n",
       "    <tr>\n",
       "      <th>1888395</th>\n",
       "      <td>SRS960703</td>\n",
       "      <td>Species</td>\n",
       "      <td>Mus musculus</td>\n",
       "      <td>SCIENTIFIC_NAME</td>\n",
       "    </tr>\n",
       "    <tr>\n",
       "      <th>1888396</th>\n",
       "      <td>SRS960703</td>\n",
       "      <td>Cell type/tissue</td>\n",
       "      <td>Bone marrow</td>\n",
       "      <td>source_name</td>\n",
       "    </tr>\n",
       "    <tr>\n",
       "      <th>1888397</th>\n",
       "      <td>SRS960703</td>\n",
       "      <td>Cell type/tissue</td>\n",
       "      <td>Hlf-inducible GMLPs</td>\n",
       "      <td>cell type</td>\n",
       "    </tr>\n",
       "    <tr>\n",
       "      <th>1888398</th>\n",
       "      <td>SRS960703</td>\n",
       "      <td>Treatment and conditions</td>\n",
       "      <td>without doxycycline</td>\n",
       "      <td>protocol</td>\n",
       "    </tr>\n",
       "    <tr>\n",
       "      <th>1888399</th>\n",
       "      <td>ERS1253904</td>\n",
       "      <td>Species</td>\n",
       "      <td>Homo sapiens</td>\n",
       "      <td>SCIENTIFIC_NAME</td>\n",
       "    </tr>\n",
       "  </tbody>\n",
       "</table>\n",
       "<p>1514978 rows × 4 columns</p>\n",
       "</div>"
      ],
      "text/plain": [
       "                srs                    attrib  \\\n",
       "0        SRS1024493                   Species   \n",
       "1         SRS568274                   Species   \n",
       "2         SRS568274                   Species   \n",
       "4         ERS949109                   Species   \n",
       "5        SRS1158727                   Species   \n",
       "6        SRS1158727          Cell type/tissue   \n",
       "7        SRS1158728                   Species   \n",
       "8        SRS1158728          Cell type/tissue   \n",
       "9        SRS1158729                   Species   \n",
       "10       SRS1158729          Cell type/tissue   \n",
       "12        DRS014254                   Species   \n",
       "13        SRS354076                   Species   \n",
       "14       SRS2492900                   Species   \n",
       "15       SRS1071129                   Species   \n",
       "16       SRS1071129                   Species   \n",
       "17       SRS1228740                   Species   \n",
       "18       SRS1228740          Cell type/tissue   \n",
       "19       SRS1228740                  Genotype   \n",
       "20       SRS1228740          Cell type/tissue   \n",
       "21       SRS1228741                   Species   \n",
       "22       SRS1228741          Cell type/tissue   \n",
       "23       SRS1228741                  Genotype   \n",
       "24       SRS1228741          Cell type/tissue   \n",
       "25       SRS1228742                   Species   \n",
       "26       SRS1228742          Cell type/tissue   \n",
       "27       SRS1228742                  Genotype   \n",
       "28       SRS1228742          Cell type/tissue   \n",
       "29       SRS1228743                   Species   \n",
       "30       SRS1228743          Cell type/tissue   \n",
       "31       SRS1228743                  Genotype   \n",
       "...             ...                       ...   \n",
       "1888366  SRS1755417                   Species   \n",
       "1888371   SRS960696                   Species   \n",
       "1888372   SRS960696          Cell type/tissue   \n",
       "1888373   SRS960696  Treatment and conditions   \n",
       "1888374   SRS960697                   Species   \n",
       "1888375   SRS960697          Cell type/tissue   \n",
       "1888376   SRS960697  Treatment and conditions   \n",
       "1888377   SRS960698                   Species   \n",
       "1888378   SRS960698          Cell type/tissue   \n",
       "1888379   SRS960698  Treatment and conditions   \n",
       "1888380   SRS960699                   Species   \n",
       "1888381   SRS960699          Cell type/tissue   \n",
       "1888382   SRS960699  Treatment and conditions   \n",
       "1888383   SRS960700                   Species   \n",
       "1888384   SRS960700          Cell type/tissue   \n",
       "1888385   SRS960700          Cell type/tissue   \n",
       "1888386   SRS960700  Treatment and conditions   \n",
       "1888387   SRS960701                   Species   \n",
       "1888388   SRS960701          Cell type/tissue   \n",
       "1888389   SRS960701          Cell type/tissue   \n",
       "1888390   SRS960701  Treatment and conditions   \n",
       "1888391   SRS960702                   Species   \n",
       "1888392   SRS960702          Cell type/tissue   \n",
       "1888393   SRS960702          Cell type/tissue   \n",
       "1888394   SRS960702  Treatment and conditions   \n",
       "1888395   SRS960703                   Species   \n",
       "1888396   SRS960703          Cell type/tissue   \n",
       "1888397   SRS960703          Cell type/tissue   \n",
       "1888398   SRS960703  Treatment and conditions   \n",
       "1888399  ERS1253904                   Species   \n",
       "\n",
       "                                                  sentence         orig_attrib  \n",
       "0                                        Camellia oleifera     SCIENTIFIC_NAME  \n",
       "1                          Escherichia coli 2-316-03 S3 C1     SCIENTIFIC_NAME  \n",
       "2                                             Homo sapiens            nat-host  \n",
       "4                                             Mus musculus     SCIENTIFIC_NAME  \n",
       "5                                             Homo sapiens     SCIENTIFIC_NAME  \n",
       "6                             MCF7 breast cancer cell line         source_name  \n",
       "7                                             Homo sapiens     SCIENTIFIC_NAME  \n",
       "8                           normal breast epithelial cells         source_name  \n",
       "9                                             Homo sapiens     SCIENTIFIC_NAME  \n",
       "10                          normal breast epithelial cells         source_name  \n",
       "12                                    Orthetrum albistylum     SCIENTIFIC_NAME  \n",
       "13                                       Anopheles gambiae     SCIENTIFIC_NAME  \n",
       "14                                        Escherichia coli     SCIENTIFIC_NAME  \n",
       "15                                       insect metagenome     SCIENTIFIC_NAME  \n",
       "16                            Monochamus galloprovincialis                host  \n",
       "17                                            Oryza sativa     SCIENTIFIC_NAME  \n",
       "18                                              rice plant         source_name  \n",
       "19                     chilling-sensitive recurrent parent  genotype/variation  \n",
       "20                                             whole plant              tissue  \n",
       "21                                            Oryza sativa     SCIENTIFIC_NAME  \n",
       "22                                              rice plant         source_name  \n",
       "23                     chilling-sensitive recurrent parent  genotype/variation  \n",
       "24                                             whole plant              tissue  \n",
       "25                                            Oryza sativa     SCIENTIFIC_NAME  \n",
       "26                                              rice plant         source_name  \n",
       "27       chilling tolerance chromosome substitution lin...  genotype/variation  \n",
       "28                                             whole plant              tissue  \n",
       "29                                            Oryza sativa     SCIENTIFIC_NAME  \n",
       "30                                              rice plant         source_name  \n",
       "31       chilling tolerance chromosome substitution lin...  genotype/variation  \n",
       "...                                                    ...                 ...  \n",
       "1888366                                         Bos taurus     SCIENTIFIC_NAME  \n",
       "1888371                                       Mus musculus     SCIENTIFIC_NAME  \n",
       "1888372                                        Bone marrow         source_name  \n",
       "1888373         Hlf/Hlf forced dimer lentivirus transduced            protocol  \n",
       "1888374                                       Mus musculus     SCIENTIFIC_NAME  \n",
       "1888375                                        Bone marrow         source_name  \n",
       "1888376         Hlf/Hlf forced dimer lentivirus transduced            protocol  \n",
       "1888377                                       Mus musculus     SCIENTIFIC_NAME  \n",
       "1888378                                        Bone marrow         source_name  \n",
       "1888379                      Control lentivirus transduced            protocol  \n",
       "1888380                                       Mus musculus     SCIENTIFIC_NAME  \n",
       "1888381                                        Bone marrow         source_name  \n",
       "1888382                      Control lentivirus transduced            protocol  \n",
       "1888383                                       Mus musculus     SCIENTIFIC_NAME  \n",
       "1888384                                        Bone marrow         source_name  \n",
       "1888385                                Hlf-inducible GMLPs           cell type  \n",
       "1888386                                   with doxycycline            protocol  \n",
       "1888387                                       Mus musculus     SCIENTIFIC_NAME  \n",
       "1888388                                        Bone marrow         source_name  \n",
       "1888389                                Hlf-inducible GMLPs           cell type  \n",
       "1888390                                   with doxycycline            protocol  \n",
       "1888391                                       Mus musculus     SCIENTIFIC_NAME  \n",
       "1888392                                        Bone marrow         source_name  \n",
       "1888393                                Hlf-inducible GMLPs           cell type  \n",
       "1888394                                without doxycycline            protocol  \n",
       "1888395                                       Mus musculus     SCIENTIFIC_NAME  \n",
       "1888396                                        Bone marrow         source_name  \n",
       "1888397                                Hlf-inducible GMLPs           cell type  \n",
       "1888398                                without doxycycline            protocol  \n",
       "1888399                                       Homo sapiens     SCIENTIFIC_NAME  \n",
       "\n",
       "[1514978 rows x 4 columns]"
      ]
     },
     "execution_count": 24,
     "metadata": {},
     "output_type": "execute_result"
    }
   ],
   "source": [
    "all_train_df"
   ]
  },
  {
   "cell_type": "markdown",
   "metadata": {},
   "source": [
    "### filter based on data availability"
   ]
  },
  {
   "cell_type": "markdown",
   "metadata": {},
   "source": [
    "### cap on text duplicates"
   ]
  },
  {
   "cell_type": "code",
   "execution_count": 25,
   "metadata": {},
   "outputs": [],
   "source": [
    "nDupTextMax=1000"
   ]
  },
  {
   "cell_type": "code",
   "execution_count": 26,
   "metadata": {},
   "outputs": [],
   "source": [
    "all_train_df=all_train_df.sample(all_train_df.shape[0])"
   ]
  },
  {
   "cell_type": "code",
   "execution_count": 27,
   "metadata": {},
   "outputs": [],
   "source": [
    "categorical_fields=['SCIENTIFIC_NAME']\n",
    "dedup_train_df=all_train_df[~all_train_df.orig_attrib.isin(['SCIENTIFIC_NAME'])\n",
    "                           ].groupby(['sentence']).head(n=nDupTextMax)"
   ]
  },
  {
   "cell_type": "markdown",
   "metadata": {},
   "source": [
    "### subsetting training and testing data \n",
    "shuffle the training data to make sure the model isn't learning the ordering of the data"
   ]
  },
  {
   "cell_type": "code",
   "execution_count": 28,
   "metadata": {
    "scrolled": true
   },
   "outputs": [],
   "source": [
    "cap_size=20000#20000#1000#50000\n",
    "train_df=dedup_train_df.sample(dedup_train_df.shape[0]).groupby('attrib').head(n=cap_size)\n",
    "all_test_df=myDf[myDf.srs.isin(test_samples)]\n",
    "test_df=all_test_df.sample(n=all_test_df.shape[0]).groupby('attrib').head(cap_size)"
   ]
  },
  {
   "cell_type": "markdown",
   "metadata": {},
   "source": [
    "### set up LSTM model"
   ]
  },
  {
   "cell_type": "code",
   "execution_count": 29,
   "metadata": {},
   "outputs": [],
   "source": [
    "nr_hidden=64 \n",
    "max_length=7#, #95% percentile of training phrase length from NCIT\n",
    "dropout=0.5\n",
    "learn_rate=0.001#, # General NN config\n",
    "nb_epoch=1#\n",
    "batch_size=100"
   ]
  },
  {
   "cell_type": "markdown",
   "metadata": {},
   "source": [
    "use the sklearn encoder going back and forth between classes in string format and integer format"
   ]
  },
  {
   "cell_type": "code",
   "execution_count": 30,
   "metadata": {},
   "outputs": [],
   "source": [
    "classNames=AttribToGroupNameS.unique()"
   ]
  },
  {
   "cell_type": "code",
   "execution_count": 31,
   "metadata": {},
   "outputs": [],
   "source": [
    "le = preprocessing.LabelEncoder()\n",
    "le.fit(classNames)\n",
    "nr_classes=len(le.classes_)"
   ]
  },
  {
   "cell_type": "code",
   "execution_count": 32,
   "metadata": {},
   "outputs": [],
   "source": [
    "lstm_shape={'nr_hidden': 64, 'max_length': max_length, 'nr_class': nr_classes}\n",
    "lstm_settings={'dropout': 0.5, 'lr': 0.001}"
   ]
  },
  {
   "cell_type": "code",
   "execution_count": 33,
   "metadata": {},
   "outputs": [],
   "source": [
    "embeddings = nlp.vocab.vectors.data"
   ]
  },
  {
   "cell_type": "markdown",
   "metadata": {},
   "source": [
    "### transform list of freetexts into a matrix of word embeddings"
   ]
  },
  {
   "cell_type": "code",
   "execution_count": 34,
   "metadata": {},
   "outputs": [
    {
     "data": {
      "text/plain": [
       "Treatment and conditions    20000\n",
       "Genotype                    20000\n",
       "Cell type/tissue            20000\n",
       "Species                     20000\n",
       "Geographical Location       20000\n",
       "Disease state               12578\n",
       "Name: attrib, dtype: int64"
      ]
     },
     "execution_count": 34,
     "metadata": {},
     "output_type": "execute_result"
    }
   ],
   "source": [
    "train_df.attrib.value_counts()"
   ]
  },
  {
   "cell_type": "code",
   "execution_count": 35,
   "metadata": {},
   "outputs": [
    {
     "data": {
      "text/plain": [
       "Cell type/tissue            20000\n",
       "Species                     20000\n",
       "Geographical Location       20000\n",
       "Genotype                     9882\n",
       "Treatment and conditions     7375\n",
       "Disease state                2978\n",
       "Name: attrib, dtype: int64"
      ]
     },
     "execution_count": 35,
     "metadata": {},
     "output_type": "execute_result"
    }
   ],
   "source": [
    "test_df.attrib.value_counts()"
   ]
  },
  {
   "cell_type": "code",
   "execution_count": 36,
   "metadata": {
    "scrolled": true
   },
   "outputs": [
    {
     "name": "stderr",
     "output_type": "stream",
     "text": [
      "100%|██████████| 112578/112578 [00:06<00:00, 17023.25it/s]\n",
      "100%|██████████| 80235/80235 [00:03<00:00, 22388.22it/s]\n",
      "100%|██████████| 112578/112578 [00:00<00:00, 149672.93it/s]\n",
      "100%|██████████| 80235/80235 [00:00<00:00, 159330.46it/s]\n"
     ]
    }
   ],
   "source": [
    "train_texts=train_df.sentence.tolist()\n",
    "dev_texts=test_df.sentence.tolist()\n",
    "\n",
    "train_labels=keras.utils.to_categorical(\n",
    "    le.transform(train_df.attrib.values))\n",
    "dev_labels=keras.utils.to_categorical(le.transform(test_df.attrib.values))\n",
    "\n",
    "train_docs = list(tqdm(nlp.pipe(train_texts,n_threads=32),total=len(train_texts)))\n",
    "dev_docs = list(tqdm(nlp.pipe(dev_texts,n_threads=32),total=len(dev_texts)))\n",
    "\n",
    "train_X = get_features(train_docs, lstm_shape['max_length'])\n",
    "dev_X = get_features(dev_docs, lstm_shape['max_length'])"
   ]
  },
  {
   "cell_type": "markdown",
   "metadata": {},
   "source": [
    "#### Model training\n",
    "\n",
    "\n",
    "#26 mins per epoch, on a machine with 48 threads, might want to use GPU machine bordeaux for this \n"
   ]
  },
  {
   "cell_type": "code",
   "execution_count": 37,
   "metadata": {},
   "outputs": [],
   "source": []
  },
  {
   "cell_type": "code",
   "execution_count": 38,
   "metadata": {},
   "outputs": [],
   "source": [
    "numpy.save('./model/classes.npy', le.classes_)"
   ]
  },
  {
   "cell_type": "code",
   "execution_count": 39,
   "metadata": {},
   "outputs": [],
   "source": [
    "model = compile_lstm(embeddings, lstm_shape, lstm_settings)"
   ]
  },
  {
   "cell_type": "code",
   "execution_count": null,
   "metadata": {},
   "outputs": [],
   "source": [
    "from IPython.utils import io"
   ]
  },
  {
   "cell_type": "code",
   "execution_count": 40,
   "metadata": {
    "scrolled": true
   },
   "outputs": [],
   "source": [
    "%%capture keras_stdout\n",
    "lstm=model.fit(train_X, train_labels, validation_data=(dev_X, dev_labels),\n",
    "          nb_epoch=nb_epoch,verbose=1, batch_size=batch_size)"
   ]
  },
  {
   "cell_type": "code",
   "execution_count": 41,
   "metadata": {},
   "outputs": [],
   "source": [
    "lstm.model.save('./model/lstm.h5')"
   ]
  },
  {
   "cell_type": "markdown",
   "metadata": {},
   "source": [
    "### see how training accuracy improve as the amount of data increase"
   ]
  },
  {
   "cell_type": "code",
   "execution_count": 42,
   "metadata": {},
   "outputs": [],
   "source": [
    "import matplotlib\n",
    "import numpy as np\n",
    "import matplotlib.pyplot as plt"
   ]
  },
  {
   "cell_type": "code",
   "execution_count": 43,
   "metadata": {},
   "outputs": [],
   "source": [
    "keras_stdout_str=keras_stdout.stdout"
   ]
  },
  {
   "cell_type": "code",
   "execution_count": 44,
   "metadata": {},
   "outputs": [],
   "source": [
    "trainingAcc=pd.Series(keras_stdout_str.split('\\r')).str.replace('\\x08','').str.extract('acc: (\\d+.\\d+)').dropna()[0].astype(float)"
   ]
  },
  {
   "cell_type": "code",
   "execution_count": 45,
   "metadata": {},
   "outputs": [],
   "source": [
    "trainingAcc.index=trainingAcc.index*batch_size/1000"
   ]
  },
  {
   "cell_type": "code",
   "execution_count": 46,
   "metadata": {},
   "outputs": [
    {
     "data": {
      "text/plain": [
       "array([0. , 0.1, 0.2, 0.3, 0.4, 0.5, 0.6, 0.7, 0.8])"
      ]
     },
     "execution_count": 46,
     "metadata": {},
     "output_type": "execute_result"
    }
   ],
   "source": [
    "np.arange(0,0.9,0.1)"
   ]
  },
  {
   "cell_type": "code",
   "execution_count": 47,
   "metadata": {},
   "outputs": [
    {
     "data": {
      "image/png": "[encoded data removed]",
      "text/plain": [
       "<Figure size 288x216 with 1 Axes>"
      ]
     },
     "metadata": {},
     "output_type": "display_data"
    }
   ],
   "source": [
    "fig,ax=plt.subplots(figsize=(4,3))\n",
    "trainingAcc.plot(ax=ax)\n",
    "#ax.set_ylabel('#')\n",
    "ax.set_xlabel('# of data point trained (thousands)')\n",
    "ax.set_ylabel('Accuracy')\n",
    "ax.set_yticks(np.arange(0.1,1.1,0.1))\n",
    "ax.get_xaxis().set_major_formatter(\n",
    "    matplotlib.ticker.FuncFormatter(lambda x, p: format(int(x), ',')))\n",
    "ax.figure.savefig('./Results/Figures/data_vol__accuracy.pdf')\n",
    "ax.figure.savefig('./Results/Figures/data_vol__accuracy.png',dpi=300)"
   ]
  },
  {
   "cell_type": "markdown",
   "metadata": {},
   "source": [
    "### evaluate model"
   ]
  },
  {
   "cell_type": "code",
   "execution_count": 48,
   "metadata": {},
   "outputs": [],
   "source": [
    "from keras.models import load_model\n"
   ]
  },
  {
   "cell_type": "code",
   "execution_count": 49,
   "metadata": {},
   "outputs": [
    {
     "name": "stderr",
     "output_type": "stream",
     "text": [
      "100%|██████████| 80235/80235 [00:03<00:00, 25513.55it/s]\n",
      "100%|██████████| 80235/80235 [00:00<00:00, 160710.09it/s]\n"
     ]
    },
    {
     "name": "stdout",
     "output_type": "stream",
     "text": [
      "CPU times: user 6min 12s, sys: 7.97 s, total: 6min 20s\n",
      "Wall time: 14.6 s\n"
     ]
    }
   ],
   "source": [
    "val_docs = list(tqdm(nlp.pipe(dev_texts,),total=len(dev_texts)))\n",
    "val_X=get_features(val_docs,lstm_shape['max_length'])\n",
    "%time predictM=lstm.model.predict_proba(val_X)"
   ]
  },
  {
   "cell_type": "code",
   "execution_count": 50,
   "metadata": {},
   "outputs": [],
   "source": [
    "probaDf_multI=pd.DataFrame(data=predictM,columns=le.classes_)"
   ]
  },
  {
   "cell_type": "code",
   "execution_count": 51,
   "metadata": {},
   "outputs": [],
   "source": [
    "probaDf_multI.index=pd.MultiIndex.from_arrays([test_df.attrib.values,dev_texts],names=['entity','text'])"
   ]
  },
  {
   "cell_type": "code",
   "execution_count": 52,
   "metadata": {},
   "outputs": [],
   "source": [
    "probaDf=probaDf_multI.reset_index()"
   ]
  },
  {
   "cell_type": "code",
   "execution_count": 53,
   "metadata": {},
   "outputs": [],
   "source": [
    "myClasses=grouping_df.GroupName.unique()\n",
    "predicted_types=probaDf.loc[:,probaDf.columns.isin(myClasses)].idxmax(axis=1)"
   ]
  },
  {
   "cell_type": "code",
   "execution_count": 54,
   "metadata": {
    "scrolled": true
   },
   "outputs": [
    {
     "name": "stdout",
     "output_type": "stream",
     "text": [
      "Accuracy: 0.9343802579921481\n"
     ]
    }
   ],
   "source": [
    "print ('Accuracy:',((probaDf.entity==predicted_types).mean()))"
   ]
  },
  {
   "cell_type": "markdown",
   "metadata": {},
   "source": [
    "### show contingency tables"
   ]
  },
  {
   "cell_type": "code",
   "execution_count": 55,
   "metadata": {},
   "outputs": [],
   "source": [
    "inEvalDf=probaDf_multI#.loc[~probaDf_multI.index.get_level_values('entity').isin(['strain']),~probaDf_multI.columns.isin(['strain'])]#[m_cleanText]"
   ]
  },
  {
   "cell_type": "code",
   "execution_count": 56,
   "metadata": {},
   "outputs": [],
   "source": [
    "minProbThreshold=0.2\n",
    "confidence_mask=inEvalDf.max(axis=1)>=minProbThreshold\n",
    "tmpDf3=inEvalDf.idxmax(axis=1).reset_index(name='predicted')"
   ]
  },
  {
   "cell_type": "code",
   "execution_count": 57,
   "metadata": {},
   "outputs": [
    {
     "data": {
      "text/plain": [
       "predicted\n",
       "Cell type/tissue            18340\n",
       "Disease state                3653\n",
       "Genotype                    10455\n",
       "Geographical Location       19921\n",
       "Species                     20239\n",
       "Treatment and conditions     7627\n",
       "dtype: int64"
      ]
     },
     "execution_count": 57,
     "metadata": {},
     "output_type": "execute_result"
    }
   ],
   "source": [
    "tmpDf3.groupby('predicted').size()"
   ]
  },
  {
   "cell_type": "code",
   "execution_count": 58,
   "metadata": {},
   "outputs": [],
   "source": [
    "continDf=tmpDf3.groupby(['predicted','entity']).size().unstack().fillna(0)"
   ]
  },
  {
   "cell_type": "code",
   "execution_count": 59,
   "metadata": {
    "scrolled": true
   },
   "outputs": [],
   "source": [
    "continDf.columns=continDf.columns.copy()"
   ]
  },
  {
   "cell_type": "code",
   "execution_count": 60,
   "metadata": {},
   "outputs": [],
   "source": [
    "attribVC_train=train_df.attrib.value_counts()#.to_frame()"
   ]
  },
  {
   "cell_type": "markdown",
   "metadata": {},
   "source": [
    "### plot heatmap"
   ]
  },
  {
   "cell_type": "code",
   "execution_count": 61,
   "metadata": {},
   "outputs": [],
   "source": [
    "continDf=continDf.loc[attribVC_train.index,attribVC_train.index]\n",
    "continDf.index=continDf.index.copy()\n",
    "continDf.columns=continDf.columns.copy()\n",
    "continDf.index.name='Predicted'\n",
    "continDf.columns.name='Actual'\n",
    "percentDf=(continDf/continDf.sum(axis=0)).T"
   ]
  },
  {
   "cell_type": "code",
   "execution_count": 62,
   "metadata": {
    "scrolled": true
   },
   "outputs": [
    {
     "data": {
      "image/png": "[encoded data removed]",
      "text/plain": [
       "<Figure size 720x720 with 4 Axes>"
      ]
     },
     "metadata": {},
     "output_type": "display_data"
    }
   ],
   "source": [
    "g=sns.clustermap(data=percentDf,annot=True,cbar_kws={'label':'% of samples'},center=0.1,\n",
    "           fmt='.1f')\n",
    "#plt.close()"
   ]
  },
  {
   "cell_type": "code",
   "execution_count": 63,
   "metadata": {},
   "outputs": [
    {
     "data": {
      "image/png": "[encoded data removed]",
      "text/plain": [
       "<Figure size 216x144 with 2 Axes>"
      ]
     },
     "metadata": {},
     "output_type": "display_data"
    }
   ],
   "source": [
    "fig,ax=plt.subplots(figsize=(3,2))\n",
    "g.data2d.columns=g.data2d.columns.copy()\n",
    "g.data2d.index=g.data2d.index.copy()\n",
    "#g.data2d.index.name='Actual'\n",
    "sns.heatmap(data=percentDf.loc[g.data2d.columns,g.data2d.columns],annot=True,ax=ax,fmt='0.0%')\n",
    "ax.set_ylabel('Ground truth')\n",
    "fig.savefig('./Results/Figures/entity_contingency.pdf',bbox_inches='tight')\n",
    "fig.savefig('./Results/Figures/entity_contingency.png',dpi=300,bbox_inches='tight')"
   ]
  },
  {
   "cell_type": "code",
   "execution_count": 64,
   "metadata": {},
   "outputs": [],
   "source": [
    "contdf_long=percentDf.stack().reset_index(name='Percent')"
   ]
  },
  {
   "cell_type": "code",
   "execution_count": 65,
   "metadata": {},
   "outputs": [
    {
     "data": {
      "text/html": [
       "<div>\n",
       "<style scoped>\n",
       "    .dataframe tbody tr th:only-of-type {\n",
       "        vertical-align: middle;\n",
       "    }\n",
       "\n",
       "    .dataframe tbody tr th {\n",
       "        vertical-align: top;\n",
       "    }\n",
       "\n",
       "    .dataframe thead th {\n",
       "        text-align: right;\n",
       "    }\n",
       "</style>\n",
       "<table border=\"1\" class=\"dataframe\">\n",
       "  <thead>\n",
       "    <tr style=\"text-align: right;\">\n",
       "      <th></th>\n",
       "      <th>Actual</th>\n",
       "      <th>Predicted</th>\n",
       "      <th>Percent</th>\n",
       "    </tr>\n",
       "  </thead>\n",
       "  <tbody>\n",
       "  </tbody>\n",
       "</table>\n",
       "</div>"
      ],
      "text/plain": [
       "Empty DataFrame\n",
       "Columns: [Actual, Predicted, Percent]\n",
       "Index: []"
      ]
     },
     "execution_count": 65,
     "metadata": {},
     "output_type": "execute_result"
    }
   ],
   "source": [
    "contdf_wrong=contdf_long[contdf_long.Actual!=contdf_long.Predicted].sort_values('Percent')\n",
    "contdf_wrong[contdf_wrong.Percent>5]"
   ]
  },
  {
   "cell_type": "markdown",
   "metadata": {},
   "source": []
  },
  {
   "cell_type": "code",
   "execution_count": 66,
   "metadata": {},
   "outputs": [
    {
     "data": {
      "text/plain": [
       "{'Cell type/tissue': 0.06417132541537285,\n",
       " 'Disease state': 0.2003842331469059,\n",
       " 'Genotype': 0.34683769941329956,\n",
       " 'Geographical Location': 0.8460280895233154,\n",
       " 'Species': 0.5533264875411987,\n",
       " 'Treatment and conditions': 0.04763772338628769}"
      ]
     },
     "execution_count": 66,
     "metadata": {},
     "output_type": "execute_result"
    },
    {
     "data": {
      "image/png": "[encoded data removed]",
      "text/plain": [
       "<Figure size 432x288 with 1 Axes>"
      ]
     },
     "metadata": {},
     "output_type": "display_data"
    }
   ],
   "source": [
    "predDf=probaDf_multI.stack().reset_index()\n",
    "predDf.columns=['entity','text','predicted','proba']\n",
    "predDf['match']=predDf.entity==predDf.predicted\n",
    "sns.boxplot(data=predDf,x='entity',y='proba',hue='match',showfliers=False)\n",
    "predDf[predDf['match']].groupby(['entity'])['proba'].quantile(0.25).to_dict()"
   ]
  },
  {
   "cell_type": "markdown",
   "metadata": {},
   "source": [
    "#### Performance of model in validation cohort"
   ]
  },
  {
   "cell_type": "code",
   "execution_count": 67,
   "metadata": {},
   "outputs": [],
   "source": [
    "#!ls ./Results/Figures/"
   ]
  },
  {
   "cell_type": "code",
   "execution_count": 68,
   "metadata": {},
   "outputs": [
    {
     "data": {
      "image/png": "[encoded data removed]",
      "text/plain": [
       "<Figure size 252x288 with 1 Axes>"
      ]
     },
     "metadata": {},
     "output_type": "display_data"
    }
   ],
   "source": [
    "fig,ax=plt.subplots(figsize=(3.5,4\n",
    "                            ))\n",
    "for myClass in le.classes_: \n",
    "    fpr,tpr,_=metrics.roc_curve((probaDf.entity==myClass),probaDf[myClass])    \n",
    "    ax.plot(fpr,tpr,label=\"{myClass}\\n  (AUC: {AUC})\".format(myClass=myClass,AUC=str(metrics.auc(fpr,tpr))[:5]))\n",
    "ax.set_xlabel('False positive rate')\n",
    "ax.set_ylabel('True positive rate')\n",
    "ax.legend()\n",
    "fig.savefig('./Results/Figures/ROC.pdf',bbox_inches='tight')\n",
    "fig.savefig('./Results/Figures/ROC.png',bbox_inches='tight')\n",
    "\n"
   ]
  },
  {
   "cell_type": "code",
   "execution_count": 69,
   "metadata": {},
   "outputs": [
    {
     "data": {
      "text/plain": [
       "<matplotlib.legend.Legend at 0x2ab782ffccf8>"
      ]
     },
     "execution_count": 69,
     "metadata": {},
     "output_type": "execute_result"
    },
    {
     "data": {
      "image/png": "[encoded data removed]",
      "text/plain": [
       "<Figure size 432x288 with 1 Axes>"
      ]
     },
     "metadata": {},
     "output_type": "display_data"
    }
   ],
   "source": [
    "fig,ax=plt.subplots()\n",
    "for myClass in le.classes_: \n",
    "    precision,recall,_=metrics.precision_recall_curve((probaDf.entity==myClass),probaDf[myClass])    \n",
    "    ax.plot(recall, precision,label=\"{myClass}  (AUC: {AUC})\".format(myClass=myClass,AUC=str(metrics.auc(recall,precision))[:5]))\n",
    "ax.set_xlabel('Recall')\n",
    "ax.set_ylabel('Precision')\n",
    "ax.legend()"
   ]
  },
  {
   "cell_type": "markdown",
   "metadata": {},
   "source": [
    "### entities"
   ]
  },
  {
   "cell_type": "code",
   "execution_count": 70,
   "metadata": {},
   "outputs": [],
   "source": [
    "entity_a=inEvalDf.index.get_level_values('entity')"
   ]
  },
  {
   "cell_type": "code",
   "execution_count": 71,
   "metadata": {},
   "outputs": [],
   "source": [
    "inTmpDf=inEvalDf.idxmax(axis=1).reset_index(name='predicted')"
   ]
  },
  {
   "cell_type": "code",
   "execution_count": 72,
   "metadata": {
    "scrolled": true
   },
   "outputs": [],
   "source": [
    "inTmpDf['correct']=inTmpDf.entity==inTmpDf.predicted"
   ]
  },
  {
   "cell_type": "code",
   "execution_count": 73,
   "metadata": {},
   "outputs": [],
   "source": [
    "inTmpDf.to_csv('./model/pred.csv')"
   ]
  },
  {
   "cell_type": "code",
   "execution_count": 74,
   "metadata": {},
   "outputs": [
    {
     "data": {
      "text/plain": [
       "Cell type/tissue            20000\n",
       "Species                     20000\n",
       "Geographical Location       20000\n",
       "Genotype                     9882\n",
       "Treatment and conditions     7375\n",
       "Disease state                2978\n",
       "Name: entity, dtype: int64"
      ]
     },
     "execution_count": 74,
     "metadata": {},
     "output_type": "execute_result"
    }
   ],
   "source": [
    "#Breed, SCIENTIFIC_NAME\n",
    "inTmpDf.entity.value_counts()"
   ]
  },
  {
   "cell_type": "code",
   "execution_count": 75,
   "metadata": {},
   "outputs": [
    {
     "data": {
      "text/html": [
       "<div>\n",
       "<style scoped>\n",
       "    .dataframe tbody tr th:only-of-type {\n",
       "        vertical-align: middle;\n",
       "    }\n",
       "\n",
       "    .dataframe tbody tr th {\n",
       "        vertical-align: top;\n",
       "    }\n",
       "\n",
       "    .dataframe thead th {\n",
       "        text-align: right;\n",
       "    }\n",
       "</style>\n",
       "<table border=\"1\" class=\"dataframe\">\n",
       "  <thead>\n",
       "    <tr style=\"text-align: right;\">\n",
       "      <th></th>\n",
       "      <th>entity</th>\n",
       "      <th>text</th>\n",
       "      <th>predicted</th>\n",
       "      <th>correct</th>\n",
       "    </tr>\n",
       "  </thead>\n",
       "  <tbody>\n",
       "  </tbody>\n",
       "</table>\n",
       "</div>"
      ],
      "text/plain": [
       "Empty DataFrame\n",
       "Columns: [entity, text, predicted, correct]\n",
       "Index: []"
      ]
     },
     "execution_count": 75,
     "metadata": {},
     "output_type": "execute_result"
    }
   ],
   "source": [
    "inTmpDf[(inTmpDf.predicted=='breed')&(inTmpDf.entity=='breed')]"
   ]
  },
  {
   "cell_type": "code",
   "execution_count": 76,
   "metadata": {},
   "outputs": [
    {
     "data": {
      "text/plain": [
       "0.9343802579921481"
      ]
     },
     "execution_count": 76,
     "metadata": {},
     "output_type": "execute_result"
    }
   ],
   "source": [
    "inTmpDf['correct'].mean()"
   ]
  },
  {
   "cell_type": "code",
   "execution_count": 77,
   "metadata": {},
   "outputs": [
    {
     "data": {
      "text/plain": [
       "entity\n",
       "Treatment and conditions    0.834305\n",
       "Disease state               0.858630\n",
       "Cell type/tissue            0.872900\n",
       "Genotype                    0.944546\n",
       "Species                     0.980800\n",
       "Geographical Location       0.992600\n",
       "Name: correct, dtype: float64"
      ]
     },
     "execution_count": 77,
     "metadata": {},
     "output_type": "execute_result"
    }
   ],
   "source": [
    "inTmpDf.groupby('entity')['correct'].mean().sort_values()"
   ]
  },
  {
   "cell_type": "code",
   "execution_count": 78,
   "metadata": {},
   "outputs": [],
   "source": [
    "## use synapse for downloading"
   ]
  },
  {
   "cell_type": "code",
   "execution_count": 79,
   "metadata": {},
   "outputs": [],
   "source": [
    "#inEvalDf[entity_a=='breed'].sort_values('breed',ascending=False).index.get_level_values('text').value_counts()"
   ]
  },
  {
   "cell_type": "code",
   "execution_count": 80,
   "metadata": {},
   "outputs": [
    {
     "data": {
      "text/html": [
       "<div>\n",
       "<style scoped>\n",
       "    .dataframe tbody tr th:only-of-type {\n",
       "        vertical-align: middle;\n",
       "    }\n",
       "\n",
       "    .dataframe tbody tr th {\n",
       "        vertical-align: top;\n",
       "    }\n",
       "\n",
       "    .dataframe thead th {\n",
       "        text-align: right;\n",
       "    }\n",
       "</style>\n",
       "<table border=\"1\" class=\"dataframe\">\n",
       "  <thead>\n",
       "    <tr style=\"text-align: right;\">\n",
       "      <th></th>\n",
       "      <th></th>\n",
       "      <th>Cell type/tissue</th>\n",
       "      <th>Disease state</th>\n",
       "      <th>Genotype</th>\n",
       "      <th>Geographical Location</th>\n",
       "      <th>Species</th>\n",
       "      <th>Treatment and conditions</th>\n",
       "    </tr>\n",
       "    <tr>\n",
       "      <th>entity</th>\n",
       "      <th>text</th>\n",
       "      <th></th>\n",
       "      <th></th>\n",
       "      <th></th>\n",
       "      <th></th>\n",
       "      <th></th>\n",
       "      <th></th>\n",
       "    </tr>\n",
       "  </thead>\n",
       "  <tbody>\n",
       "    <tr>\n",
       "      <th rowspan=\"5\" valign=\"top\">Species</th>\n",
       "      <th>Rattus norvegicus</th>\n",
       "      <td>0.000145</td>\n",
       "      <td>0.000036</td>\n",
       "      <td>0.000069</td>\n",
       "      <td>0.000020</td>\n",
       "      <td>0.960126</td>\n",
       "      <td>0.000108</td>\n",
       "    </tr>\n",
       "    <tr>\n",
       "      <th>Homo sapiens</th>\n",
       "      <td>0.000290</td>\n",
       "      <td>0.000072</td>\n",
       "      <td>0.000042</td>\n",
       "      <td>0.000024</td>\n",
       "      <td>0.964343</td>\n",
       "      <td>0.000064</td>\n",
       "    </tr>\n",
       "    <tr>\n",
       "      <th>Mus musculus</th>\n",
       "      <td>0.000140</td>\n",
       "      <td>0.000027</td>\n",
       "      <td>0.000067</td>\n",
       "      <td>0.000015</td>\n",
       "      <td>0.932140</td>\n",
       "      <td>0.000066</td>\n",
       "    </tr>\n",
       "    <tr>\n",
       "      <th>human oral metagenome</th>\n",
       "      <td>0.000891</td>\n",
       "      <td>0.000191</td>\n",
       "      <td>0.000023</td>\n",
       "      <td>0.000011</td>\n",
       "      <td>0.507865</td>\n",
       "      <td>0.000716</td>\n",
       "    </tr>\n",
       "    <tr>\n",
       "      <th>Nothobranchius furzeri</th>\n",
       "      <td>0.000188</td>\n",
       "      <td>0.000010</td>\n",
       "      <td>0.002222</td>\n",
       "      <td>0.000011</td>\n",
       "      <td>0.213147</td>\n",
       "      <td>0.000119</td>\n",
       "    </tr>\n",
       "  </tbody>\n",
       "</table>\n",
       "</div>"
      ],
      "text/plain": [
       "                                Cell type/tissue  Disease state  Genotype  \\\n",
       "entity  text                                                                \n",
       "Species Rattus norvegicus               0.000145       0.000036  0.000069   \n",
       "        Homo sapiens                    0.000290       0.000072  0.000042   \n",
       "        Mus musculus                    0.000140       0.000027  0.000067   \n",
       "        human oral metagenome           0.000891       0.000191  0.000023   \n",
       "        Nothobranchius furzeri          0.000188       0.000010  0.002222   \n",
       "\n",
       "                                Geographical Location   Species  \\\n",
       "entity  text                                                      \n",
       "Species Rattus norvegicus                    0.000020  0.960126   \n",
       "        Homo sapiens                         0.000024  0.964343   \n",
       "        Mus musculus                         0.000015  0.932140   \n",
       "        human oral metagenome                0.000011  0.507865   \n",
       "        Nothobranchius furzeri               0.000011  0.213147   \n",
       "\n",
       "                                Treatment and conditions  \n",
       "entity  text                                              \n",
       "Species Rattus norvegicus                       0.000108  \n",
       "        Homo sapiens                            0.000064  \n",
       "        Mus musculus                            0.000066  \n",
       "        human oral metagenome                   0.000716  \n",
       "        Nothobranchius furzeri                  0.000119  "
      ]
     },
     "execution_count": 80,
     "metadata": {},
     "output_type": "execute_result"
    }
   ],
   "source": [
    "inEvalDf.head()"
   ]
  },
  {
   "cell_type": "markdown",
   "metadata": {},
   "source": [
    "### calculated F1 score\n",
    "\n",
    "``'binary'``:\n",
    "        Only report results for the class specified by ``pos_label``.\n",
    "        This is applicable only if targets (``y_{true,pred}``) are binary.\n",
    "    ``'micro'``:\n",
    "        Calculate metrics globally by counting the total true positives,\n",
    "        false negatives and false positives.\n",
    "    ``'macro'``:\n",
    "        Calculate metrics for each label, and find their unweighted\n",
    "        mean.  This does not take label imbalance into account.\n",
    "    ``'weighted'``:\n",
    "        Calculate metrics for each label, and find their average, weighted\n",
    "        by support (the number of true instances for each label). This\n",
    "        alters 'macro' to account for label imbalance; it can result in an\n",
    "        F-score that is not between precision and recall.\n",
    "    ``'samples'``:\n",
    "        Calculate metrics for each instance, and find their average (only\n",
    "        meaningful for multilabel classification where this differs from\n",
    "        :func:`accuracy_score`)."
   ]
  },
  {
   "cell_type": "code",
   "execution_count": 81,
   "metadata": {},
   "outputs": [
    {
     "name": "stdout",
     "output_type": "stream",
     "text": [
      "0.9350285849024207\n"
     ]
    }
   ],
   "source": [
    "print( metrics.f1_score(y_true=inTmpDf['entity'],y_pred=inTmpDf['predicted'],average='weighted'))"
   ]
  },
  {
   "cell_type": "markdown",
   "metadata": {},
   "source": [
    "# scratch"
   ]
  },
  {
   "cell_type": "code",
   "execution_count": 82,
   "metadata": {},
   "outputs": [
    {
     "ename": "NameError",
     "evalue": "name 'asdadasd' is not defined",
     "output_type": "error",
     "traceback": [
      "\u001b[0;31m---------------------------------------------------------------------------\u001b[0m",
      "\u001b[0;31mNameError\u001b[0m                                 Traceback (most recent call last)",
      "\u001b[0;32m<ipython-input-82-71b9e1639548>\u001b[0m in \u001b[0;36m<module>\u001b[0;34m()\u001b[0m\n\u001b[0;32m----> 1\u001b[0;31m \u001b[0masdadasd\u001b[0m\u001b[0;34m\u001b[0m\u001b[0m\n\u001b[0m",
      "\u001b[0;31mNameError\u001b[0m: name 'asdadasd' is not defined"
     ]
    }
   ],
   "source": [
    "asdadasd"
   ]
  },
  {
   "cell_type": "code",
   "execution_count": null,
   "metadata": {},
   "outputs": [],
   "source": []
  },
  {
   "cell_type": "markdown",
   "metadata": {},
   "source": [
    "### for a sentence split"
   ]
  },
  {
   "cell_type": "code",
   "execution_count": null,
   "metadata": {},
   "outputs": [],
   "source": [
    "import nltk\n",
    "from nltk.util import ngrams\n",
    "#\"tp53 knock out in T cell\", \"53 year old knock down\"\n",
    "sent=\"melanoma patients has BRAF mutations\"\n",
    "sent=\"melanoma cells has BRAF mutations\"\n",
    "sent=\"5 year old \"\n",
    "\n",
    "sent=\"5 human melanocytes with knockout\"\n",
    "\n",
    "#sent='subject 134982 is a cute female'\n",
    "s=sent.split(' ')\n",
    "n_gram=2\n",
    "grams=list(map(lambda L:\" \".join(L),list(ngrams(s,n_gram))))\n",
    "print (grams)\n",
    "val_docs = list(nlp.pipe(grams))\n",
    "val_X=get_features(val_docs,lstm_shape['max_length'])\n",
    "tmpDf=pd.DataFrame(data=model.predict_proba(val_X),columns=le.classes_,index=grams)\n",
    "tmpDf[(tmpDf>0.1).sum(axis=1)!=1]=0\n",
    "ax=sns.heatmap(tmpDf,cbar_kws={'label': 'Emitted probability'},annot=True)\n",
    "ax.set_ylabel('')\n",
    "ax.set_title('{} grams'.format(n_gram))"
   ]
  },
  {
   "cell_type": "code",
   "execution_count": null,
   "metadata": {},
   "outputs": [],
   "source": [
    "#"
   ]
  },
  {
   "cell_type": "code",
   "execution_count": null,
   "metadata": {},
   "outputs": [],
   "source": [
    "val_X=get_features(val_docs,lstm_shape['max_length'])"
   ]
  },
  {
   "cell_type": "code",
   "execution_count": null,
   "metadata": {},
   "outputs": [],
   "source": [
    "!echo $PWD/Data/DEEP_NLP/NLP_spacy/keras_on_sra_data_v2.ipynb"
   ]
  },
  {
   "cell_type": "code",
   "execution_count": null,
   "metadata": {},
   "outputs": [],
   "source": [
    "\n",
    "\n",
    "tmpS3=srsS[srsS.index.get_level_values(1)=='cur_land_use']"
   ]
  },
  {
   "cell_type": "code",
   "execution_count": null,
   "metadata": {},
   "outputs": [],
   "source": [
    "len(tmpS3.value_counts())"
   ]
  },
  {
   "cell_type": "code",
   "execution_count": null,
   "metadata": {},
   "outputs": [],
   "source": [
    "#no data: biomass,chem_mutagen\n",
    "srsS.head()"
   ]
  },
  {
   "cell_type": "code",
   "execution_count": null,
   "metadata": {},
   "outputs": [],
   "source": []
  },
  {
   "cell_type": "code",
   "execution_count": null,
   "metadata": {},
   "outputs": [],
   "source": [
    "def most_similar(word):\n",
    "    by_similarity = sorted(word.vocab, key=lambda w: word.similarity(w), reverse=True)\n",
    "    return [w.orth_ for w in by_similarity[:10]]"
   ]
  },
  {
   "cell_type": "code",
   "execution_count": null,
   "metadata": {},
   "outputs": [],
   "source": [
    "#most_similar(nlp.vocab['missing'])"
   ]
  },
  {
   "cell_type": "code",
   "execution_count": null,
   "metadata": {},
   "outputs": [],
   "source": [
    "train_df['sentence'][train_df['attrib']=='sex'].value_counts()"
   ]
  },
  {
   "cell_type": "code",
   "execution_count": null,
   "metadata": {},
   "outputs": [],
   "source": [
    "'knockdown' in nlp.vocab"
   ]
  },
  {
   "cell_type": "code",
   "execution_count": null,
   "metadata": {},
   "outputs": [],
   "source": [
    "train_df[train_df['attrib']=='cell type'].sentence.str.count(' ').quantile(0.95)"
   ]
  },
  {
   "cell_type": "markdown",
   "metadata": {},
   "source": [
    "### check for threshold"
   ]
  },
  {
   "cell_type": "code",
   "execution_count": null,
   "metadata": {},
   "outputs": [],
   "source": [
    "predDf=probaDf_multI.stack().reset_index()\n",
    "\n",
    "predDf.columns=['entity','text','predicted','proba']\n",
    "\n",
    "predDf['match']=predDf.entity==predDf.predicted\n",
    "\n",
    "sns.boxplot(data=predDf,x='entity',y='proba',hue='match',showfliers=False)\n",
    "\n",
    "predDf[~predDf['match']].groupby(['entity'])['proba'].quantile(0.95).to_dict()\n",
    "\n",
    "predDf[predDf['match']].groupby(['entity'])['proba'].median().to_dict()"
   ]
  },
  {
   "cell_type": "code",
   "execution_count": null,
   "metadata": {},
   "outputs": [],
   "source": [
    "predDf.groupby('proba')"
   ]
  },
  {
   "cell_type": "code",
   "execution_count": null,
   "metadata": {},
   "outputs": [],
   "source": []
  },
  {
   "cell_type": "code",
   "execution_count": null,
   "metadata": {},
   "outputs": [],
   "source": [
    "all_train_df_sub=all_train_df[all_train_df.attrib=='SCIENTIFIC_NAME']"
   ]
  },
  {
   "cell_type": "code",
   "execution_count": null,
   "metadata": {},
   "outputs": [],
   "source": [
    "senVC=all_train_df_sub.sentence.value_counts()"
   ]
  },
  {
   "cell_type": "code",
   "execution_count": null,
   "metadata": {},
   "outputs": [],
   "source": [
    "#senVC[senVC.index.str.contains('mouse')]"
   ]
  },
  {
   "cell_type": "code",
   "execution_count": null,
   "metadata": {},
   "outputs": [],
   "source": [
    "takeOnlyTopXTest=1000\n",
    "srsTmpDf=srsS_subS.reset_index()\n",
    "srsTmpDf.columns=['SRS','Attrib','Text']\n",
    "balancedDf=srsTmpDf.groupby(['Attrib','Text']).head(n=takeOnlyTopXTest)\n",
    "\n",
    "srsS_subS=balancedDf.set_index(['SRS','Attrib'])['Text']"
   ]
  },
  {
   "cell_type": "code",
   "execution_count": null,
   "metadata": {},
   "outputs": [],
   "source": [
    "from nltk.corpus import stopwords\n"
   ]
  },
  {
   "cell_type": "code",
   "execution_count": null,
   "metadata": {},
   "outputs": [],
   "source": [
    "stopwords.words('english')"
   ]
  },
  {
   "cell_type": "code",
   "execution_count": null,
   "metadata": {},
   "outputs": [],
   "source": [
    "all_train_df[all_train_df.attrib=='SCIENTIFIC_NAME']['sentence'].value_counts()"
   ]
  },
  {
   "cell_type": "code",
   "execution_count": null,
   "metadata": {},
   "outputs": [],
   "source": [
    "train_df[train_df.attrib=='SCIENTIFIC_NAME']['sentence'].value_counts()"
   ]
  },
  {
   "cell_type": "code",
   "execution_count": null,
   "metadata": {},
   "outputs": [],
   "source": [
    "#'-/-' in nlp.vocab"
   ]
  },
  {
   "cell_type": "code",
   "execution_count": null,
   "metadata": {},
   "outputs": [],
   "source": [
    "sub_trainDf=train_df[train_df.attrib=='sex']['sentence'].value_counts()"
   ]
  },
  {
   "cell_type": "code",
   "execution_count": null,
   "metadata": {},
   "outputs": [],
   "source": [
    "sub_trainDf[sub_trainDf.index.str.contains('captured')]"
   ]
  },
  {
   "cell_type": "code",
   "execution_count": null,
   "metadata": {},
   "outputs": [],
   "source": [
    "\"\"\"\n",
    "a flat file with the annotations\n",
    "For each content,\n",
    "thre is an annotations, \n",
    "show the label, and the points, \n",
    "\n",
    "{\"content\":\"cd players and tuners\",\"annotation\":[{\"label\":[\"Category\"],\"points\":[{\"start\":0,\"end\":1,\"text\":\"cd\"}]},{\"label\":[\"Category\"],\"points\":[{\"start\":3,\"end\":9,\"text\":\"players\"}]},{\"label\":[\"Category\"],\"points\":[{\"start\":15,\"end\":20,\"text\":\"tuners\"}]}],\"extras\":{\"Name\":\"columnName\",\"Class\":\"ColumnValue\"}}\n",
    "\n",
    "\"\"\""
   ]
  },
  {
   "cell_type": "code",
   "execution_count": null,
   "metadata": {},
   "outputs": [],
   "source": [
    "sentenceVC=all_train_df[all_train_df.attrib.str.contains('genotype')]['sentence'].value_counts()"
   ]
  },
  {
   "cell_type": "code",
   "execution_count": null,
   "metadata": {},
   "outputs": [],
   "source": [
    "sentenceVC[sentenceVC.index.str.contains('diffuse')]"
   ]
  },
  {
   "cell_type": "code",
   "execution_count": null,
   "metadata": {},
   "outputs": [],
   "source": []
  }
 ],
 "metadata": {
  "kernelspec": {
   "display_name": "Python [conda env:deep_nlp_cpu]",
   "language": "python",
   "name": "conda-env-deep_nlp_cpu-py"
  },
  "language_info": {
   "codemirror_mode": {
    "name": "ipython",
    "version": 3
   },
   "file_extension": ".py",
   "mimetype": "text/x-python",
   "name": "python",
   "nbconvert_exporter": "python",
   "pygments_lexer": "ipython3",
   "version": "3.6.6"
  }
 },
 "nbformat": 4,
 "nbformat_minor": 2
}
