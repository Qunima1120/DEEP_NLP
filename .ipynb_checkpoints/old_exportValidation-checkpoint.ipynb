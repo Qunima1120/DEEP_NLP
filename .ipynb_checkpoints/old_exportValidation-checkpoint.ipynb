{
 "cells": [
  {
   "cell_type": "code",
   "execution_count": 1,
   "metadata": {},
   "outputs": [],
   "source": [
    "import pandas as pd"
   ]
  },
  {
   "cell_type": "code",
   "execution_count": 2,
   "metadata": {},
   "outputs": [
    {
     "name": "stderr",
     "output_type": "stream",
     "text": [
      "/cellar/users/btsui/anaconda3/envs/deep_nlp_cpu/lib/python3.6/site-packages/ipykernel_launcher.py:1: ParserWarning: Falling back to the 'python' engine because the 'c' engine does not support regex separators (separators > 1 char and different from '\\s+' are interpreted as regex); you can avoid this warning by specifying engine='python'.\n",
      "  \"\"\"Entry point for launching an IPython kernel.\n"
     ]
    }
   ],
   "source": [
    "pubmed_lines=pd.read_csv('/nrnb/users/btsui/Data/DEEP_NLP/pubmed/ArticleTitle.txt',sep='asdfiyuagdsfadsif',header=None)[0]"
   ]
  },
  {
   "cell_type": "code",
   "execution_count": 8,
   "metadata": {},
   "outputs": [
    {
     "name": "stdout",
     "output_type": "stream",
     "text": [
      "downloadPubmed.ipynb:144:    \"with open('ArticleTitle.txt','w') as ArticleTitleF:\\n\",\r\n",
      "downloadPubmed.ipynb:163:      \"/cellar/users/btsui/ArticleTitle.txt\\r\\n\"\r\n",
      "downloadPubmed.ipynb:168:    \"!echo ~/ArticleTitle.txt\"\r\n",
      "downloadPubmed.ipynb:177:    \"!head -n 500 $PWD/ArticleTitle.txt > ~/ArticleTitle.txt\"\r\n",
      "downloadPubmed.ipynb:271:    \"with open('ArticleTitle.txt','w') as ArticleTitleF,  open('Abstract.txt','w') as AbstractF:\\n\",\r\n",
      "downloadPubmed.ipynb:324:    \"!head ArticleTitle.txt\"\r\n",
      "exportValidation.ipynb:27:    \"pubmed_lines=pd.read_csv('/nrnb/users/btsui/Data/DEEP_NLP/pubmed/ArticleTitle.txt',sep='asdfiyuagdsfadsif',header=None)[0]\"\r\n",
      "exportValidation.ipynb:36:    \"!grep -rn ArticleTitle.txt ./*.ipynb\"\r\n"
     ]
    }
   ],
   "source": [
    "!grep -rn ArticleTitle.txt *.ipynb"
   ]
  },
  {
   "cell_type": "code",
   "execution_count": 3,
   "metadata": {},
   "outputs": [],
   "source": [
    "myTitles= (\"\\n\".join(pubmed_lines.sample(n=100,random_state=0).values))"
   ]
  },
  {
   "cell_type": "code",
   "execution_count": 14,
   "metadata": {},
   "outputs": [],
   "source": [
    "with open('./Data/validation_lines.txt','w')as f:\n",
    "    f.write(myTitles)"
   ]
  },
  {
   "cell_type": "code",
   "execution_count": 17,
   "metadata": {},
   "outputs": [],
   "source": []
  },
  {
   "cell_type": "code",
   "execution_count": 2,
   "metadata": {},
   "outputs": [
    {
     "ename": "NameError",
     "evalue": "name 'pd' is not defined",
     "output_type": "error",
     "traceback": [
      "\u001b[0;31m---------------------------------------------------------------------------\u001b[0m",
      "\u001b[0;31mNameError\u001b[0m                                 Traceback (most recent call last)",
      "\u001b[0;32m<ipython-input-2-a5aaafd4135f>\u001b[0m in \u001b[0;36m<module>\u001b[0;34m()\u001b[0m\n\u001b[1;32m      3\u001b[0m \u001b[0msra_dump_pickle_dir\u001b[0m\u001b[0;34m=\u001b[0m\u001b[0;34m'/cellar/users/btsui/Data/SRA/DUMP/sra_dump.pickle'\u001b[0m\u001b[0;34m\u001b[0m\u001b[0m\n\u001b[1;32m      4\u001b[0m \u001b[0;34m\u001b[0m\u001b[0m\n\u001b[0;32m----> 5\u001b[0;31m \u001b[0msrsS\u001b[0m\u001b[0;34m=\u001b[0m\u001b[0mpd\u001b[0m\u001b[0;34m.\u001b[0m\u001b[0mread_pickle\u001b[0m\u001b[0;34m(\u001b[0m\u001b[0minS_dir\u001b[0m\u001b[0;34m)\u001b[0m\u001b[0;34m\u001b[0m\u001b[0m\n\u001b[0m\u001b[1;32m      6\u001b[0m \u001b[0mget_ipython\u001b[0m\u001b[0;34m(\u001b[0m\u001b[0;34m)\u001b[0m\u001b[0;34m.\u001b[0m\u001b[0mrun_line_magic\u001b[0m\u001b[0;34m(\u001b[0m\u001b[0;34m'time'\u001b[0m\u001b[0;34m,\u001b[0m \u001b[0;34m'srsS=pd.Series(data=srsS.values,index=pd.MultiIndex.from_arrays([srsS.index.get_level_values(0),srsS.index.get_level_values(1).str.lower()]) )'\u001b[0m\u001b[0;34m)\u001b[0m\u001b[0;34m\u001b[0m\u001b[0m\n\u001b[1;32m      7\u001b[0m \u001b[0;34m\u001b[0m\u001b[0m\n",
      "\u001b[0;31mNameError\u001b[0m: name 'pd' is not defined"
     ]
    }
   ],
   "source": [
    "inS_dir='/cellar/users/btsui/Data/nrnb01_nobackup/METAMAP/allSRS.pickle'\n",
    "\n",
    "sra_dump_pickle_dir='/cellar/users/btsui/Data/SRA/DUMP/sra_dump.pickle'\n",
    "\n",
    "srsS=pd.read_pickle(inS_dir)\n",
    "%time srsS=pd.Series(data=srsS.values,index=pd.MultiIndex.from_arrays([srsS.index.get_level_values(0),\\\n",
    "srsS.index.get_level_values(1).str.lower()]) )\n"
   ]
  },
  {
   "cell_type": "code",
   "execution_count": 3,
   "metadata": {},
   "outputs": [
    {
     "ename": "NameError",
     "evalue": "name 'pubmed_lines' is not defined",
     "output_type": "error",
     "traceback": [
      "\u001b[0;31m---------------------------------------------------------------------------\u001b[0m",
      "\u001b[0;31mNameError\u001b[0m                                 Traceback (most recent call last)",
      "\u001b[0;32m<ipython-input-3-b1d068cc4c21>\u001b[0m in \u001b[0;36m<module>\u001b[0;34m()\u001b[0m\n\u001b[0;32m----> 1\u001b[0;31m \u001b[0mpubmed_lines\u001b[0m\u001b[0;34m.\u001b[0m\u001b[0miloc\u001b[0m\u001b[0;34m[\u001b[0m\u001b[0;36m0\u001b[0m\u001b[0;34m]\u001b[0m\u001b[0;34m\u001b[0m\u001b[0m\n\u001b[0m",
      "\u001b[0;31mNameError\u001b[0m: name 'pubmed_lines' is not defined"
     ]
    }
   ],
   "source": [
    "pubmed_lines.iloc[0]"
   ]
  },
  {
   "cell_type": "code",
   "execution_count": null,
   "metadata": {},
   "outputs": [],
   "source": [
    "description_m=srsS.index.get_level_values(1)=='description'\n",
    "\n",
    "descriptionS=srsS[description_m]\n",
    "\n",
    "descriptionS_sub=descriptionS.sample(n=100,random_state=0).str.replace('_',' ')\n",
    "\n",
    "descriptionS_sub_frame=descriptionS_sub.to_frame(name='Sent')\n",
    "\n",
    "descriptionS_sub_frame['Len']=descriptionS_sub_frame['Sent'].str.len()"
   ]
  },
  {
   "cell_type": "code",
   "execution_count": null,
   "metadata": {},
   "outputs": [],
   "source": []
  },
  {
   "cell_type": "code",
   "execution_count": 18,
   "metadata": {},
   "outputs": [
    {
     "name": "stderr",
     "output_type": "stream",
     "text": [
      "/cellar/users/btsui/anaconda3/envs/deep_nlp_cpu/lib/python3.6/site-packages/IPython/core/interactiveshell.py:2785: DtypeWarning: Columns (4,5,10) have mixed types. Specify dtype option on import or set low_memory=False.\n",
      "  interactivity=interactivity, compiler=compiler, result=result)\n"
     ]
    }
   ],
   "source": [
    "pmc_idDf=pd.read_csv('./Data/PMC-ids.csv.gz')"
   ]
  },
  {
   "cell_type": "code",
   "execution_count": 21,
   "metadata": {},
   "outputs": [],
   "source": [
    "VC=pmc_idDf['Journal Title'].value_counts()"
   ]
  },
  {
   "cell_type": "code",
   "execution_count": 29,
   "metadata": {},
   "outputs": [
    {
     "data": {
      "text/plain": [
       "Mol Cell Biol                                                            23039\n",
       "Br J Ophthalmol                                                          19317\n",
       "Int J Mol Sci                                                            13591\n",
       "Mol Biol Cell                                                             9167\n",
       "Trans Am Ophthalmol Soc                                                   4905\n",
       "Invest Ophthalmol Vis Sci                                                 3979\n",
       "J Cell Mol Med                                                            3229\n",
       "Hum Mol Genet                                                             3017\n",
       "J Mol Biol                                                                2957\n",
       "Clin Ophthalmol                                                           2943\n",
       "Mol Med Rep                                                               2917\n",
       "Mol Ther                                                                  2819\n",
       "Indian J Ophthalmol                                                       2723\n",
       "Mol Vis                                                                   2607\n",
       "Mol Cell                                                                  2546\n",
       "Mol Cell Proteomics                                                       2538\n",
       "Methods Mol Biol                                                          2365\n",
       "Mol Cancer                                                                2086\n",
       "Mol Microbiol                                                             1879\n",
       "Mol Endocrinol                                                            1857\n",
       "J Biomol Tech                                                             1846\n",
       "Int J Ophthalmol                                                          1808\n",
       "Mol Med                                                                   1693\n",
       "Am J Respir Cell Mol Biol                                                 1639\n",
       "Mol Clin Oncol                                                            1599\n",
       "Am J Physiol Lung Cell Mol Physiol                                        1515\n",
       "J Ophthalmol                                                              1422\n",
       "BMC Ophthalmol                                                            1355\n",
       "Mol Biol Evol                                                             1348\n",
       "Mol Cancer Ther                                                           1327\n",
       "                                                                         ...  \n",
       "Int J Genet Mol Biol                                                         1\n",
       "JOJ Ophthalmol                                                               1\n",
       "Turk Oftalmol Derg                                                           1\n",
       "Int J Ophthalmol Clin Res                                                    1\n",
       "Soc Epistemol                                                                1\n",
       "Med Mol Morphol                                                              1\n",
       "Virchows Arch B Cell Pathol Incl Mol Pathol                                  1\n",
       "Somat Cell Mol Genet                                                         1\n",
       "Agric For Entomol                                                            1\n",
       "Mol Cell Biol Res Commun                                                     1\n",
       "J Mol Eng Mater                                                              1\n",
       "Pan-Pac Entomol                                                              1\n",
       "EC Ophthalmol                                                                1\n",
       "ISRN Mol Imaging                                                             1\n",
       "Mol Imaging Reconstr Anal Mov Body Organs Stroke Imaging Treat (2017)        1\n",
       "Open Access J Ophthalmol                                                     1\n",
       "J Micromech Mol Phys                                                         1\n",
       "Rev Port Pneumol                                                             1\n",
       "J Mol Biol Mol Imaging                                                       1\n",
       "Hong Kong J Ophthalmol                                                       1\n",
       "J Clin Mol Endocrinol                                                        1\n",
       "J Macromol Sci Phys                                                          1\n",
       "J Cell Biol Mol Sci                                                          1\n",
       "Cell Mol Med Open Access                                                     1\n",
       "Mol Astrophys                                                                1\n",
       "Adv Ophthalmol Vis Syst                                                      1\n",
       "Cell Mol Biol Res                                                            1\n",
       "J Mol Imaging Dyn                                                            1\n",
       "J Org Biomol Simul                                                           1\n",
       "Mol Cell Epilepsy                                                            1\n",
       "Name: Journal Title, Length: 378, dtype: int64"
      ]
     },
     "execution_count": 29,
     "metadata": {},
     "output_type": "execute_result"
    }
   ],
   "source": [
    "#Nat Gen, Mol Cell\n",
    "VC[VC.index.str.contains('Mol',case=False)]"
   ]
  },
  {
   "cell_type": "code",
   "execution_count": null,
   "metadata": {},
   "outputs": [],
   "source": [
    "#Nat Genet"
   ]
  }
 ],
 "metadata": {
  "kernelspec": {
   "display_name": "Python 3",
   "language": "python",
   "name": "python3"
  },
  "language_info": {
   "codemirror_mode": {
    "name": "ipython",
    "version": 3
   },
   "file_extension": ".py",
   "mimetype": "text/x-python",
   "name": "python",
   "nbconvert_exporter": "python",
   "pygments_lexer": "ipython3",
   "version": "3.6.6"
  }
 },
 "nbformat": 4,
 "nbformat_minor": 2
}
