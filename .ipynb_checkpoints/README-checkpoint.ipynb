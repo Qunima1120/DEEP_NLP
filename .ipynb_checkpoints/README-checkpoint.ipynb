{
 "cells": [
  {
   "cell_type": "markdown",
   "metadata": {},
   "source": [
    "# DEEP learning in bio NLP\n",
    "\n",
    "### Background\n",
    "Named entity recognition (NER) is an important technique that promises to improve information classification and retrieval in biomedical natural language processing (NLP). However, existing approaches primarily rely on either laborious manual curation or feature engineering. Here we adopt deep learning techniques in NLP and repurpose the vast amount of entity-freetext pairs available in the BioSample to train a scalable NER model. \n",
    "\n",
    "###  Jupyter notebooks\n",
    "\n",
    "Key notebooks\n",
    "\n",
    "|Code| Usage| \n",
    "|:--------------:|------:|\n",
    "|[mergeEntities](mergeEntities.ipynb)||\n",
    "|[deep_sra_train_and_test](deep_sra_train.ipynb)| Train an entity recognition model using SRA meta data |\n",
    "|[deep_sra_predict](deep_sra_predict.ipynb)|Classify text entity using the trained NER model|\n",
    "\n",
    "Independent validation\n",
    "\n",
    "|Code|Usage|\n",
    "|:--------------:|------:|\n",
    "| [validationDataGenration.ipynb](validationDataGenration.ipynb) | validation data |\n",
    "|[NER in batch](nGramClassification_batch_vote.ipynb)| predict NER based on all possible sentence segments |\n",
    "\n",
    "Auxilary notebooks that probably not used in manuscripts\n",
    "\n",
    "|Code| Usage| \n",
    "|:--------------:|------:|\n",
    "|downloadFromPMC.ipynb|download the pubmed text|\n",
    "|train_pmc_word2vec.ipynb| Train a word2vec model based on pubmed text, used the pretrained one in the manuscript at the end|\n",
    "|[scoreAgainstManualCuration_entity_membership](scoreAgainstManualCuration_entity_membership.ipynb)| score against manual curation|\n",
    "[Parsing and merging of BioSample data](https://github.com/brianyiktaktsui/Skymap#metadata-download-parse-and-merge-sra-meta-data)\n",
    "\n",
    "### data location \n",
    "\n",
    "Please download the data from the following websites:\n",
    "\n",
    "|Data location| Usage|\n",
    "|:--------------:|------:|\n",
    "|https://www.synapse.org/#!Synapse:syn11421651 | all SRS annotations|\n",
    "\n",
    "\n",
    "\n",
    "|Unused data location| Usage|\n",
    "|:--------------:|------:|\n",
    "| https://www.synapse.org/#!Synapse:syn11421649 | all SRX annotations|\n",
    "|ftp://ftp.ncbi.nlm.nih.gov/pub/pmc/PMC-ids.csv.gz|PUBMED ID conversions|\n",
    "\n",
    "[Machine annotated validation  data](Data/validation_data/validation_prediction_description.1535393121.334881.html)\n",
    "### Manuscript\n",
    "\n",
    "### dependency\n",
    "If u have anaconda, install relevant packages using following command lines: \n",
    "* `conda env create -f environment.yml `\n",
    "* `source activate deep_nlp_cpu`"
   ]
  },
  {
   "cell_type": "markdown",
   "metadata": {},
   "source": [
    "\n",
    "\n",
    "### License\n",
    "This work is under Creative Commons Attribution license. This work is unpublished at the moment. Please attribute this work by citing the github page. \n"
   ]
  }
 ],
 "metadata": {
  "kernelspec": {
   "display_name": "Python [conda env:deep_nlp_cpu]",
   "language": "python",
   "name": "conda-env-deep_nlp_cpu-py"
  },
  "language_info": {
   "codemirror_mode": {
    "name": "ipython",
    "version": 3
   },
   "file_extension": ".py",
   "mimetype": "text/x-python",
   "name": "python",
   "nbconvert_exporter": "python",
   "pygments_lexer": "ipython3",
   "version": "3.6.6"
  }
 },
 "nbformat": 4,
 "nbformat_minor": 2
}
