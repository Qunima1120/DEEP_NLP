{
 "cells": [
  {
   "cell_type": "markdown",
   "metadata": {},
   "source": [
    "# DEEP learning in bio NLP\n",
    "\n",
    "### Background\n",
    "Named entity recognition (NER) is an important technique that promises to improve information classification and retrieval in biomedical natural language processing (NLP). However, existing approaches primarily rely on either laborious manual curation or feature engineering. Here we adopt deep learning techniques in NLP and repurpose the vast amount of entity-freetext pairs available in the BioSample to train a scalable NER model. \n",
    "\n",
    "###  Jupyter notebooks\n",
    "\n",
    "Key notebooks\n",
    "\n",
    "|Code| Usage| \n",
    "|:--------------:|------:|\n",
    "|[mergeEntities](mergeEntities.ipynb)||\n",
    "|[deep_sra_train_and_test](deep_sra_train.ipynb)| Train an entity recognition model using SRA meta data |\n",
    "|[deep_sra_predict](deep_sra_predict.ipynb)|Classify text entity using the trained NER model|\n",
    "|[Parsing and merging of BioSample data](https://github.com/brianyiktaktsui/Skymap#metadata-download-parse-and-merge-sra-meta-data)| --- |\n",
    "\n",
    "Independent validation\n",
    "\n",
    "|Code|Usage|\n",
    "|:--------------:|------:|\n",
    "| [validationDataGenration.ipynb](validationDataGenration.ipynb) | validation data generation for comparison against curation and Metamap |\n",
    "|[NER in batch](nGramClassification_batch_vote.ipynb)| predict NER based on all possible sentence segments |\n",
    "|[scoreAgainstManualCuration_entity_membership](scoreAgainstManualCuration_entity_membership.ipynb)| score against manual curation|\n",
    "\n",
    "Auxilary notebooks that probably not used or not critical towards understanding of manuscripts\n",
    "\n",
    "|Code| Usage| \n",
    "|:--------------:|------:|\n",
    "|downloadFromPMC.ipynb|download the pubmed text|\n",
    "|train_pmc_word2vec.ipynb| Train a word2vec model based on pubmed text, used the pretrained one in the manuscript at the end|\n",
    "|[uploadToSynapse](./uploadToSynapse.ipynb)||\n",
    "\n",
    "\n",
    "\n",
    "### Data location \n",
    "\n",
    "Please download the data from the following websites:\n",
    "\n",
    "|File name| Usage|\n",
    "|:--------------:|------:|\n",
    "|[allSRS.pickle.gz](https://www.synapse.org/#!Synapse:syn15661259) | all BioSample SRS annotations|\n",
    "|[word vectors](http://evexdb.org/pmresources/vec-space-models/wikipedia-pubmed-and-PMC-w2v.bin)| bioSample annotations|\n",
    "|[meta data](https://www.synapse.org/#!Synapse:syn15661261)| bioSample to Study mapping table |\n",
    "|[pretrained models](https://www.synapse.org/#!Synapse:syn15661259)| pretrained LSTM and Spacy word models  \n",
    "\n",
    "|Unused data location| Usage|\n",
    "|:--------------:|------:|\n",
    "| https://www.synapse.org/#!Synapse:syn15661258 | all SRX annotations|\n",
    "|https://www.synapse.org/#!Synapse:syn16805240 |PUBMED ID conversions|\n",
    "\n",
    "\n",
    "|Manuscript auxilary data| Description | \n",
    "|---|---|\n",
    "|[Machine annotated validation  data](Data/validation_data/validation_prediction_description.1535393121.334881.html) | Example output of deep NER annotations from [NER in batch](nGramClassification_batch_vote.ipynb)|\n",
    "|[Data curated using dataturk](https://dataturks.com/projects/btsui/Deep%20NLP%20description)| | \n",
    "\n",
    "\n",
    "### Manuscript\n",
    "[Preprint titled \"Creating a scalable deep learning based Named Entity Recognition Model for biomedical textual data by repurposing BioSample free-text annotations\n",
    "\" is available at the bioAriv.](https://www.biorxiv.org/content/early/2018/09/12/414136)\n",
    "### Dependency\n",
    "If u have anaconda, install relevant packages using following command lines: \n",
    "* `conda env create -f environment.yml `\n",
    "* `source activate deep_nlp_cpu`"
   ]
  },
  {
   "cell_type": "markdown",
   "metadata": {},
   "source": [
    "\n",
    "\n",
    "### License\n",
    "This work is under Creative Commons Attribution license. \n"
   ]
  }
 ],
 "metadata": {
  "kernelspec": {
   "display_name": "Python [conda env:deep_nlp_cpu]",
   "language": "python",
   "name": "conda-env-deep_nlp_cpu-py"
  },
  "language_info": {
   "codemirror_mode": {
    "name": "ipython",
    "version": 3
   },
   "file_extension": ".py",
   "mimetype": "text/x-python",
   "name": "python",
   "nbconvert_exporter": "python",
   "pygments_lexer": "ipython3",
   "version": "3.6.6"
  }
 },
 "nbformat": 4,
 "nbformat_minor": 2
}
