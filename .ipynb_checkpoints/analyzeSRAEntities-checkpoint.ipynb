{
 "cells": [
  {
   "cell_type": "code",
   "execution_count": 162,
   "metadata": {},
   "outputs": [],
   "source": [
    "%matplotlib inline\n",
    "import pandas as pd\n",
    "from tqdm import tqdm\n",
    "import spacy\n",
    "from spacy.matcher import Matcher\n",
    "import numpy as np\n",
    "#nlp = spacy.load('en_core_web_sm')\n",
    "import seaborn as sns\n",
    "import matplotlib.pyplot as plt\n",
    "import matplotlib\n",
    "matplotlib.rcParams['pdf.fonttype'] = 42\n",
    "matplotlib.rcParams['ps.fonttype'] = 42\n"
   ]
  },
  {
   "cell_type": "code",
   "execution_count": 4,
   "metadata": {},
   "outputs": [],
   "source": [
    "#!pip install seaborn"
   ]
  },
  {
   "cell_type": "markdown",
   "metadata": {},
   "source": [
    "### load in SRA data"
   ]
  },
  {
   "cell_type": "code",
   "execution_count": 5,
   "metadata": {},
   "outputs": [],
   "source": [
    "inS_dir='/cellar/users/btsui/Data/nrnb01_nobackup/METAMAP/allSRS.pickle'\n",
    "\n",
    "sra_dump_pickle_dir='/cellar/users/btsui/Data/SRA/DUMP/sra_dump.pickle'\n",
    "\n",
    "srsS=pd.read_pickle(inS_dir)\n",
    "\n",
    "technical_meta_data_df=pd.read_pickle(sra_dump_pickle_dir)\n",
    "\n",
    "tmpDf=technical_meta_data_df.drop_duplicates('Sample')\n",
    "\n",
    "technical_meta_data_df=tmpDf.sample(n=tmpDf.shape[0],random_state=0)\n",
    "\n",
    "#technical_meta_data_df.head()\n",
    "##take only the top ten per study to avoid study bias\n",
    "n=100\n",
    "subsampledSrs=technical_meta_data_df.groupby('Study').head(n=n)['Sample']"
   ]
  },
  {
   "cell_type": "code",
   "execution_count": 6,
   "metadata": {},
   "outputs": [
    {
     "data": {
      "text/plain": [
       "Run\n",
       "SRR1784731     SRS834603\n",
       "SRR5886897    SRS2397095\n",
       "SRR5971087    SRS2462603\n",
       "SRR3502629    SRS1436196\n",
       "SRR392957      SRS284278\n",
       "Name: Sample, dtype: object"
      ]
     },
     "execution_count": 6,
     "metadata": {},
     "output_type": "execute_result"
    }
   ],
   "source": [
    "subsampledSrs.head()"
   ]
  },
  {
   "cell_type": "code",
   "execution_count": 7,
   "metadata": {},
   "outputs": [],
   "source": [
    "m=srsS.index.get_level_values(0).isin(subsampledSrs.values)\n",
    "\n",
    "srsS_subS=srsS[m]"
   ]
  },
  {
   "cell_type": "code",
   "execution_count": 8,
   "metadata": {},
   "outputs": [],
   "source": [
    "attribVC=srsS_subS.index.get_level_values(1).value_counts()"
   ]
  },
  {
   "cell_type": "code",
   "execution_count": 172,
   "metadata": {},
   "outputs": [
    {
     "data": {
      "text/plain": [
       "\"\\nax=np.log10(attribVC).hist()\\nax.grid(False)\\nax.set_ylabel('# of entities')\\nax.set_xlabel('# of samples in log10')\\n\""
      ]
     },
     "execution_count": 172,
     "metadata": {},
     "output_type": "execute_result"
    }
   ],
   "source": [
    "#sns.set_style('white')\n",
    "\"\"\"\n",
    "ax=np.log10(attribVC).hist()\n",
    "ax.grid(False)\n",
    "ax.set_ylabel('# of entities')\n",
    "ax.set_xlabel('# of samples in log10')\n",
    "\"\"\""
   ]
  },
  {
   "cell_type": "code",
   "execution_count": 10,
   "metadata": {},
   "outputs": [],
   "source": [
    "#!mkdir ./Results/Figures/"
   ]
  },
  {
   "cell_type": "code",
   "execution_count": 11,
   "metadata": {},
   "outputs": [],
   "source": [
    "#Idk I think I use 8 or 10 on the legends at 6-8 on the ticks"
   ]
  },
  {
   "cell_type": "code",
   "execution_count": 12,
   "metadata": {},
   "outputs": [
    {
     "data": {
      "image/png": "[encoded data removed]",
      "text/plain": [
       "<Figure size 432x288 with 1 Axes>"
      ]
     },
     "metadata": {},
     "output_type": "display_data"
    }
   ],
   "source": [
    "ax=attribVC.iloc[:20].plot.bar()\n",
    "ax.set_ylabel('# of samples')\n",
    "ax.set_xlabel('Attributes')\n",
    "ambigous_attrib=['TITLE','DESCRIPTION']\n",
    "for xtick_label in ax.get_xticklabels():\n",
    "    if xtick_label.get_text() in ambigous_attrib:\n",
    "        xtick_label.set_color('red')\n",
    "    else:\n",
    "        xtick_label.set_color('blue')\n",
    "ax.figure.savefig('./Results/Figures/sra_landscape.pdf',bbox_inches='tight')"
   ]
  },
  {
   "cell_type": "code",
   "execution_count": 14,
   "metadata": {},
   "outputs": [
    {
     "data": {
      "text/plain": [
       "(12650106, 43907007)"
      ]
     },
     "execution_count": 14,
     "metadata": {},
     "output_type": "execute_result"
    }
   ],
   "source": [
    "len(srsS_subS),len(srsS)"
   ]
  },
  {
   "cell_type": "code",
   "execution_count": 15,
   "metadata": {},
   "outputs": [],
   "source": [
    "srs_resetDf=srsS_subS.reset_index()"
   ]
  },
  {
   "cell_type": "code",
   "execution_count": 16,
   "metadata": {},
   "outputs": [],
   "source": [
    "srs_resetDf.columns=['srs','attrib','word']"
   ]
  },
  {
   "cell_type": "code",
   "execution_count": 17,
   "metadata": {},
   "outputs": [
    {
     "name": "stderr",
     "output_type": "stream",
     "text": [
      "/cellar/users/btsui/anaconda3/lib/python3.6/site-packages/ipykernel_launcher.py:1: RuntimeWarning: divide by zero encountered in log2\n",
      "  \"\"\"Entry point for launching an IPython kernel.\n"
     ]
    }
   ],
   "source": [
    "srs_resetDf['word_len']=np.log2(srs_resetDf['word'].str.len())"
   ]
  },
  {
   "cell_type": "code",
   "execution_count": 18,
   "metadata": {},
   "outputs": [],
   "source": [
    "attrib_VC=srs_resetDf.attrib.value_counts()"
   ]
  },
  {
   "cell_type": "code",
   "execution_count": 19,
   "metadata": {},
   "outputs": [
    {
     "name": "stdout",
     "output_type": "stream",
     "text": [
      "n recurr attrib Index(['SCIENTIFIC_NAME', 'TITLE', 'SUBMITTER_ID', 'BioSampleModel',\n",
      "       'geo_loc_name', 'collection_date', 'DESCRIPTION', 'source_name',\n",
      "       'lat_lon', 'strain', 'tissue', 'host', 'isolation_source', 'age',\n",
      "       'isolate', 'sex', 'env_biome', 'env_feature', 'env_material',\n",
      "       'cell type'],\n",
      "      dtype='object')\n"
     ]
    }
   ],
   "source": [
    "recurr_attrib=attrib_VC.index[:20]#attrib_VC.index[:50]\n",
    "print ('n recurr attrib',recurr_attrib)"
   ]
  },
  {
   "cell_type": "code",
   "execution_count": 21,
   "metadata": {},
   "outputs": [
    {
     "data": {
      "text/plain": [
       "Text(0.5,0,'attributes (ranked by occurence freqeuncy)')"
      ]
     },
     "execution_count": 21,
     "metadata": {},
     "output_type": "execute_result"
    },
    {
     "data": {
      "image/png": "[encoded data removed]",
      "text/plain": [
       "<Figure size 432x288 with 1 Axes>"
      ]
     },
     "metadata": {},
     "output_type": "display_data"
    }
   ],
   "source": [
    "srs_subDf=srs_resetDf[srs_resetDf.attrib.isin(recurr_attrib)]\n",
    "ax=sns.boxplot(data=srs_subDf,x='attrib',y='word_len',order=recurr_attrib)\n",
    "plt.xticks(rotation=90)\n",
    "\n",
    "for xtick_label in ax.get_xticklabels():\n",
    "    if xtick_label.get_text() in ambigous_attrib:\n",
    "        xtick_label.set_color('red')\n",
    "    else:\n",
    "        xtick_label.set_color('blue')\n",
    "        \n",
    "ax.set_ylabel('log2 (Attribute free text length +1)')\n",
    "ax.set_xlabel('attributes (ranked by occurence freqeuncy)')"
   ]
  },
  {
   "cell_type": "code",
   "execution_count": 22,
   "metadata": {},
   "outputs": [],
   "source": [
    "import spacy \n",
    "from tqdm import tqdm\n",
    "nlp = spacy.load('./wikipedia-pubmed-and-PMC-w2v')"
   ]
  },
  {
   "cell_type": "code",
   "execution_count": 143,
   "metadata": {},
   "outputs": [],
   "source": [
    "recurr_attrib=attrib_VC.index[:30]"
   ]
  },
  {
   "cell_type": "code",
   "execution_count": 144,
   "metadata": {},
   "outputs": [
    {
     "data": {
      "text/plain": [
       "Index(['SCIENTIFIC_NAME', 'TITLE', 'SUBMITTER_ID', 'BioSampleModel',\n",
       "       'geo_loc_name', 'collection_date', 'DESCRIPTION', 'source_name',\n",
       "       'lat_lon', 'strain', 'tissue', 'host', 'isolation_source', 'age',\n",
       "       'isolate', 'sex', 'env_biome', 'env_feature', 'env_material',\n",
       "       'cell type', 'biomaterial_provider', 'sample_type', 'collection date',\n",
       "       'dev_stage', 'genotype', 'depth', 'treatment', 'cultivar',\n",
       "       'collected_by', 'geographic location (country and/or sea)'],\n",
       "      dtype='object')"
      ]
     },
     "execution_count": 144,
     "metadata": {},
     "output_type": "execute_result"
    }
   ],
   "source": [
    "recurr_attrib"
   ]
  },
  {
   "cell_type": "code",
   "execution_count": 145,
   "metadata": {
    "scrolled": true
   },
   "outputs": [],
   "source": [
    "subRecurDf=srs_resetDf[srs_resetDf.attrib.isin(recurr_attrib)]\n"
   ]
  },
  {
   "cell_type": "code",
   "execution_count": 146,
   "metadata": {},
   "outputs": [],
   "source": [
    "### randomize and take the first 100 \n",
    "srs_subDf1=subRecurDf.sample(n=subRecurDf.shape[0]).groupby('attrib').head(n=100)"
   ]
  },
  {
   "cell_type": "code",
   "execution_count": 147,
   "metadata": {},
   "outputs": [],
   "source": [
    "docs=nlp.pipe(srs_subDf1['word'].tolist())"
   ]
  },
  {
   "cell_type": "code",
   "execution_count": 148,
   "metadata": {},
   "outputs": [
    {
     "name": "stderr",
     "output_type": "stream",
     "text": [
      "3000it [00:00, 8021.30it/s]\n"
     ]
    }
   ],
   "source": [
    "vectors=[doc.vector for doc in  tqdm(docs)]"
   ]
  },
  {
   "cell_type": "code",
   "execution_count": 149,
   "metadata": {},
   "outputs": [
    {
     "data": {
      "text/plain": [
       "(3000, 200)"
      ]
     },
     "execution_count": 149,
     "metadata": {},
     "output_type": "execute_result"
    }
   ],
   "source": [
    "tmpDf=pd.DataFrame(vectors,index=srs_subDf1.set_index(['srs','attrib','word']).index).astype(float)\n",
    "tmpDf.shape"
   ]
  },
  {
   "cell_type": "code",
   "execution_count": 150,
   "metadata": {},
   "outputs": [],
   "source": [
    "from sklearn import manifold\n",
    "from sklearn import decomposition\n",
    "import numpy as np\n"
   ]
  },
  {
   "cell_type": "code",
   "execution_count": 151,
   "metadata": {},
   "outputs": [],
   "source": [
    "#tsne=manifold.TSNE()\n",
    "#pca=decomposition.PCA(n_components=2)"
   ]
  },
  {
   "cell_type": "code",
   "execution_count": 152,
   "metadata": {},
   "outputs": [],
   "source": [
    "#tmpDf.stack().max()"
   ]
  },
  {
   "cell_type": "code",
   "execution_count": null,
   "metadata": {},
   "outputs": [],
   "source": []
  },
  {
   "cell_type": "code",
   "execution_count": 157,
   "metadata": {},
   "outputs": [
    {
     "data": {
      "image/png": "[encoded data removed]",
      "text/plain": [
       "<Figure size 720x720 with 4 Axes>"
      ]
     },
     "metadata": {},
     "output_type": "display_data"
    }
   ],
   "source": [
    "corrDf=tmpDf.dropna().mean(level='attrib').T.corr()\n",
    "g=sns.clustermap(corrDf,metric='cosine',cbar_kws={'label':'Cosine similarity'})\n",
    "g.fig.savefig('./Results/Figures/entity_cluster.pdf',bbox_inches='tight')"
   ]
  },
  {
   "cell_type": "code",
   "execution_count": 154,
   "metadata": {},
   "outputs": [
    {
     "name": "stdout",
     "output_type": "stream",
     "text": [
      "/data/cellardata/users/btsui/DEEP_NLP/NLP_spacy/./Results/Figures/entity_cluster.pdf\r\n"
     ]
    }
   ],
   "source": [
    "!echo $PWD/./Results/Figures/entity_cluster.pdf"
   ]
  },
  {
   "cell_type": "code",
   "execution_count": 142,
   "metadata": {},
   "outputs": [
    {
     "data": {
      "text/plain": [
       "\"\\nm=corrDf.mad(axis=1)>0.15\\ng=sns.clustermap(data=corrDf.loc[m,m],cbar_kws={'label':'Pearson correlation'})\\n\""
      ]
     },
     "execution_count": 142,
     "metadata": {},
     "output_type": "execute_result"
    }
   ],
   "source": [
    "\"\"\"\n",
    "m=corrDf.mad(axis=1)>0.15\n",
    "g=sns.clustermap(data=corrDf.loc[m,m],cbar_kws={'label':'Pearson correlation'})\n",
    "\"\"\""
   ]
  },
  {
   "cell_type": "code",
   "execution_count": 131,
   "metadata": {},
   "outputs": [],
   "source": [
    "tsneInDf=tmpDf.dropna()\n"
   ]
  },
  {
   "cell_type": "code",
   "execution_count": 132,
   "metadata": {},
   "outputs": [],
   "source": [
    "inPlot=['sex','gender','tissue','cell type']\n",
    "m1=tsneInDf.index.get_level_values('attrib').isin(inPlot)"
   ]
  },
  {
   "cell_type": "code",
   "execution_count": 133,
   "metadata": {},
   "outputs": [],
   "source": [
    "subTsneInDf=tsneInDf[m1]"
   ]
  },
  {
   "cell_type": "code",
   "execution_count": 134,
   "metadata": {},
   "outputs": [
    {
     "name": "stdout",
     "output_type": "stream",
     "text": [
      "CPU times: user 228 ms, sys: 8 ms, total: 236 ms\n",
      "Wall time: 17.1 ms\n"
     ]
    }
   ],
   "source": [
    "%%time\n",
    "#tsne=manifold.TSNE()\n",
    "tsneM=pca.fit_transform(subTsneInDf)"
   ]
  },
  {
   "cell_type": "code",
   "execution_count": 141,
   "metadata": {},
   "outputs": [
    {
     "data": {
      "text/plain": [
       "array([0.32561108, 0.06598548])"
      ]
     },
     "execution_count": 141,
     "metadata": {},
     "output_type": "execute_result"
    }
   ],
   "source": [
    "pca.explained_variance_ratio_"
   ]
  },
  {
   "cell_type": "code",
   "execution_count": 139,
   "metadata": {},
   "outputs": [
    {
     "data": {
      "image/png": "[encoded data removed]",
      "text/plain": [
       "<Figure size 438.625x360 with 6 Axes>"
      ]
     },
     "metadata": {},
     "output_type": "display_data"
    }
   ],
   "source": [
    "tsneDf=pd.DataFrame(tsneM.copy(),index=subTsneInDf.index)\n",
    "\n",
    "tsneDf.head()\n",
    "\n",
    "tsneDf.groupby('attrib').size()\n",
    "\n",
    "import numpy as np\n",
    "\n",
    "tsneDf[0]+= np.random.normal(0,0.1,tsneDf.shape[0])\n",
    "tsneDf[1]+= np.random.normal(0,0.1,tsneDf.shape[0])\n",
    "g=sns.pairplot(tsneDf.reset_index()[['attrib',0,1]],hue='attrib',hue_order=['sex','gender','tissue','cell type'])\n",
    "g.savefig('./Results/entity_paired_plots.pdf')"
   ]
  },
  {
   "cell_type": "code",
   "execution_count": 140,
   "metadata": {},
   "outputs": [
    {
     "name": "stdout",
     "output_type": "stream",
     "text": [
      "/data/cellardata/users/btsui/DEEP_NLP/NLP_spacy/./Results/entity_paired_plots.pdf\r\n"
     ]
    }
   ],
   "source": [
    "!echo $PWD/./Results/entity_paired_plots.pdf"
   ]
  },
  {
   "cell_type": "code",
   "execution_count": 136,
   "metadata": {},
   "outputs": [
    {
     "data": {
      "text/html": [
       "<div>\n",
       "<style scoped>\n",
       "    .dataframe tbody tr th:only-of-type {\n",
       "        vertical-align: middle;\n",
       "    }\n",
       "\n",
       "    .dataframe tbody tr th {\n",
       "        vertical-align: top;\n",
       "    }\n",
       "\n",
       "    .dataframe thead th {\n",
       "        text-align: right;\n",
       "    }\n",
       "</style>\n",
       "<table border=\"1\" class=\"dataframe\">\n",
       "  <thead>\n",
       "    <tr style=\"text-align: right;\">\n",
       "      <th></th>\n",
       "      <th></th>\n",
       "      <th></th>\n",
       "      <th>0</th>\n",
       "      <th>1</th>\n",
       "    </tr>\n",
       "    <tr>\n",
       "      <th>srs</th>\n",
       "      <th>attrib</th>\n",
       "      <th>word</th>\n",
       "      <th></th>\n",
       "      <th></th>\n",
       "    </tr>\n",
       "  </thead>\n",
       "  <tbody>\n",
       "    <tr>\n",
       "      <th>SRS684337</th>\n",
       "      <th>gender</th>\n",
       "      <th>F</th>\n",
       "      <td>0.676656</td>\n",
       "      <td>-0.216923</td>\n",
       "    </tr>\n",
       "    <tr>\n",
       "      <th>SRS688288</th>\n",
       "      <th>gender</th>\n",
       "      <th>NA</th>\n",
       "      <td>1.101318</td>\n",
       "      <td>0.841608</td>\n",
       "    </tr>\n",
       "    <tr>\n",
       "      <th>SRS1538770</th>\n",
       "      <th>gender</th>\n",
       "      <th>None</th>\n",
       "      <td>0.667770</td>\n",
       "      <td>0.696278</td>\n",
       "    </tr>\n",
       "    <tr>\n",
       "      <th>SRS445178</th>\n",
       "      <th>gender</th>\n",
       "      <th>M</th>\n",
       "      <td>0.084270</td>\n",
       "      <td>0.537532</td>\n",
       "    </tr>\n",
       "    <tr>\n",
       "      <th>SRS462064</th>\n",
       "      <th>gender</th>\n",
       "      <th>M</th>\n",
       "      <td>1.390099</td>\n",
       "      <td>0.425717</td>\n",
       "    </tr>\n",
       "  </tbody>\n",
       "</table>\n",
       "</div>"
      ],
      "text/plain": [
       "                               0         1\n",
       "srs        attrib word                    \n",
       "SRS684337  gender F     0.676656 -0.216923\n",
       "SRS688288  gender NA    1.101318  0.841608\n",
       "SRS1538770 gender None  0.667770  0.696278\n",
       "SRS445178  gender M     0.084270  0.537532\n",
       "SRS462064  gender M     1.390099  0.425717"
      ]
     },
     "execution_count": 136,
     "metadata": {},
     "output_type": "execute_result"
    }
   ],
   "source": [
    "m1=tsneDf.index.get_level_values('attrib')=='gender'\n",
    "m2=tsneDf[0]>0\n",
    "tsneDf[m1&m2]"
   ]
  },
  {
   "cell_type": "code",
   "execution_count": 137,
   "metadata": {},
   "outputs": [
    {
     "ename": "StopIteration",
     "evalue": "",
     "output_type": "error",
     "traceback": [
      "\u001b[0;31m---------------------------------------------------------------------------\u001b[0m",
      "\u001b[0;31mStopIteration\u001b[0m                             Traceback (most recent call last)",
      "\u001b[0;32m<ipython-input-137-4c4a6db9914c>\u001b[0m in \u001b[0;36m<module>\u001b[0;34m()\u001b[0m\n\u001b[0;32m----> 1\u001b[0;31m \u001b[0mdoc\u001b[0m\u001b[0;34m=\u001b[0m\u001b[0mnext\u001b[0m\u001b[0;34m(\u001b[0m\u001b[0mdocs\u001b[0m\u001b[0;34m)\u001b[0m\u001b[0;34m\u001b[0m\u001b[0m\n\u001b[0m",
      "\u001b[0;31mStopIteration\u001b[0m: "
     ]
    }
   ],
   "source": [
    "doc=next(docs)"
   ]
  },
  {
   "cell_type": "code",
   "execution_count": null,
   "metadata": {},
   "outputs": [],
   "source": [
    "doc.vector"
   ]
  },
  {
   "cell_type": "code",
   "execution_count": 107,
   "metadata": {},
   "outputs": [
    {
     "data": {
      "text/plain": [
       "[Leaf sample, Camellia oleifera]"
      ]
     },
     "execution_count": 107,
     "metadata": {},
     "output_type": "execute_result"
    }
   ],
   "source": [
    "list(doc.noun_chunks)"
   ]
  },
  {
   "cell_type": "code",
   "execution_count": 108,
   "metadata": {},
   "outputs": [],
   "source": [
    "for np in doc.noun_chunks:\n",
    "    span=doc[np.start:np.end]\n",
    "    span.merge()"
   ]
  },
  {
   "cell_type": "code",
   "execution_count": 109,
   "metadata": {},
   "outputs": [
    {
     "data": {
      "text/plain": [
       "array([ 0.23977074,  1.8306324 ,  1.2344697 ,  1.267792  , -0.6203886 ,\n",
       "        0.6125354 , -1.3770596 , -1.8561455 ,  0.44073233, -0.36019847,\n",
       "       -0.26902443, -0.687156  , -0.55679417, -1.2317549 , -1.213176  ,\n",
       "        0.03158774, -0.18059401, -2.3281982 , -1.1733437 ,  0.05913198,\n",
       "        0.24985495, -0.7300377 ,  0.6876716 ,  0.875972  , -2.1468525 ,\n",
       "       -0.6760146 , -0.38973284,  0.56182945, -0.32497412, -1.1611091 ,\n",
       "        0.24074908, -1.2794942 ,  2.2561843 , -0.92318153, -1.9361986 ,\n",
       "       -0.40708822,  2.4566913 , -0.08226226,  0.9752513 ,  1.1092694 ,\n",
       "       -1.4094571 ,  0.1651795 ,  1.8799331 , -2.018342  , -1.5255967 ,\n",
       "        1.2787893 , -0.32711577,  1.2453042 ,  2.515736  , -0.1760292 ,\n",
       "        1.2208998 , -0.41390324, -1.543454  ,  0.44045338,  0.18041047,\n",
       "       -0.2270759 ,  1.3913515 ,  0.45784038,  0.9197429 , -1.5999963 ,\n",
       "       -0.60282403,  0.34648308, -1.3191324 ,  0.4391962 ,  2.3323267 ,\n",
       "       -0.9409542 , -1.0275835 , -0.8646137 , -0.539408  ,  0.8445627 ,\n",
       "        0.21166205, -1.3180499 ,  0.61505616,  1.3922312 , -2.438805  ,\n",
       "        1.8198942 , -0.0620429 ,  0.04630885, -1.7075342 ,  0.57626885,\n",
       "       -2.7708392 ,  1.3549016 , -0.6274594 , -0.8041442 , -0.43521672,\n",
       "        2.0395772 , -1.4119396 ,  0.9401274 ,  0.7252909 ,  1.3039424 ,\n",
       "       -1.2323067 ,  3.0287385 , -1.1408403 ,  1.6895739 , -0.69454867,\n",
       "       -1.0744169 , -1.8538139 ,  1.2980769 ,  2.179603  , -1.5482073 ,\n",
       "       -0.7211337 ,  2.2323327 ,  0.9741988 , -0.37448037, -0.57494533,\n",
       "       -0.12435732, -0.0668999 , -2.0510554 , -0.2671275 ,  0.36535332,\n",
       "        0.8338195 , -0.8237875 , -0.02649045, -1.2205236 ,  2.55362   ,\n",
       "        2.3352566 ,  0.44028378,  1.7167425 ,  0.19117382,  0.21788725,\n",
       "        0.47829986,  1.6507791 ,  1.3867835 ,  0.0392971 , -0.86422414,\n",
       "       -2.1387436 ,  2.3634567 , -1.2691573 ], dtype=float32)"
      ]
     },
     "execution_count": 109,
     "metadata": {},
     "output_type": "execute_result"
    }
   ],
   "source": [
    "doc.vector"
   ]
  },
  {
   "cell_type": "code",
   "execution_count": 92,
   "metadata": {},
   "outputs": [
    {
     "name": "stdout",
     "output_type": "stream",
     "text": [
      "Leaf sample\n",
      "from\n",
      "Camellia oleifera\n"
     ]
    }
   ],
   "source": [
    "for a in doc:\n",
    "    print (a)"
   ]
  },
  {
   "cell_type": "code",
   "execution_count": 93,
   "metadata": {},
   "outputs": [
    {
     "data": {
      "text/plain": [
       "1217901"
      ]
     },
     "execution_count": 93,
     "metadata": {},
     "output_type": "execute_result"
    }
   ],
   "source": [
    "len(subsampledSrs.values)"
   ]
  },
  {
   "cell_type": "code",
   "execution_count": 94,
   "metadata": {},
   "outputs": [],
   "source": [
    "#doc.noun_chunks"
   ]
  },
  {
   "cell_type": "code",
   "execution_count": 96,
   "metadata": {},
   "outputs": [],
   "source": [
    "#from gensim.models import word2vec\n",
    "#word2vec.Word2Vec()"
   ]
  },
  {
   "cell_type": "code",
   "execution_count": 7,
   "metadata": {},
   "outputs": [
    {
     "name": "stdout",
     "output_type": "stream",
     "text": [
      "--2018-06-14 14:36:27--  http://evexdb.org/pmresources/vec-space-models/PubMed-and-PMC-w2v.bin\n",
      "Resolving evexdb.org (evexdb.org)... 130.232.253.44\n",
      "Connecting to evexdb.org (evexdb.org)|130.232.253.44|:80... connected.\n",
      "HTTP request sent, awaiting response... 200 OK\n",
      "Length: 3317501420 (3.1G) [application/octet-stream]\n",
      "Saving to: 'PubMed-and-PMC-w2v.bin'\n",
      "\n",
      "PubMed-and-PMC-w2v.   3%[                    ] 120.01M  1.33MB/s    eta 50m 58s^C\n"
     ]
    }
   ],
   "source": [
    "#!wget http://evexdb.org/pmresources/vec-space-models/PubMed-and-PMC-w2v.bin"
   ]
  },
  {
   "cell_type": "code",
   "execution_count": 9,
   "metadata": {},
   "outputs": [],
   "source": [
    "#!rm PubMed-and-PMC-w2v.bin"
   ]
  },
  {
   "cell_type": "code",
   "execution_count": 26,
   "metadata": {},
   "outputs": [
    {
     "name": "stdout",
     "output_type": "stream",
     "text": [
      "Streptococcus pneumoniae pneumoniae ROOT pneumoniae\n"
     ]
    }
   ],
   "source": [
    "import spacy\n",
    "\n",
    "nlp = spacy.load('en_core_web_sm')\n",
    "doc = nlp(u\"Streptococcus pneumoniae\")\n",
    "for chunk in doc.noun_chunks:\n",
    "    print(chunk.text, chunk.root.text, chunk.root.dep_,\n",
    "          chunk.root.head.text)"
   ]
  },
  {
   "cell_type": "code",
   "execution_count": 582,
   "metadata": {},
   "outputs": [
    {
     "name": "stdout",
     "output_type": "stream",
     "text": [
      "Collecting tensorflow\n",
      "\u001b[?25l  Downloading https://files.pythonhosted.org/packages/22/c6/d08f7c549330c2acc1b18b5c1f0f8d9d2af92f54d56861f331f372731671/tensorflow-1.8.0-cp36-cp36m-manylinux1_x86_64.whl (49.1MB)\n",
      "\u001b[K    100% |################################| 49.1MB 217kB/s eta 0:00:01\n",
      "\u001b[?25hRequirement already satisfied: six>=1.10.0 in /data/cellardata/users/btsui/miniconda3/lib/python3.6/site-packages (from tensorflow) (1.11.0)\n",
      "Collecting grpcio>=1.8.6 (from tensorflow)\n",
      "\u001b[?25l  Downloading https://files.pythonhosted.org/packages/1f/ea/664c589ec41b9e9ac6e20cc1fe9016f3913332d0dc5498a5d7771e2835af/grpcio-1.12.1-cp36-cp36m-manylinux1_x86_64.whl (9.0MB)\n",
      "\u001b[K    100% |################################| 9.0MB 445kB/s eta 0:00:01\n",
      "\u001b[?25hRequirement already satisfied: wheel>=0.26 in /data/cellardata/users/btsui/miniconda3/lib/python3.6/site-packages (from tensorflow) (0.31.1)\n",
      "Collecting tensorboard<1.9.0,>=1.8.0 (from tensorflow)\n",
      "\u001b[?25l  Downloading https://files.pythonhosted.org/packages/59/a6/0ae6092b7542cfedba6b2a1c9b8dceaf278238c39484f3ba03b03f07803c/tensorboard-1.8.0-py3-none-any.whl (3.1MB)\n",
      "\u001b[K    100% |################################| 3.1MB 404kB/s eta 0:00:01\n",
      "\u001b[?25hCollecting gast>=0.2.0 (from tensorflow)\n",
      "  Downloading https://files.pythonhosted.org/packages/5c/78/ff794fcae2ce8aa6323e789d1f8b3b7765f601e7702726f430e814822b96/gast-0.2.0.tar.gz\n",
      "Requirement already satisfied: numpy>=1.13.3 in /data/cellardata/users/btsui/miniconda3/lib/python3.6/site-packages (from tensorflow) (1.14.5)\n",
      "Requirement already satisfied: termcolor>=1.1.0 in /data/cellardata/users/btsui/miniconda3/lib/python3.6/site-packages (from tensorflow) (1.1.0)\n",
      "Collecting astor>=0.6.0 (from tensorflow)\n",
      "  Downloading https://files.pythonhosted.org/packages/b2/91/cc9805f1ff7b49f620136b3a7ca26f6a1be2ed424606804b0fbcf499f712/astor-0.6.2-py2.py3-none-any.whl\n",
      "Collecting protobuf>=3.4.0 (from tensorflow)\n",
      "\u001b[?25l  Downloading https://files.pythonhosted.org/packages/fc/f0/db040681187496d10ac50ad167a8fd5f953d115b16a7085e19193a6abfd2/protobuf-3.6.0-cp36-cp36m-manylinux1_x86_64.whl (7.1MB)\n",
      "\u001b[K    100% |################################| 7.1MB 492kB/s eta 0:00:01\n",
      "\u001b[?25hCollecting absl-py>=0.1.6 (from tensorflow)\n",
      "\u001b[?25l  Downloading https://files.pythonhosted.org/packages/57/8d/6664518f9b6ced0aa41cf50b989740909261d4c212557400c48e5cda0804/absl-py-0.2.2.tar.gz (82kB)\n",
      "\u001b[K    100% |################################| 92kB 567kB/s eta 0:00:01\n",
      "\u001b[?25hCollecting bleach==1.5.0 (from tensorboard<1.9.0,>=1.8.0->tensorflow)\n",
      "  Downloading https://files.pythonhosted.org/packages/33/70/86c5fec937ea4964184d4d6c4f0b9551564f821e1c3575907639036d9b90/bleach-1.5.0-py2.py3-none-any.whl\n",
      "Collecting markdown>=2.6.8 (from tensorboard<1.9.0,>=1.8.0->tensorflow)\n",
      "\u001b[?25l  Downloading https://files.pythonhosted.org/packages/6d/7d/488b90f470b96531a3f5788cf12a93332f543dbab13c423a5e7ce96a0493/Markdown-2.6.11-py2.py3-none-any.whl (78kB)\n",
      "\u001b[K    100% |################################| 81kB 640kB/s eta 0:00:01\n",
      "\u001b[?25hCollecting werkzeug>=0.11.10 (from tensorboard<1.9.0,>=1.8.0->tensorflow)\n",
      "\u001b[?25l  Downloading https://files.pythonhosted.org/packages/20/c4/12e3e56473e52375aa29c4764e70d1b8f3efa6682bef8d0aae04fe335243/Werkzeug-0.14.1-py2.py3-none-any.whl (322kB)\n",
      "\u001b[K    100% |################################| 327kB 647kB/s eta 0:00:01\n",
      "\u001b[?25hCollecting html5lib==0.9999999 (from tensorboard<1.9.0,>=1.8.0->tensorflow)\n",
      "\u001b[?25l  Downloading https://files.pythonhosted.org/packages/ae/ae/bcb60402c60932b32dfaf19bb53870b29eda2cd17551ba5639219fb5ebf9/html5lib-0.9999999.tar.gz (889kB)\n",
      "\u001b[K    100% |################################| 890kB 732kB/s eta 0:00:01\n",
      "\u001b[?25hRequirement already satisfied: setuptools in /data/cellardata/users/btsui/miniconda3/lib/python3.6/site-packages (from protobuf>=3.4.0->tensorflow) (39.2.0)\n",
      "Building wheels for collected packages: gast, absl-py, html5lib\n",
      "  Running setup.py bdist_wheel for gast ... \u001b[?25ldone\n",
      "\u001b[?25h  Stored in directory: /cellar/users/btsui/.cache/pip/wheels/9a/1f/0e/3cde98113222b853e98fc0a8e9924480a3e25f1b4008cedb4f\n",
      "  Running setup.py bdist_wheel for absl-py ... \u001b[?25ldone\n",
      "\u001b[?25h  Stored in directory: /cellar/users/btsui/.cache/pip/wheels/a0/f8/e9/1933dbb3447ea6ef57062fd5461cb118deb8c2ed074e8344bf\n",
      "  Running setup.py bdist_wheel for html5lib ... \u001b[?25ldone\n",
      "\u001b[?25h  Stored in directory: /cellar/users/btsui/.cache/pip/wheels/50/ae/f9/d2b189788efcf61d1ee0e36045476735c838898eef1cad6e29\n",
      "Successfully built gast absl-py html5lib\n",
      "Installing collected packages: grpcio, html5lib, bleach, markdown, protobuf, werkzeug, tensorboard, gast, astor, absl-py, tensorflow\n",
      "  Found existing installation: html5lib 1.0.1\n",
      "    Uninstalling html5lib-1.0.1:\n",
      "      Successfully uninstalled html5lib-1.0.1\n",
      "  Found existing installation: bleach 2.1.3\n",
      "    Uninstalling bleach-2.1.3:\n",
      "      Successfully uninstalled bleach-2.1.3\n",
      "Successfully installed absl-py-0.2.2 astor-0.6.2 bleach-1.5.0 gast-0.2.0 grpcio-1.12.1 html5lib-0.9999999 markdown-2.6.11 protobuf-3.6.0 tensorboard-1.8.0 tensorflow-1.8.0 werkzeug-0.14.1\n"
     ]
    }
   ],
   "source": [
    "!pip install tensorflow"
   ]
  },
  {
   "cell_type": "code",
   "execution_count": null,
   "metadata": {},
   "outputs": [],
   "source": []
  }
 ],
 "metadata": {
  "kernelspec": {
   "display_name": "Python 3",
   "language": "python",
   "name": "python3"
  },
  "language_info": {
   "codemirror_mode": {
    "name": "ipython",
    "version": 3
   },
   "file_extension": ".py",
   "mimetype": "text/x-python",
   "name": "python",
   "nbconvert_exporter": "python",
   "pygments_lexer": "ipython3",
   "version": "3.6.5"
  }
 },
 "nbformat": 4,
 "nbformat_minor": 2
}
