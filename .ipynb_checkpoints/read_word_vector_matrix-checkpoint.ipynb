{
 "cells": [
  {
   "cell_type": "code",
   "execution_count": null,
   "metadata": {},
   "outputs": [],
   "source": [
    "%matplotlib inline\n",
    "import matplotlib as mpl\n",
    "#mpl.use('Agg')\n",
    "import seaborn as sns\n",
    "\n",
    "import spacy\n",
    "\n",
    "import os\n",
    "import gensim\n",
    "\n",
    "\n",
    "#os.chdir('/data/cellardata/users/btsui/DEEP_NLP/NLP_spacy')\n",
    "\n",
    "import pandas as pd\n",
    "\n",
    "#nlp = spacy.load('./pmc_word2_vec')\n",
    "\n",
    "\n",
    "#!ls \n",
    "\n",
    "%time pmc_word2_vecDf=pd.read_csv('./Data/pmc_word2_vec.txt',sep=' ',skiprows=1,header=None)\n",
    "\n",
    "pmc_word2_vecDf_clean=pmc_word2_vecDf.set_index(0)\n"
   ]
  },
  {
   "cell_type": "code",
   "execution_count": null,
   "metadata": {},
   "outputs": [],
   "source": [
    "#!ls -lah ./Data/"
   ]
  },
  {
   "cell_type": "markdown",
   "metadata": {},
   "source": [
    "43.2 s to read in the model"
   ]
  },
  {
   "cell_type": "code",
   "execution_count": null,
   "metadata": {},
   "outputs": [],
   "source": [
    "#%time model=gensim.models.Word2Vec.load ('./Data/pmc_word2_vec.gensim')\n"
   ]
  },
  {
   "cell_type": "code",
   "execution_count": null,
   "metadata": {},
   "outputs": [],
   "source": []
  },
  {
   "cell_type": "code",
   "execution_count": 4,
   "metadata": {},
   "outputs": [
    {
     "data": {
      "text/plain": [
       "'for word_text,word_model in  model.wv.vocab.items():\\n    \\n    #model.vocabulary[a]\\n    break'"
      ]
     },
     "execution_count": 4,
     "metadata": {},
     "output_type": "execute_result"
    }
   ],
   "source": [
    "\"\"\"\n",
    "for word_text,word_model in  model.wv.vocab.items():\n",
    "    \n",
    "    #model.vocabulary[a]\n",
    "    break\n",
    "\"\"\""
   ]
  },
  {
   "cell_type": "code",
   "execution_count": 5,
   "metadata": {},
   "outputs": [],
   "source": [
    "#word_model.count"
   ]
  },
  {
   "cell_type": "code",
   "execution_count": 19,
   "metadata": {},
   "outputs": [],
   "source": [
    "wordCountS=pd.Series({word_text:word_model.count for word_text,word_model in  model.wv.vocab.items()})"
   ]
  },
  {
   "cell_type": "code",
   "execution_count": 20,
   "metadata": {},
   "outputs": [
    {
     "data": {
      "text/plain": [
       "7"
      ]
     },
     "execution_count": 20,
     "metadata": {},
     "output_type": "execute_result"
    }
   ],
   "source": [
    "wordCountS.loc['r2-f']"
   ]
  },
  {
   "cell_type": "code",
   "execution_count": null,
   "metadata": {},
   "outputs": [],
   "source": [
    "model.wv.most_similar(positive=['smartseq','smartseq2','hic'])\n"
   ]
  },
  {
   "cell_type": "code",
   "execution_count": 181,
   "metadata": {},
   "outputs": [],
   "source": [
    "with open('tmp.txt','w') as f:\n",
    "    f.write('\\n'.join(pmc_word2_vecDf_clean.index.astype(str).values))"
   ]
  },
  {
   "cell_type": "code",
   "execution_count": 182,
   "metadata": {
    "scrolled": true
   },
   "outputs": [],
   "source": [
    "pmc_word2_vecDf_clean.index=pmc_word2_vecDf_clean.index.astype(str)"
   ]
  },
  {
   "cell_type": "code",
   "execution_count": 183,
   "metadata": {},
   "outputs": [],
   "source": [
    "m_word_count=pmc_word2_vecDf_clean.index.isin(wordCountS.index[wordCountS>20])\n",
    "hitDf=pmc_word2_vecDf_clean[pmc_word2_vecDf_clean.index.str.contains('^smart',case=False)&m_word_count]"
   ]
  },
  {
   "cell_type": "code",
   "execution_count": 184,
   "metadata": {},
   "outputs": [],
   "source": [
    "from sklearn import manifold ,decomposition\n",
    "import matplotlib.pyplot as plt\n",
    "\n",
    "dimensionReduction=manifold.TSNE()\n",
    "#dimensionReduction=decomposition.PCA(n_components=2)\n",
    "\n",
    "M=dimensionReduction.fit_transform(hitDf)\n",
    "\n",
    "tmpDf=pd.DataFrame(data=M,index=hitDf.index)\n",
    "\n",
    "sns.clustermap(data=hitDf.T.corr(),metric='cosine',z_score=True)\n",
    "\n",
    "sns.clustermap(data=hitDf.T.corr(),metric='cosine',z_score=True)\n",
    "\n",
    "fig,ax=plt.subplots()\n",
    "tmpDf.plot(x=0,y=1,kind='scatter',ax=ax,s=0)\n",
    "for name,row in tmpDf.iterrows():\n",
    "    ax.annotate(xy=(row[0],row[1]),s=name)\n",
    "    "
   ]
  },
  {
   "cell_type": "code",
   "execution_count": null,
   "metadata": {},
   "outputs": [],
   "source": []
  },
  {
   "cell_type": "code",
   "execution_count": 14,
   "metadata": {},
   "outputs": [
    {
     "name": "stderr",
     "output_type": "stream",
     "text": [
      "/cellar/users/btsui/Data/miniconda3/lib/python3.6/site-packages/ipykernel_launcher.py:6: FutureWarning: \n",
      "Passing list-likes to .loc or [] with any missing label will raise\n",
      "KeyError in the future, you can use .reindex() as an alternative.\n",
      "\n",
      "See the documentation here:\n",
      "https://pandas.pydata.org/pandas-docs/stable/indexing.html#deprecate-loc-reindex-listlike\n",
      "  \n"
     ]
    }
   ],
   "source": [
    "smartDf=pmc_word2_vecDf_clean.loc[['smart', 'smartphone', 'smartphones', 'smart-seq2', 'smart,',\n",
    "       'smartpool', 'smartphone-based', 'smartphone-assisted', '(smart)',\n",
    "       'smarter', 'smartphone,', 'smartphones,', 'smartwatch', 'smartt',\n",
    "       'henderson-smart', 'smartm', 'smartphone.', 'smartphones.',\n",
    "       'smartwatch.', 'smartwatch,', 'smartseq2', 'cutsmart', '(smart',\n",
    "       'smartwatches']].dropna()"
   ]
  },
  {
   "cell_type": "code",
   "execution_count": 18,
   "metadata": {},
   "outputs": [
    {
     "data": {
      "text/plain": [
       "<seaborn.matrix.ClusterGrid at 0x2b5d6415ec88>"
      ]
     },
     "execution_count": 18,
     "metadata": {},
     "output_type": "execute_result"
    },
    {
     "data": {
      "image/png": "[encoded data removed]",
      "text/plain": [
       "<Figure size 720x720 with 4 Axes>"
      ]
     },
     "metadata": {},
     "output_type": "display_data"
    }
   ],
   "source": [
    "sns.clustermap(smartDf.T.corr())"
   ]
  },
  {
   "cell_type": "code",
   "execution_count": null,
   "metadata": {},
   "outputs": [],
   "source": [
    "\n",
    "pmc_word2_vecDf_sub=pmc_word2_vecDf_clean[pmc_word2_vecDf_clean.index.str.contains('smart').fillna(False).values]\n",
    "\n",
    "smartDf=pmc_word2_vecDf_sub.T"
   ]
  },
  {
   "cell_type": "code",
   "execution_count": null,
   "metadata": {},
   "outputs": [],
   "source": [
    "corrDf=smartDf.corr()\n"
   ]
  },
  {
   "cell_type": "code",
   "execution_count": 9,
   "metadata": {},
   "outputs": [
    {
     "data": {
      "text/plain": [
       "(100, 14)"
      ]
     },
     "execution_count": 9,
     "metadata": {},
     "output_type": "execute_result"
    }
   ],
   "source": [
    "smartDf.shape"
   ]
  },
  {
   "cell_type": "code",
   "execution_count": null,
   "metadata": {},
   "outputs": [],
   "source": [
    "#corrDf.head()"
   ]
  },
  {
   "cell_type": "code",
   "execution_count": 4,
   "metadata": {},
   "outputs": [],
   "source": [
    "print (smartDf.dtypes)"
   ]
  },
  {
   "cell_type": "code",
   "execution_count": 3,
   "metadata": {},
   "outputs": [
    {
     "name": "stdout",
     "output_type": "stream",
     "text": [
      "(14, 14)\n"
     ]
    }
   ],
   "source": [
    "print (corrDf.shape)\n",
    "\n",
    "corrDf.to_csv('~/corrDf.csv')"
   ]
  },
  {
   "cell_type": "code",
   "execution_count": 1,
   "metadata": {},
   "outputs": [],
   "source": [
    "#!echo ~/Data/DEEP_NLP/NLP_spacy/"
   ]
  },
  {
   "cell_type": "code",
   "execution_count": null,
   "metadata": {},
   "outputs": [],
   "source": [
    "!cp /data/cellardata/users/btsui/DEEP_NLP/NLP_spacy "
   ]
  }
 ],
 "metadata": {
  "kernelspec": {
   "display_name": "Python 3",
   "language": "python",
   "name": "python3"
  },
  "language_info": {
   "codemirror_mode": {
    "name": "ipython",
    "version": 3
   },
   "file_extension": ".py",
   "mimetype": "text/x-python",
   "name": "python",
   "nbconvert_exporter": "python",
   "pygments_lexer": "ipython3",
   "version": "3.6.5"
  }
 },
 "nbformat": 4,
 "nbformat_minor": 2
}
