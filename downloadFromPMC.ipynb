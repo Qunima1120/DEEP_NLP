{
 "cells": [
  {
   "cell_type": "code",
   "execution_count": 1,
   "metadata": {},
   "outputs": [],
   "source": [
    "import os\n",
    "from tqdm import tqdm"
   ]
  },
  {
   "cell_type": "code",
   "execution_count": 13,
   "metadata": {},
   "outputs": [],
   "source": [
    "#!ls /nrnb/users/btsui/Data/DEEP_NLP/pubmed/"
   ]
  },
  {
   "cell_type": "code",
   "execution_count": 4,
   "metadata": {},
   "outputs": [],
   "source": [
    "dataDir='/nrnb/users/btsui/Data/DEEP_NLP/pmc/'"
   ]
  },
  {
   "cell_type": "code",
   "execution_count": 5,
   "metadata": {},
   "outputs": [
    {
     "data": {
      "text/plain": [
       "0"
      ]
     },
     "execution_count": 5,
     "metadata": {},
     "output_type": "execute_result"
    }
   ],
   "source": [
    "os.system('mkdir -p '+dataDir)\n",
    "\n",
    "os.chdir(dataDir)"
   ]
  },
  {
   "cell_type": "markdown",
   "metadata": {},
   "source": [
    "### download all the pubmed papers\n",
    "\n",
    "we used a range to simplify the situation \n",
    "\n",
    "range is available on ftp://ftp.ncbi.nlm.nih.gov/pub/pmc/manuscript/\n",
    "\n",
    "take 10 mins per tars"
   ]
  },
  {
   "cell_type": "code",
   "execution_count": 8,
   "metadata": {},
   "outputs": [],
   "source": [
    "myL=list( range(1,7))"
   ]
  },
  {
   "cell_type": "code",
   "execution_count": 9,
   "metadata": {},
   "outputs": [
    {
     "name": "stderr",
     "output_type": "stream",
     "text": [
      " 17%|█▋        | 1/6 [00:01<00:06,  1.22s/it]"
     ]
    },
    {
     "name": "stdout",
     "output_type": "stream",
     "text": [
      "0\n"
     ]
    },
    {
     "name": "stderr",
     "output_type": "stream",
     "text": [
      "\r",
      " 33%|███▎      | 2/6 [01:14<02:28, 37.07s/it]"
     ]
    },
    {
     "name": "stdout",
     "output_type": "stream",
     "text": [
      "0\n"
     ]
    },
    {
     "name": "stderr",
     "output_type": "stream",
     "text": [
      "\r",
      " 50%|█████     | 3/6 [03:27<03:27, 69.32s/it]"
     ]
    },
    {
     "name": "stdout",
     "output_type": "stream",
     "text": [
      "0\n"
     ]
    },
    {
     "name": "stderr",
     "output_type": "stream",
     "text": [
      "\r",
      " 67%|██████▋   | 4/6 [05:26<02:43, 81.64s/it]"
     ]
    },
    {
     "name": "stdout",
     "output_type": "stream",
     "text": [
      "0\n"
     ]
    },
    {
     "name": "stderr",
     "output_type": "stream",
     "text": [
      "\r",
      " 83%|████████▎ | 5/6 [06:28<01:17, 77.65s/it]"
     ]
    },
    {
     "name": "stdout",
     "output_type": "stream",
     "text": [
      "0\n"
     ]
    },
    {
     "name": "stderr",
     "output_type": "stream",
     "text": [
      "\r",
      "100%|██████████| 6/6 [06:29<00:00, 64.98s/it]"
     ]
    },
    {
     "name": "stdout",
     "output_type": "stream",
     "text": [
      "0\n"
     ]
    },
    {
     "name": "stderr",
     "output_type": "stream",
     "text": [
      "\n"
     ]
    }
   ],
   "source": [
    "for myI in tqdm(myL):\n",
    "    cmd='wget  ftp://ftp.ncbi.nlm.nih.gov/pub/pmc/manuscript/PMC00{}XXXXXX.txt.tar.gz'.format(myI)\n",
    "    print (os.system(cmd))"
   ]
  },
  {
   "cell_type": "code",
   "execution_count": 10,
   "metadata": {
    "scrolled": true
   },
   "outputs": [],
   "source": [
    "#cmd"
   ]
  },
  {
   "cell_type": "code",
   "execution_count": null,
   "metadata": {},
   "outputs": [
    {
     "name": "stderr",
     "output_type": "stream",
     "text": [
      "\r",
      "  0%|          | 0/6 [00:00<?, ?it/s]"
     ]
    },
    {
     "name": "stdout",
     "output_type": "stream",
     "text": [
      "0\n"
     ]
    }
   ],
   "source": [
    "for myI in tqdm(myL):\n",
    "    myCmd='tar --no-overwrite-dir -xvzf  PMC00{}XXXXXX.txt.tar.gz'.format(myI)\n",
    "    print (os.system(myCmd))"
   ]
  },
  {
   "cell_type": "code",
   "execution_count": null,
   "metadata": {},
   "outputs": [],
   "source": [
    "#!tar -xvzf --no-overwrite-dir PMC006XXXXXX.txt.tar.gz"
   ]
  },
  {
   "cell_type": "code",
   "execution_count": null,
   "metadata": {},
   "outputs": [],
   "source": [
    "#%%bash \n",
    "#cd ./Data/"
   ]
  },
  {
   "cell_type": "code",
   "execution_count": 16,
   "metadata": {},
   "outputs": [],
   "source": [
    "#!rm pubmed18n0929.xml.gz"
   ]
  },
  {
   "cell_type": "code",
   "execution_count": 1,
   "metadata": {},
   "outputs": [
    {
     "name": "stdout",
     "output_type": "stream",
     "text": [
      "GoogleNews-vectors-negative300.bin.gz\r\n",
      "NCBI_harmonized_name_df.tsv\r\n",
      "NCIT_table.pickle\r\n",
      "PMC-ids.csv.gz\r\n",
      "PMC-ids.csv.gz.1\r\n",
      "PubMed-w2v.bin\r\n",
      "PubMed-w2v.bin.1\r\n",
      "hmaps_batch\r\n",
      "medtag\r\n",
      "medtag.tar.gz\r\n",
      "pmc_word2_vec.gensim\r\n",
      "pmc_word2_vec.gensim.trainables.syn1neg.npy\r\n",
      "pmc_word2_vec.gensim.wv.vectors.npy\r\n",
      "pmc_word2_vec.pandas.threshold.10.pickle\r\n",
      "pmc_word2_vec.pandas.threshold.100.pickle\r\n",
      "pmc_word2_vec.pandas.threshold.200.pickle\r\n",
      "pmc_word2_vec.txt\r\n",
      "spacy_bio_nlp\r\n",
      "validation_lines.txt\r\n",
      "wikipedia-pubmed-and-PMC-w2v.bin\r\n",
      "wikipedia-pubmed-and-PMC-w2v.txt\r\n"
     ]
    }
   ],
   "source": [
    "!ls ./Data/"
   ]
  },
  {
   "cell_type": "code",
   "execution_count": 15,
   "metadata": {},
   "outputs": [],
   "source": [
    "#import keras"
   ]
  },
  {
   "cell_type": "code",
   "execution_count": null,
   "metadata": {},
   "outputs": [],
   "source": []
  }
 ],
 "metadata": {
  "kernelspec": {
   "display_name": "Python 3",
   "language": "python",
   "name": "python3"
  },
  "language_info": {
   "codemirror_mode": {
    "name": "ipython",
    "version": 3
   },
   "file_extension": ".py",
   "mimetype": "text/x-python",
   "name": "python",
   "nbconvert_exporter": "python",
   "pygments_lexer": "ipython3",
   "version": "3.6.6"
  }
 },
 "nbformat": 4,
 "nbformat_minor": 2
}
