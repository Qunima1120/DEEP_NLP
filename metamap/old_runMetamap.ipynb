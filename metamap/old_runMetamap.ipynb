{
 "cells": [
  {
   "cell_type": "code",
   "execution_count": null,
   "metadata": {},
   "outputs": [],
   "source": [
    "#!pip install networkx"
   ]
  },
  {
   "cell_type": "code",
   "execution_count": 8,
   "metadata": {},
   "outputs": [],
   "source": [
    "__author__ = 'btsui'\n",
    "import subprocess as sp\n",
    "import os\n",
    "import sys\n",
    "import time\n",
    "import metamapParam\n",
    "#from SemanticNet import  SemanticNet\n",
    "metamapBinDir='/cellar/users/btsui/Program/public_mm/bin//'\n"
   ]
  },
  {
   "cell_type": "code",
   "execution_count": 10,
   "metadata": {},
   "outputs": [
    {
     "data": {
      "text/plain": [
       "0"
      ]
     },
     "execution_count": 10,
     "metadata": {},
     "output_type": "execute_result"
    }
   ],
   "source": [
    "sp.call([metamapBinDir+\"skrmedpostctl\",\"start\"])\n",
    "sp.call([metamapBinDir+\"wsdserverctl\",\"start\"])"
   ]
  },
  {
   "cell_type": "code",
   "execution_count": 15,
   "metadata": {},
   "outputs": [],
   "source": [
    "params=['-I']\n",
    "\n",
    "myParams=params+metamapParam.MetaMapExtraParams"
   ]
  },
  {
   "cell_type": "code",
   "execution_count": 18,
   "metadata": {},
   "outputs": [],
   "source": [
    "import pandas as pd"
   ]
  },
  {
   "cell_type": "code",
   "execution_count": 20,
   "metadata": {},
   "outputs": [],
   "source": [
    "inDir=\"../Data/validation_data/validation_description_1535393121.334881.txt\""
   ]
  },
  {
   "cell_type": "code",
   "execution_count": 24,
   "metadata": {},
   "outputs": [],
   "source": [
    "metamapInput=inDir.replace('.txt','.single_space.txt')"
   ]
  },
  {
   "cell_type": "code",
   "execution_count": 25,
   "metadata": {},
   "outputs": [],
   "source": [
    "with  open(inDir,'r') as f,  open(metamapInput,'w') as wf:\n",
    "    for l in f:\n",
    "        wf.write(l+'\\n')"
   ]
  },
  {
   "cell_type": "code",
   "execution_count": 26,
   "metadata": {},
   "outputs": [],
   "source": [
    "#!head ../Data/validation_data/validation_description_1535393121.334881.single_space.txt"
   ]
  },
  {
   "cell_type": "code",
   "execution_count": 28,
   "metadata": {},
   "outputs": [],
   "source": [
    "#[metamapBinDir+\"metamap\"]+myParams+[ fname]"
   ]
  },
  {
   "cell_type": "code",
   "execution_count": 30,
   "metadata": {},
   "outputs": [
    {
     "data": {
      "text/plain": [
       "127"
      ]
     },
     "execution_count": 30,
     "metadata": {},
     "output_type": "execute_result"
    }
   ],
   "source": [
    "\n",
    "        #sp.call([self.metamapBinDir+\"metamap\"]+myParams+['-J',\",\".join(childrenAbbr)]+[ fname])\n",
    "sp.call([metamapBinDir+\"metamap\"]+myParams+[ metamapInput])"
   ]
  },
  {
   "cell_type": "code",
   "execution_count": 33,
   "metadata": {},
   "outputs": [
    {
     "data": {
      "text/plain": [
       "'/cellar/users/btsui/Program/public_mm/bin//metamap -I --XMLf1 -R NCI ../Data/validation_data/validation_description_1535393121.334881.single_space.txt'"
      ]
     },
     "execution_count": 33,
     "metadata": {},
     "output_type": "execute_result"
    }
   ],
   "source": [
    "' '.join([metamapBinDir+\"metamap\"]+myParams+[ metamapInput])"
   ]
  },
  {
   "cell_type": "code",
   "execution_count": 37,
   "metadata": {},
   "outputs": [
    {
     "name": "stdout",
     "output_type": "stream",
     "text": [
      "/cellar/users/btsui/Program/public_mm/bin/SKRrun.13 /cellar/users/btsui/Program/public_mm/bin/metamap13.BINARY.Linux -L 2013 --lexicon db -Z 2013AB -I --XMLf1 ../Data/validation_data/validation_description_1535393121.334881.single_space.txt\r\n",
      "/cellar/users/btsui/Program/public_mm/bin/metamap13.BINARY.Linux -L 2013 --lexicon db -Z 2013AB -I --XMLf1 ../Data/validation_data/validation_description_1535393121.334881.single_space.txt\r\n",
      "/cellar/users/btsui/Program/public_mm/bin/SKRrun.13: line 124: /cellar/users/btsui/Program/public_mm/bin/metamap13.BINARY.Linux: No such file or directory\r\n"
     ]
    }
   ],
   "source": [
    "!/cellar/users/btsui/Program/public_mm/bin//metamap -I --XMLf1 ../Data/validation_data/validation_description_1535393121.334881.single_space.txt"
   ]
  },
  {
   "cell_type": "code",
   "execution_count": 38,
   "metadata": {},
   "outputs": [
    {
     "name": "stdout",
     "output_type": "stream",
     "text": [
      "/data/cellardata/users/btsui/DEEP_NLP/NLP_spacy/metamap/../Data/validation_data/validation_description_1535393121.334881.single_space.txt\r\n"
     ]
    }
   ],
   "source": [
    "!echo $PWD/../Data/validation_data/validation_description_1535393121.334881.single_space.txt"
   ]
  },
  {
   "cell_type": "code",
   "execution_count": 6,
   "metadata": {},
   "outputs": [],
   "source": [
    "metamapBinDir='/cellar/users/btsui/Program/public_mm/bin//'\n",
    "params=['-I']\n",
    "outputPostfix='.out'\n",
    "scriptName='metamapWrapper.sh'\n",
    "def __init__(self):\n",
    "    print ('metamap')\n",
    "\n",
    "#def process(self,fname):\n",
    "    #myParams=[]\n",
    "    #SemNet=SemanticNet()\n",
    "    #childrenAbbr=reduce(lambda a,s: a.union(set(SemNet.getChildren(s,abbr=True))), metamapParam.MetaMapSemantics,set() )\n",
    "\n",
    "    myParams=self.params+metamapParam.MetaMapExtraParams\n",
    "    print ('processing : ',fname)\n",
    "    #default params\n",
    "\n",
    "    if True or ( not ( os.path.isfile( fname+self.outputPostfix) and os.stat(fname+self.outputPostfix).st_size>5000) ):\n",
    "        sp.call([self.metamapBinDir+\"skrmedpostctl\",\"start\"])\n",
    "        sp.call([self.metamapBinDir+\"wsdserverctl\",\"start\"])\n",
    "        #sp.call([self.metamapBinDir+\"metamap\"]+myParams+['-J',\",\".join(childrenAbbr)]+[ fname])\n",
    "        sp.call([self.metamapBinDir+\"metamap\"]+myParams+[ fname])\n",
    "    else:\n",
    "        print ('memoised')\n"
   ]
  },
  {
   "cell_type": "code",
   "execution_count": null,
   "metadata": {},
   "outputs": [],
   "source": []
  }
 ],
 "metadata": {
  "kernelspec": {
   "display_name": "Python [conda env:deep_nlp_cpu]",
   "language": "python",
   "name": "conda-env-deep_nlp_cpu-py"
  }
 },
 "nbformat": 4,
 "nbformat_minor": 2
}
