{
 "cells": [
  {
   "cell_type": "code",
   "execution_count": null,
   "metadata": {},
   "outputs": [],
   "source": [
    "#!pip install networkx"
   ]
  },
  {
   "cell_type": "code",
   "execution_count": 1,
   "metadata": {},
   "outputs": [
    {
     "ename": "ModuleNotFoundError",
     "evalue": "No module named 'networkx'",
     "output_type": "error",
     "traceback": [
      "\u001b[0;31m---------------------------------------------------------------------------\u001b[0m",
      "\u001b[0;31mModuleNotFoundError\u001b[0m                       Traceback (most recent call last)",
      "\u001b[0;32m<ipython-input-1-c366cd790ca2>\u001b[0m in \u001b[0;36m<module>\u001b[0;34m()\u001b[0m\n\u001b[1;32m      5\u001b[0m \u001b[0;32mimport\u001b[0m \u001b[0mtime\u001b[0m\u001b[0;34m\u001b[0m\u001b[0m\n\u001b[1;32m      6\u001b[0m \u001b[0;32mimport\u001b[0m \u001b[0mmetamapParam\u001b[0m\u001b[0;34m\u001b[0m\u001b[0m\n\u001b[0;32m----> 7\u001b[0;31m \u001b[0;32mfrom\u001b[0m \u001b[0mSemanticNet\u001b[0m \u001b[0;32mimport\u001b[0m  \u001b[0mSemanticNet\u001b[0m\u001b[0;34m\u001b[0m\u001b[0m\n\u001b[0m",
      "\u001b[0;32m~/Project/METAMAP/code/metamap/SemanticNet.py\u001b[0m in \u001b[0;36m<module>\u001b[0;34m()\u001b[0m\n\u001b[1;32m      2\u001b[0m \u001b[0;32mimport\u001b[0m \u001b[0msubprocess\u001b[0m \u001b[0;32mas\u001b[0m \u001b[0msp\u001b[0m\u001b[0;34m\u001b[0m\u001b[0m\n\u001b[1;32m      3\u001b[0m \u001b[0;32mimport\u001b[0m \u001b[0mos\u001b[0m\u001b[0;34m\u001b[0m\u001b[0m\n\u001b[0;32m----> 4\u001b[0;31m \u001b[0;32mimport\u001b[0m \u001b[0mnetworkx\u001b[0m \u001b[0;32mas\u001b[0m \u001b[0mnx\u001b[0m\u001b[0;34m\u001b[0m\u001b[0m\n\u001b[0m\u001b[1;32m      5\u001b[0m \u001b[0;32mclass\u001b[0m \u001b[0mSemanticNet\u001b[0m\u001b[0;34m:\u001b[0m\u001b[0;34m\u001b[0m\u001b[0m\n\u001b[1;32m      6\u001b[0m     \u001b[0mSULink\u001b[0m\u001b[0;34m=\u001b[0m\u001b[0;34m'http://semanticnetwork.nlm.nih.gov/Download/UnitFile/SU'\u001b[0m\u001b[0;34m\u001b[0m\u001b[0m\n",
      "\u001b[0;31mModuleNotFoundError\u001b[0m: No module named 'networkx'"
     ]
    }
   ],
   "source": [
    "__author__ = 'btsui'\n",
    "import subprocess as sp\n",
    "import os\n",
    "import sys\n",
    "import time\n",
    "import metamapParam\n",
    "from SemanticNet import  SemanticNet"
   ]
  },
  {
   "cell_type": "code",
   "execution_count": 2,
   "metadata": {},
   "outputs": [
    {
     "name": "stdout",
     "output_type": "stream",
     "text": [
      "Requirement already satisfied: networkx in /cellar/users/btsui/anaconda3/lib/python3.6/site-packages (2.1)\r\n",
      "Requirement already satisfied: decorator>=4.1.0 in /cellar/users/btsui/anaconda3/lib/python3.6/site-packages (from networkx) (4.3.0)\r\n"
     ]
    }
   ],
   "source": []
  },
  {
   "cell_type": "code",
   "execution_count": null,
   "metadata": {},
   "outputs": [],
   "source": [
    "metamapBinDir='/cellar/users/btsui/Program/public_mm/bin//'\n",
    "params=['-I']\n",
    "outputPostfix='.out'\n",
    "scriptName='metamapWrapper.sh'\n",
    "def __init__(self):\n",
    "    print 'metamap'\n",
    "\n",
    "def process(self,fname):\n",
    "    #myParams=[]\n",
    "    SemNet=SemanticNet()\n",
    "    childrenAbbr=reduce(lambda a,s: a.union(set(SemNet.getChildren(s,abbr=True))), metamapParam.MetaMapSemantics,set() )\n",
    "\n",
    "    myParams=self.params+metamapParam.MetaMapExtraParams\n",
    "    print 'processing : ',fname\n",
    "    #default params\n",
    "\n",
    "    if True or ( not ( os.path.isfile( fname+self.outputPostfix) and os.stat(fname+self.outputPostfix).st_size>5000) ):\n",
    "        sp.call([self.metamapBinDir+\"skrmedpostctl\",\"start\"])\n",
    "        sp.call([self.metamapBinDir+\"wsdserverctl\",\"start\"])\n",
    "        #sp.call([self.metamapBinDir+\"metamap\"]+myParams+['-J',\",\".join(childrenAbbr)]+[ fname])\n",
    "        sp.call([self.metamapBinDir+\"metamap\"]+myParams+[ fname])\n",
    "    else:\n",
    "        print 'memoised'\n"
   ]
  },
  {
   "cell_type": "code",
   "execution_count": null,
   "metadata": {},
   "outputs": [],
   "source": []
  }
 ],
 "metadata": {
  "kernelspec": {
   "display_name": "Python [conda env:deep_nlp_cpu]",
   "language": "python",
   "name": "conda-env-deep_nlp_cpu-py"
  }
 },
 "nbformat": 4,
 "nbformat_minor": 2
}
