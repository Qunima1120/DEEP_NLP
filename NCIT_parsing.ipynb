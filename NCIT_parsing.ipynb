{
 "cells": [
  {
   "cell_type": "code",
   "execution_count": 1,
   "metadata": {},
   "outputs": [],
   "source": [
    "%matplotlib inline\n",
    "import matplotlib.pyplot as plt\n",
    "#plt.axis('off')\n",
    "\n",
    "#!cp /cellar/users/btsui/Downloads/Thesaurus.txt . "
   ]
  },
  {
   "cell_type": "markdown",
   "metadata": {},
   "source": [
    "###\n",
    "\n",
    "objective: map the srs freetext to NCIT\n",
    "\n",
    "copied from \n",
    "https://evs.nci.nih.gov/ftp1/NCI_Thesaurus/ReadMe.txt: \n",
    "\n",
    "\n",
    "\" \n",
    "If a \"parents\", \"synonyms\", \"display name\", or \"concept status\" field contains multiple entries, these are pipe-delimited.\n",
    "For root concepts without \"parents\", this field contains the string \"root_node\".  The\n",
    "first entry in the \"synonyms\" field is the preferred name of the concept.  If no preferred\n",
    "name has been stated for the concept, this field contains the concept name.  The \"definition\"\n",
    "field contains only one definition if more than one definition is associated with the concept;\n",
    "not all concepts contain definitions.  A \"display_name\" or \"concept status\" may contain zero values.\n",
    "The \"semantic type\" field is guaranteed to contain one or more values.\n",
    "\"\n",
    "\n",
    "\n",
    "First in synonym is the official name used on the NCIT website. \n",
    "\n",
    "Thesaurus.txt is pulled from  https://evs.nci.nih.gov/ftp1/NCI_Thesaurus/ReadMe.txt"
   ]
  },
  {
   "cell_type": "code",
   "execution_count": 2,
   "metadata": {},
   "outputs": [],
   "source": [
    "import pandas as pd\n",
    "import seaborn as sns\n",
    "sns.set_style('white')\n"
   ]
  },
  {
   "cell_type": "code",
   "execution_count": 3,
   "metadata": {},
   "outputs": [],
   "source": [
    "ncitT=pd.read_csv('Thesaurus.txt',sep='\\t',header=None)"
   ]
  },
  {
   "cell_type": "code",
   "execution_count": 6,
   "metadata": {},
   "outputs": [],
   "source": [
    "#ncitT['4']"
   ]
  },
  {
   "cell_type": "code",
   "execution_count": 7,
   "metadata": {},
   "outputs": [],
   "source": [
    "#ncitT"
   ]
  },
  {
   "cell_type": "code",
   "execution_count": 8,
   "metadata": {},
   "outputs": [],
   "source": [
    "col=['code',\n",
    " 'concept name',\n",
    " 'parents',\n",
    " 'synonyms',\n",
    " 'definition',\n",
    " 'display name',\n",
    " 'concept status',\n",
    " 'semantic type']\n",
    "ncitT.columns=col"
   ]
  },
  {
   "cell_type": "code",
   "execution_count": 11,
   "metadata": {},
   "outputs": [],
   "source": [
    "#ncitT['display name']"
   ]
  },
  {
   "cell_type": "markdown",
   "metadata": {},
   "source": [
    "###\n",
    "\n",
    "is any of the code re"
   ]
  },
  {
   "cell_type": "markdown",
   "metadata": {},
   "source": []
  },
  {
   "cell_type": "code",
   "execution_count": 12,
   "metadata": {},
   "outputs": [],
   "source": [
    "ignoreConceptStatus=['Retired_Concept', 'Obsolete_Concept', 'Header_Concept',\n",
    "       'Provisional_Concept', 'Header_Concept|Retired_Concept',\n",
    "       'Header_Concept|Obsolete_Concept']\n",
    "m_concept=~ncitT['concept status'].isin(ignoreConceptStatus)\n",
    "m=m_concept\n",
    "ncitSubDf=ncitT[m]"
   ]
  },
  {
   "cell_type": "code",
   "execution_count": 13,
   "metadata": {},
   "outputs": [],
   "source": [
    "myIndexOrder=['code','concept name','parents','definition','semantic type']\n",
    "ncitSubDf_dedup=ncitSubDf#.drop_duplicates(myIndexOrder)\n",
    "tmpS=ncitSubDf_dedup.set_index(myIndexOrder)['synonyms']"
   ]
  },
  {
   "cell_type": "code",
   "execution_count": 28,
   "metadata": {},
   "outputs": [],
   "source": [
    "#ncitSubDf_dedup"
   ]
  },
  {
   "cell_type": "code",
   "execution_count": 14,
   "metadata": {},
   "outputs": [],
   "source": [
    "#131549\n",
    "#ncitSubDf_dedup"
   ]
  },
  {
   "cell_type": "code",
   "execution_count": 15,
   "metadata": {},
   "outputs": [],
   "source": [
    "tmpS2=tmpS.str.split('|',expand=True).stack()"
   ]
  },
  {
   "cell_type": "code",
   "execution_count": 16,
   "metadata": {},
   "outputs": [],
   "source": [
    "tmpDf=tmpS2.to_frame()"
   ]
  },
  {
   "cell_type": "code",
   "execution_count": 17,
   "metadata": {},
   "outputs": [],
   "source": [
    "tmpDf.index.names=myIndexOrder+['n_th synonym']"
   ]
  },
  {
   "cell_type": "code",
   "execution_count": null,
   "metadata": {},
   "outputs": [],
   "source": []
  },
  {
   "cell_type": "code",
   "execution_count": 18,
   "metadata": {},
   "outputs": [],
   "source": [
    "tmpDf.columns=['synonyms']"
   ]
  },
  {
   "cell_type": "code",
   "execution_count": 35,
   "metadata": {},
   "outputs": [
    {
     "data": {
      "text/plain": [
       "array([list(['Percutaneous', 'Coronary', 'Intervention', 'for', 'ST', 'Elevation', 'Myocardial', 'Infarction-Stable-Over', '12', 'Hours', 'From', 'Symptom', 'Onset']),\n",
       "       list(['PERCUTANEOUS', 'CORONARY', 'INTERVENTION', '(PCI)', 'FOR', 'ST', 'ELEVATION', 'MYOCARDIAL', 'INFARCTION', '(STEMI)', '(STABLE,', '>12', 'HRS', 'FROM', 'SYMPTOM', 'ONSET)']),\n",
       "       list(['Percutaneous', 'Coronary', 'Intervention', 'for', 'ST', 'Elevation', 'Myocardial', 'Infarction-Stable', 'After', 'Successful', 'Full-Dose', 'Thrombolytic', 'Therapy']),\n",
       "       ..., list(['Retired', 'Concept', '2009']),\n",
       "       list(['Retired', 'Concept', '2010']),\n",
       "       list(['Retired', 'Concept', '2011'])], dtype=object)"
      ]
     },
     "execution_count": 35,
     "metadata": {},
     "output_type": "execute_result"
    }
   ],
   "source": [
    "tmpDf['synonyms'].str.split(' ',expand=False).values"
   ]
  },
  {
   "cell_type": "code",
   "execution_count": 14,
   "metadata": {},
   "outputs": [],
   "source": [
    "tmpDf.to_pickle('./Data/NCIT_table.pickle')"
   ]
  },
  {
   "cell_type": "code",
   "execution_count": 41,
   "metadata": {},
   "outputs": [],
   "source": [
    "#tmpDf"
   ]
  },
  {
   "cell_type": "markdown",
   "metadata": {},
   "source": [
    "## scratch"
   ]
  },
  {
   "cell_type": "code",
   "execution_count": 27,
   "metadata": {},
   "outputs": [
    {
     "data": {
      "text/html": [
       "<div>\n",
       "<style scoped>\n",
       "    .dataframe tbody tr th:only-of-type {\n",
       "        vertical-align: middle;\n",
       "    }\n",
       "\n",
       "    .dataframe tbody tr th {\n",
       "        vertical-align: top;\n",
       "    }\n",
       "\n",
       "    .dataframe thead th {\n",
       "        text-align: right;\n",
       "    }\n",
       "</style>\n",
       "<table border=\"1\" class=\"dataframe\">\n",
       "  <thead>\n",
       "    <tr style=\"text-align: right;\">\n",
       "      <th></th>\n",
       "      <th></th>\n",
       "      <th></th>\n",
       "      <th></th>\n",
       "      <th></th>\n",
       "      <th></th>\n",
       "      <th>synonyms</th>\n",
       "    </tr>\n",
       "    <tr>\n",
       "      <th>code</th>\n",
       "      <th>concept name</th>\n",
       "      <th>parents</th>\n",
       "      <th>definition</th>\n",
       "      <th>semantic type</th>\n",
       "      <th>n_th synonym</th>\n",
       "      <th></th>\n",
       "    </tr>\n",
       "  </thead>\n",
       "  <tbody>\n",
       "    <tr>\n",
       "      <th>C42680</th>\n",
       "      <th>&lt;http://ncicb.nci.nih.gov/xml/owl/EVS/Thesaurus.owl#C42680&gt;</th>\n",
       "      <th>C20189</th>\n",
       "      <th>A logical or comprehensible arrangement of separate elements; a condition of regular or proper arrangement.</th>\n",
       "      <th>Spatial Concept</th>\n",
       "      <th>0</th>\n",
       "      <td>Order</td>\n",
       "    </tr>\n",
       "    <tr>\n",
       "      <th>C45287</th>\n",
       "      <th>&lt;http://ncicb.nci.nih.gov/xml/owl/EVS/Thesaurus.owl#C45287&gt;</th>\n",
       "      <th>C40098</th>\n",
       "      <th>A taxonomic category between Class and Family.  It is group of organisms that although differing quite a bit among themselves still have a large degree of characteristics in common.</th>\n",
       "      <th>Conceptual Entity</th>\n",
       "      <th>0</th>\n",
       "      <td>Order</td>\n",
       "    </tr>\n",
       "    <tr>\n",
       "      <th>C48906</th>\n",
       "      <th>&lt;http://ncicb.nci.nih.gov/xml/owl/EVS/Thesaurus.owl#C48906&gt;</th>\n",
       "      <th>C25404</th>\n",
       "      <th>The act of requesting that a person, business, or organization supply something in return for payment.</th>\n",
       "      <th>Activity</th>\n",
       "      <th>0</th>\n",
       "      <td>Order</td>\n",
       "    </tr>\n",
       "    <tr>\n",
       "      <th>C54092</th>\n",
       "      <th>&lt;http://ncicb.nci.nih.gov/xml/owl/EVS/Thesaurus.owl#C54092&gt;</th>\n",
       "      <th>C19498</th>\n",
       "      <th>A commercial document used to request someone to supply something in return for payment and providing specifications and quantities.</th>\n",
       "      <th>Intellectual Product</th>\n",
       "      <th>0</th>\n",
       "      <td>Order</td>\n",
       "    </tr>\n",
       "    <tr>\n",
       "      <th>C64219</th>\n",
       "      <th>&lt;http://ncicb.nci.nih.gov/xml/owl/EVS/Thesaurus.owl#C64219&gt;</th>\n",
       "      <th>C53228</th>\n",
       "      <th>A set of elements are rearranged or reindexed in various and different orders. In the rearrangement process, none of the elements are lost, added, or changed.</th>\n",
       "      <th>Qualitative Concept</th>\n",
       "      <th>2</th>\n",
       "      <td>Order</td>\n",
       "    </tr>\n",
       "  </tbody>\n",
       "</table>\n",
       "</div>"
      ],
      "text/plain": [
       "                                                                                                                                                       synonyms\n",
       "code   concept name                                       parents definition                                         semantic type        n_th synonym         \n",
       "C42680 <http://ncicb.nci.nih.gov/xml/owl/EVS/Thesaurus... C20189  A logical or comprehensible arrangement of sepa... Spatial Concept      0               Order\n",
       "C45287 <http://ncicb.nci.nih.gov/xml/owl/EVS/Thesaurus... C40098  A taxonomic category between Class and Family. ... Conceptual Entity    0               Order\n",
       "C48906 <http://ncicb.nci.nih.gov/xml/owl/EVS/Thesaurus... C25404  The act of requesting that a person, business, ... Activity             0               Order\n",
       "C54092 <http://ncicb.nci.nih.gov/xml/owl/EVS/Thesaurus... C19498  A commercial document used to request someone t... Intellectual Product 0               Order\n",
       "C64219 <http://ncicb.nci.nih.gov/xml/owl/EVS/Thesaurus... C53228  A set of elements are rearranged or reindexed i... Qualitative Concept  2               Order"
      ]
     },
     "execution_count": 27,
     "metadata": {},
     "output_type": "execute_result"
    }
   ],
   "source": [
    "tmpDf[tmpDf.synonyms=='Order']"
   ]
  },
  {
   "cell_type": "code",
   "execution_count": 25,
   "metadata": {},
   "outputs": [
    {
     "data": {
      "text/plain": [
       "Finding                                                    18508\n",
       "Intellectual Product                                       14978\n",
       "Gene or Genome                                             11276\n",
       "Neoplastic Process                                         11012\n",
       "Pharmacologic Substance                                    10298\n",
       "Disease or Syndrome                                         4969\n",
       "Amino Acid, Peptide, or Protein                             3726\n",
       "Geographic Area                                             3716\n",
       "Quantitative Concept                                        3319\n",
       "Laboratory Procedure                                        2845\n",
       "Cell or Molecular Dysfunction                               1903\n",
       "Organic Chemical|Pharmacologic Substance                    1889\n",
       "Functional Concept                                          1879\n",
       "Anatomical Structure                                        1871\n",
       "Therapeutic or Preventive Procedure                         1868\n",
       "Qualitative Concept                                         1799\n",
       "Spatial Concept                                             1509\n",
       "Cell                                                        1476\n",
       "Conceptual Entity                                           1392\n",
       "Body Part, Organ, or Organ Component                        1313\n",
       "Amino Acid, Peptide, or Protein|Enzyme                      1292\n",
       "Bacterium                                                   1223\n",
       "Manufactured Object                                         1083\n",
       "Population Group                                            1078\n",
       "Biomedical or Dental Material                                963\n",
       "Laboratory or Test Result                                    916\n",
       "Plant                                                        915\n",
       "Diagnostic Procedure                                         913\n",
       "Temporal Concept                                             853\n",
       "Classification                                               852\n",
       "Amino Acid, Peptide, or Protein|Pharmacologic Substance      830\n",
       "Activity                                                     756\n",
       "Organic Chemical                                             682\n",
       "Tissue                                                       667\n",
       "Event                                                        659\n",
       "Amino Acid, Peptide, or Protein|Immunologic Factor           644\n",
       "Research Activity                                            623\n",
       "Mammal                                                       542\n",
       "Biomedical Occupation or Discipline                          537\n",
       "Chemical Viewed Functionally                                 498\n",
       "Idea or Concept                                              467\n",
       "Amino Acid, Peptide, or Protein|Receptor                     461\n",
       "Health Care Related Organization                             416\n",
       "Phenomenon or Process                                        360\n",
       "Sign or Symptom                                              351\n",
       "Occupation or Discipline                                     348\n",
       "Immunologic Factor|Pharmacologic Substance                   346\n",
       "Nucleic Acid, Nucleoside, or Nucleotide                      340\n",
       "Professional or Occupational Group                           335\n",
       "Cell|Pharmacologic Substance                                 313\n",
       "Name: semantic type, dtype: int64"
      ]
     },
     "execution_count": 25,
     "metadata": {},
     "output_type": "execute_result"
    }
   ],
   "source": [
    "ncitSubDf['semantic type'].value_counts().head(n=50)"
   ]
  },
  {
   "cell_type": "code",
   "execution_count": 109,
   "metadata": {},
   "outputs": [
    {
     "name": "stdout",
     "output_type": "stream",
     "text": [
      "median len of synonyms: 20.0\n"
     ]
    },
    {
     "data": {
      "text/plain": [
       "Text(0.5,0,'synonym length')"
      ]
     },
     "execution_count": 109,
     "metadata": {},
     "output_type": "execute_result"
    },
    {
     "data": {
      "image/png": "[encoded data removed]",
      "text/plain": [
       "<matplotlib.figure.Figure at 0x2b6a226660b8>"
      ]
     },
     "metadata": {},
     "output_type": "display_data"
    }
   ],
   "source": [
    "ax=tmpDf['synonyms'].str.len()[tmpDf['synonyms'].str.len()<200].hist()\n",
    "print (\"median len of synonyms:\",tmpDf['synonyms'].str.len().median())\n",
    "ax.set_ylabel('# of NCIT synonyms')\n",
    "ax.grid(False)\n",
    "\n",
    "ax.set_xlabel('synonym length')"
   ]
  },
  {
   "cell_type": "code",
   "execution_count": 17,
   "metadata": {},
   "outputs": [],
   "source": [
    "tmpDfSub1=tmpDf.groupby(level=['code','n_th synonym']).first()"
   ]
  },
  {
   "cell_type": "code",
   "execution_count": 27,
   "metadata": {},
   "outputs": [],
   "source": [
    "tmpDfSub1"
   ]
  },
  {
   "cell_type": "code",
   "execution_count": 23,
   "metadata": {},
   "outputs": [
    {
     "data": {
      "text/plain": [
       "7.0"
      ]
     },
     "execution_count": 23,
     "metadata": {},
     "output_type": "execute_result"
    }
   ],
   "source": [
    "tmpDf['synonyms'].str.count(' ').quantile(0.95)"
   ]
  },
  {
   "cell_type": "code",
   "execution_count": null,
   "metadata": {},
   "outputs": [],
   "source": []
  }
 ],
 "metadata": {
  "kernelspec": {
   "display_name": "Python 3",
   "language": "python",
   "name": "python3"
  },
  "language_info": {
   "codemirror_mode": {
    "name": "ipython",
    "version": 3
   },
   "file_extension": ".py",
   "mimetype": "text/x-python",
   "name": "python",
   "nbconvert_exporter": "python",
   "pygments_lexer": "ipython3",
   "version": "3.6.6"
  }
 },
 "nbformat": 4,
 "nbformat_minor": 2
}
